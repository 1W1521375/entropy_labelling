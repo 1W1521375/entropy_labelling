{
 "cells": [
  {
   "cell_type": "markdown",
   "metadata": {},
   "source": [
    "## top-R (擬似的実数版top-k)"
   ]
  },
  {
   "cell_type": "code",
   "execution_count": 1,
   "metadata": {},
   "outputs": [
    {
     "name": "stderr",
     "output_type": "stream",
     "text": [
      "Using TensorFlow backend.\n"
     ]
    }
   ],
   "source": [
    "import matplotlib as mpl\n",
    "import matplotlib.pyplot as plt\n",
    "import matplotlib.cm as cm\n",
    "import numpy as np\n",
    "from sklearn.metrics import accuracy_score\n",
    "from sklearn.linear_model import LogisticRegression as LR\n",
    "from keras.datasets import mnist\n",
    "from sklearn.model_selection import train_test_split\n",
    "import itertools\n",
    "from random import shuffle\n",
    "import codecs\n",
    "\n",
    "# import warnings filter\n",
    "from warnings import simplefilter\n",
    "# ignore all future warnings\n",
    "simplefilter(action = 'ignore', category = FutureWarning)"
   ]
  },
  {
   "cell_type": "code",
   "execution_count": 2,
   "metadata": {},
   "outputs": [],
   "source": [
    "def factorial(n):\n",
    "    if n == 0:\n",
    "        return 1\n",
    "    elif n > 0:\n",
    "        return n*factorial(n - 1)\n",
    "    else:\n",
    "        print(\"sth wrong\")"
   ]
  },
  {
   "cell_type": "code",
   "execution_count": 3,
   "metadata": {},
   "outputs": [],
   "source": [
    "# top-k labelling\n",
    "def topk_label(probas, s_cls, k):\n",
    "    l_indexes = probas.argsort()[::-1][:k]\n",
    "    labels = np.array([s_cls[i] for i in l_indexes])\n",
    "    return labels"
   ]
  },
  {
   "cell_type": "code",
   "execution_count": 67,
   "metadata": {},
   "outputs": [],
   "source": [
    "# labelling and evaluating them\n",
    "def topk_scls_eval(part, classes, orig_A, lim_A):\n",
    "    s_cls = classes\n",
    "\n",
    "    # extract dataset of chosen classes\n",
    "    trn_imgs = [img for i, img in enumerate(train_imgs) if train_labels[i] in s_cls]\n",
    "    trn_labels = [label for label in train_labels if label in s_cls]\n",
    "    tst_imgs = [img for i, img in enumerate(test_imgs) if test_labels[i] in s_cls]\n",
    "    tst_labels = [label for label in test_labels if label in s_cls]\n",
    "\n",
    "    # generate an annotator\n",
    "    ann_model = LR().fit(trn_imgs[:orig_A], trn_labels[:orig_A])\n",
    "    \n",
    "    # for top-1.0\n",
    "    if (part == 0):\n",
    "        mul_labels = ann_model.predict(trn_imgs[orig_A:orig_A + lim_A])\n",
    "        # labels score evaluation\n",
    "        score = 0\n",
    "        for label, t_label in zip(mul_labels, trn_labels[orig_A:orig_A + lim_A]):\n",
    "            if (label == t_label):\n",
    "                score += 1\n",
    "        \n",
    "        return (1.0, score*100/len(mul_labels), score*100/lim_A)\n",
    "    \n",
    "    # for top-R (1.05, 1.1, ..., 1.25)\n",
    "    else:\n",
    "        # split data to label into two groups\n",
    "        f_imgs, s_imgs, f_labels, s_labels = train_test_split(trn_imgs[orig_A:orig_A + lim_A], trn_labels[orig_A:orig_A + lim_A], test_size = part/100)\n",
    "        # top-1\n",
    "        f_ann_proba = ann_model.predict_proba(f_imgs)\n",
    "        ord_labels = [topk_label(probas, s_cls, 1) for probas in f_ann_proba]\n",
    "        # top-2\n",
    "        s_ann_proba = ann_model.predict_proba(s_imgs)\n",
    "        top2_labels = [topk_label(probas, s_cls, 2) for probas in s_ann_proba]\n",
    "        # concat top-1 results and top-2 results\n",
    "        mul_labels = ord_labels + top2_labels\n",
    "        \n",
    "        # labels score evaluation\n",
    "        score = 0\n",
    "        for labels, t_label in zip(mul_labels, f_labels + s_labels):\n",
    "            for l in labels:\n",
    "                if (l == t_label):\n",
    "                    score += 1\n",
    "\n",
    "        m_labels = []\n",
    "        for labels in mul_labels:\n",
    "             [m_labels.append(l) for l in labels]                \n",
    "                    \n",
    "        return (len(m_labels)/lim_A, score*100/len(m_labels), score*100/lim_A)"
   ]
  },
  {
   "cell_type": "code",
   "execution_count": 6,
   "metadata": {},
   "outputs": [],
   "source": [
    "# loading MNIST\n",
    "(train_images, train_labels), (test_images, test_labels) = mnist.load_data()\n",
    "train_imgs = np.array([x.ravel() for x in train_images])\n",
    "test_imgs = np.array([y.ravel() for y in test_images])\n",
    "img_SIZE = train_images.shape[1]*train_images.shape[2]"
   ]
  },
  {
   "cell_type": "markdown",
   "metadata": {},
   "source": [
    "### Rは1.00-1.25を0.05刻みで"
   ]
  },
  {
   "cell_type": "code",
   "execution_count": 16,
   "metadata": {},
   "outputs": [
    {
     "name": "stdout",
     "output_type": "stream",
     "text": [
      "top-1.0; 0% of data mul-labelled\n",
      "top-1.05; 5% of data mul-labelled\n",
      "top-1.1; 10% of data mul-labelled\n",
      "top-1.15; 15% of data mul-labelled\n",
      "top-1.2; 20% of data mul-labelled\n",
      "top-1.25; 25% of data mul-labelled\n"
     ]
    }
   ],
   "source": [
    "Rs = [i/100 for i in range(100, 130, 5)]\n",
    "for R in Rs:\n",
    "    print (f\"top-{R}; {round((R - 1.00)*100)}% of data mul-labelled\")"
   ]
  },
  {
   "cell_type": "markdown",
   "metadata": {},
   "source": [
    "### さしあたりtop-1とtop-2の組み合わせで実装(25/02/2020)"
   ]
  },
  {
   "cell_type": "code",
   "execution_count": 8,
   "metadata": {},
   "outputs": [],
   "source": [
    "# main experiment\n",
    "classes = [i for i in range(10)]\n",
    "orig_A1, lim_A1 = 2000, 2000\n",
    "fact_10 = factorial(10)"
   ]
  },
  {
   "cell_type": "code",
   "execution_count": 70,
   "metadata": {},
   "outputs": [
    {
     "name": "stdout",
     "output_type": "stream",
     "text": [
      "2 classes, top-1.05, 5% of data mul-labelled\n"
     ]
    },
    {
     "ename": "KeyboardInterrupt",
     "evalue": "",
     "output_type": "error",
     "traceback": [
      "\u001b[0;31m---------------------------------------------------------------------------\u001b[0m",
      "\u001b[0;31mKeyboardInterrupt\u001b[0m                         Traceback (most recent call last)",
      "\u001b[0;32m<ipython-input-70-d8d7b10f8269>\u001b[0m in \u001b[0;36m<module>\u001b[0;34m\u001b[0m\n\u001b[1;32m     20\u001b[0m             \u001b[0mx\u001b[0m\u001b[0;34m,\u001b[0m \u001b[0my\u001b[0m\u001b[0;34m,\u001b[0m \u001b[0mz\u001b[0m \u001b[0;34m=\u001b[0m \u001b[0;36m0\u001b[0m\u001b[0;34m,\u001b[0m \u001b[0;36m0\u001b[0m\u001b[0;34m,\u001b[0m \u001b[0;36m0\u001b[0m\u001b[0;34m\u001b[0m\u001b[0m\n\u001b[1;32m     21\u001b[0m             \u001b[0;32mfor\u001b[0m \u001b[0m_\u001b[0m \u001b[0;32min\u001b[0m \u001b[0mrange\u001b[0m\u001b[0;34m(\u001b[0m\u001b[0;36m5\u001b[0m\u001b[0;34m)\u001b[0m\u001b[0;34m:\u001b[0m\u001b[0;34m\u001b[0m\u001b[0m\n\u001b[0;32m---> 22\u001b[0;31m                 \u001b[0ms\u001b[0m\u001b[0;34m,\u001b[0m \u001b[0mt\u001b[0m\u001b[0;34m,\u001b[0m \u001b[0mu\u001b[0m \u001b[0;34m=\u001b[0m \u001b[0mtopk_scls_eval\u001b[0m\u001b[0;34m(\u001b[0m\u001b[0mpart\u001b[0m\u001b[0;34m,\u001b[0m \u001b[0mlist\u001b[0m\u001b[0;34m(\u001b[0m\u001b[0mscls\u001b[0m\u001b[0;34m)\u001b[0m\u001b[0;34m,\u001b[0m \u001b[0morig_A1\u001b[0m\u001b[0;34m,\u001b[0m \u001b[0mlim_A1\u001b[0m\u001b[0;34m)\u001b[0m\u001b[0;34m\u001b[0m\u001b[0m\n\u001b[0m\u001b[1;32m     23\u001b[0m                 \u001b[0mx\u001b[0m \u001b[0;34m+=\u001b[0m \u001b[0ms\u001b[0m\u001b[0;34m\u001b[0m\u001b[0m\n\u001b[1;32m     24\u001b[0m                 \u001b[0my\u001b[0m \u001b[0;34m+=\u001b[0m \u001b[0mt\u001b[0m\u001b[0;34m\u001b[0m\u001b[0m\n",
      "\u001b[0;32m<ipython-input-67-f1ed55b79d33>\u001b[0m in \u001b[0;36mtopk_scls_eval\u001b[0;34m(part, classes, orig_A, lim_A)\u001b[0m\n\u001b[1;32m      5\u001b[0m     \u001b[0;31m# extract dataset of chosen classes\u001b[0m\u001b[0;34m\u001b[0m\u001b[0;34m\u001b[0m\u001b[0m\n\u001b[1;32m      6\u001b[0m     \u001b[0mtrn_imgs\u001b[0m \u001b[0;34m=\u001b[0m \u001b[0;34m[\u001b[0m\u001b[0mimg\u001b[0m \u001b[0;32mfor\u001b[0m \u001b[0mi\u001b[0m\u001b[0;34m,\u001b[0m \u001b[0mimg\u001b[0m \u001b[0;32min\u001b[0m \u001b[0menumerate\u001b[0m\u001b[0;34m(\u001b[0m\u001b[0mtrain_imgs\u001b[0m\u001b[0;34m)\u001b[0m \u001b[0;32mif\u001b[0m \u001b[0mtrain_labels\u001b[0m\u001b[0;34m[\u001b[0m\u001b[0mi\u001b[0m\u001b[0;34m]\u001b[0m \u001b[0;32min\u001b[0m \u001b[0ms_cls\u001b[0m\u001b[0;34m]\u001b[0m\u001b[0;34m\u001b[0m\u001b[0m\n\u001b[0;32m----> 7\u001b[0;31m     \u001b[0mtrn_labels\u001b[0m \u001b[0;34m=\u001b[0m \u001b[0;34m[\u001b[0m\u001b[0mlabel\u001b[0m \u001b[0;32mfor\u001b[0m \u001b[0mlabel\u001b[0m \u001b[0;32min\u001b[0m \u001b[0mtrain_labels\u001b[0m \u001b[0;32mif\u001b[0m \u001b[0mlabel\u001b[0m \u001b[0;32min\u001b[0m \u001b[0ms_cls\u001b[0m\u001b[0;34m]\u001b[0m\u001b[0;34m\u001b[0m\u001b[0m\n\u001b[0m\u001b[1;32m      8\u001b[0m     \u001b[0mtst_imgs\u001b[0m \u001b[0;34m=\u001b[0m \u001b[0;34m[\u001b[0m\u001b[0mimg\u001b[0m \u001b[0;32mfor\u001b[0m \u001b[0mi\u001b[0m\u001b[0;34m,\u001b[0m \u001b[0mimg\u001b[0m \u001b[0;32min\u001b[0m \u001b[0menumerate\u001b[0m\u001b[0;34m(\u001b[0m\u001b[0mtest_imgs\u001b[0m\u001b[0;34m)\u001b[0m \u001b[0;32mif\u001b[0m \u001b[0mtest_labels\u001b[0m\u001b[0;34m[\u001b[0m\u001b[0mi\u001b[0m\u001b[0;34m]\u001b[0m \u001b[0;32min\u001b[0m \u001b[0ms_cls\u001b[0m\u001b[0;34m]\u001b[0m\u001b[0;34m\u001b[0m\u001b[0m\n\u001b[1;32m      9\u001b[0m     \u001b[0mtst_labels\u001b[0m \u001b[0;34m=\u001b[0m \u001b[0;34m[\u001b[0m\u001b[0mlabel\u001b[0m \u001b[0;32mfor\u001b[0m \u001b[0mlabel\u001b[0m \u001b[0;32min\u001b[0m \u001b[0mtest_labels\u001b[0m \u001b[0;32mif\u001b[0m \u001b[0mlabel\u001b[0m \u001b[0;32min\u001b[0m \u001b[0ms_cls\u001b[0m\u001b[0;34m]\u001b[0m\u001b[0;34m\u001b[0m\u001b[0m\n",
      "\u001b[0;32m<ipython-input-67-f1ed55b79d33>\u001b[0m in \u001b[0;36m<listcomp>\u001b[0;34m(.0)\u001b[0m\n\u001b[1;32m      5\u001b[0m     \u001b[0;31m# extract dataset of chosen classes\u001b[0m\u001b[0;34m\u001b[0m\u001b[0;34m\u001b[0m\u001b[0m\n\u001b[1;32m      6\u001b[0m     \u001b[0mtrn_imgs\u001b[0m \u001b[0;34m=\u001b[0m \u001b[0;34m[\u001b[0m\u001b[0mimg\u001b[0m \u001b[0;32mfor\u001b[0m \u001b[0mi\u001b[0m\u001b[0;34m,\u001b[0m \u001b[0mimg\u001b[0m \u001b[0;32min\u001b[0m \u001b[0menumerate\u001b[0m\u001b[0;34m(\u001b[0m\u001b[0mtrain_imgs\u001b[0m\u001b[0;34m)\u001b[0m \u001b[0;32mif\u001b[0m \u001b[0mtrain_labels\u001b[0m\u001b[0;34m[\u001b[0m\u001b[0mi\u001b[0m\u001b[0;34m]\u001b[0m \u001b[0;32min\u001b[0m \u001b[0ms_cls\u001b[0m\u001b[0;34m]\u001b[0m\u001b[0;34m\u001b[0m\u001b[0m\n\u001b[0;32m----> 7\u001b[0;31m     \u001b[0mtrn_labels\u001b[0m \u001b[0;34m=\u001b[0m \u001b[0;34m[\u001b[0m\u001b[0mlabel\u001b[0m \u001b[0;32mfor\u001b[0m \u001b[0mlabel\u001b[0m \u001b[0;32min\u001b[0m \u001b[0mtrain_labels\u001b[0m \u001b[0;32mif\u001b[0m \u001b[0mlabel\u001b[0m \u001b[0;32min\u001b[0m \u001b[0ms_cls\u001b[0m\u001b[0;34m]\u001b[0m\u001b[0;34m\u001b[0m\u001b[0m\n\u001b[0m\u001b[1;32m      8\u001b[0m     \u001b[0mtst_imgs\u001b[0m \u001b[0;34m=\u001b[0m \u001b[0;34m[\u001b[0m\u001b[0mimg\u001b[0m \u001b[0;32mfor\u001b[0m \u001b[0mi\u001b[0m\u001b[0;34m,\u001b[0m \u001b[0mimg\u001b[0m \u001b[0;32min\u001b[0m \u001b[0menumerate\u001b[0m\u001b[0;34m(\u001b[0m\u001b[0mtest_imgs\u001b[0m\u001b[0;34m)\u001b[0m \u001b[0;32mif\u001b[0m \u001b[0mtest_labels\u001b[0m\u001b[0;34m[\u001b[0m\u001b[0mi\u001b[0m\u001b[0;34m]\u001b[0m \u001b[0;32min\u001b[0m \u001b[0ms_cls\u001b[0m\u001b[0;34m]\u001b[0m\u001b[0;34m\u001b[0m\u001b[0m\n\u001b[1;32m      9\u001b[0m     \u001b[0mtst_labels\u001b[0m \u001b[0;34m=\u001b[0m \u001b[0;34m[\u001b[0m\u001b[0mlabel\u001b[0m \u001b[0;32mfor\u001b[0m \u001b[0mlabel\u001b[0m \u001b[0;32min\u001b[0m \u001b[0mtest_labels\u001b[0m \u001b[0;32mif\u001b[0m \u001b[0mlabel\u001b[0m \u001b[0;32min\u001b[0m \u001b[0ms_cls\u001b[0m\u001b[0;34m]\u001b[0m\u001b[0;34m\u001b[0m\u001b[0m\n",
      "\u001b[0;31mKeyboardInterrupt\u001b[0m: "
     ]
    }
   ],
   "source": [
    "# main experiment\n",
    "classes = [i for i in range(10)]\n",
    "orig_A1, lim_A1 = 2000, 2000\n",
    "\n",
    "fact_10 = factorial(10)\n",
    "\n",
    "lqual_mnist = []\n",
    "\n",
    "Rs = [i/100 for i in range(100, 130, 5)]\n",
    "for R in Rs:\n",
    "    mnist_evals = []\n",
    "    part = round((R - 1.00)*100)\n",
    "    \n",
    "    for i in range (2, 11): # i: num of sub-classes\n",
    "        print(f\"{i} classes, top-{R}, {part}% of data mul-labelled\")\n",
    "        combi_ni = fact_10//(factorial(i)*factorial(10 - i))\n",
    "        a, b, c = 0, 0, 0\n",
    "        \n",
    "        if (i == 10):\n",
    "            d, e, f = 0, 0, 0\n",
    "            for _ in range(5):\n",
    "                sample_lnum, sample_lqual, sample_lqual2 = topk_scls_eval(part, list(scls), orig_A1, lim_A1)\n",
    "                mnist_evals.append((sample_lnum, sample_lqual, sample_lqual2))\n",
    "        \n",
    "        else:\n",
    "            for scls in itertools.combinations(classes, i):\n",
    "                x, y, z = 0, 0, 0\n",
    "                for _ in range(5):\n",
    "                    s, t, u = topk_scls_eval(part, list(scls), orig_A1, lim_A1)\n",
    "                    x += s\n",
    "                    y += t\n",
    "                    z += u\n",
    "                sample_lnum, sample_lqual, sample_lqual2 = x/5, y/5, z/5\n",
    "                a += sample_lnum\n",
    "                b += sample_lqual\n",
    "                c += sample_lqual2\n",
    "            mnist_evals.append((a/combi_ni, b/combi_ni, c/combi_ni))\n",
    "    print(mnist_evals)            \n",
    "    quals = [e[1] for e in mnist_evals]\n",
    "    lqual_mnist.append(quals)"
   ]
  },
  {
   "cell_type": "markdown",
   "metadata": {},
   "source": [
    "### グラフ用"
   ]
  },
  {
   "cell_type": "code",
   "execution_count": 2,
   "metadata": {},
   "outputs": [],
   "source": [
    "R1 = [(1.0, 97.91555555555556, 97.91555555555556), (1.0, 95.70125000000003, 95.70125000000003), (1.0, 93.45761904761905, 93.45761904761905), (1.0, 91.62242063492069, 91.62242063492069), (1.0, 90.20309523809519, 90.20309523809519), (1.0, 88.35958333333333, 88.35958333333333), (1.0, 86.63111111111112, 86.63111111111112), (1.0, 85.8, 85.8), (1.0, 83.5, 83.5)]\n",
    "R105 = [(1.0499999999999994, 93.34835978835979, 98.01577777777779), (1.049999999999998, 91.30658730158731, 95.87191666666669), (1.0500000000000036, 89.22530612244897, 93.68657142857147), (1.050000000000005, 87.51383219954643, 91.8895238095238), (1.0500000000000036, 86.1877097505669, 90.49709523809518), (1.049999999999998, 84.44865079365081, 88.6710833333333), (1.0499999999999994, 82.84994708994708, 86.99244444444446), (1.0500000000000003, 82.10857142857142, 86.214), (1.05, 79.91428571428571, 83.91)]\n",
    "R110 = [(1.1000000000000008, 89.20101010101007, 98.1211111111111), (1.0999999999999976, 87.31242424242423, 96.04366666666668), (1.0999999999999963, 85.38346320346325, 93.92180952380946), (1.099999999999998, 83.78903318903325, 92.16793650793647), (1.0999999999999963, 82.53064935064936, 90.78371428571428), (1.0999999999999976, 80.89939393939393, 88.98933333333338), (1.1000000000000008, 79.40929292929293, 87.3502222222222), (1.0999999999999999, 78.67272727272727, 86.53999999999999), (1.1, 76.63636363636364, 84.3)]\n",
    "R115 = [(1.149999999999999, 85.41951690821254, 98.23244444444444), (1.1500000000000026, 83.66934782608698, 96.21975000000002), (1.150000000000004, 81.86521739130433, 94.14499999999998), (1.150000000000001, 80.37705314009659, 92.43361111111109), (1.150000000000004, 79.20041407867494, 91.08047619047616), (1.1500000000000026, 77.64594202898549, 89.29283333333335), (1.149999999999999, 76.27497584541062, 87.71622222222219), (1.1500000000000001, 75.57217391304349, 86.90800000000002), (1.15, 73.81739130434782, 84.89)]\n",
    "R120 = [(1.2000000000000008, 81.95703703703701, 98.34844444444447), (1.2000000000000004, 80.33027777777777, 96.3963333333333), (1.1999999999999953, 78.64257936507943, 94.37109523809531), (1.1999999999999942, 77.2594907407407, 92.71138888888883), (1.1999999999999953, 76.14583333333331, 91.37499999999999), (1.2000000000000004, 74.68027777777779, 89.61633333333333), (1.2000000000000008, 73.39537037037039, 88.07444444444442), (1.1999999999999997, 72.7525, 87.30300000000001), (1.2, 70.825, 84.99000000000001)]\n",
    "R125 = [(1.25, 78.75413333333333, 98.44266666666668), (1.25, 77.2498, 96.56225), (1.25, 75.68685714285712, 94.60857142857144), (1.25, 74.3832698412699, 92.97908730158727), (1.25, 73.3336, 91.66699999999996), (1.25, 71.93293333333334, 89.91616666666661), (1.25, 70.75946666666665, 88.44933333333334), (1.25, 70.0904, 87.61300000000001), (1.25, 68.49600000000001, 85.62)]"
   ]
  },
  {
   "cell_type": "code",
   "execution_count": 7,
   "metadata": {},
   "outputs": [],
   "source": [
    "results_list = [R1, R105, R110, R115, R120, R125]"
   ]
  },
  {
   "cell_type": "code",
   "execution_count": 12,
   "metadata": {},
   "outputs": [
    {
     "data": {
      "text/plain": [
       "79.91428571428571"
      ]
     },
     "execution_count": 12,
     "metadata": {},
     "output_type": "execute_result"
    }
   ],
   "source": [
    "results_list[1][8][1]"
   ]
  },
  {
   "cell_type": "code",
   "execution_count": 19,
   "metadata": {},
   "outputs": [],
   "source": [
    "lqual_10cls = [results_list[i][8][1] for i in range(6)]"
   ]
  },
  {
   "cell_type": "code",
   "execution_count": 28,
   "metadata": {},
   "outputs": [
    {
     "data": {
      "text/plain": [
       "[83.5,\n",
       " 79.91428571428571,\n",
       " 76.63636363636364,\n",
       " 73.81739130434782,\n",
       " 70.825,\n",
       " 68.49600000000001]"
      ]
     },
     "execution_count": 28,
     "metadata": {},
     "output_type": "execute_result"
    }
   ],
   "source": [
    "lqual_10cls"
   ]
  },
  {
   "cell_type": "code",
   "execution_count": 29,
   "metadata": {},
   "outputs": [
    {
     "data": {
      "text/plain": [
       "[1.0, 1.05, 1.1, 1.15, 1.2, 1.25]"
      ]
     },
     "execution_count": 29,
     "metadata": {},
     "output_type": "execute_result"
    }
   ],
   "source": [
    "Rs"
   ]
  },
  {
   "cell_type": "code",
   "execution_count": 37,
   "metadata": {},
   "outputs": [
    {
     "data": {
      "text/plain": [
       "[<matplotlib.lines.Line2D at 0x7f9a22fa4898>]"
      ]
     },
     "execution_count": 37,
     "metadata": {},
     "output_type": "execute_result"
    },
    {
     "data": {
      "image/png": "[encoded data removed]",
      "text/plain": [
       "<Figure size 600x400 with 1 Axes>"
      ]
     },
     "metadata": {
      "needs_background": "light"
     },
     "output_type": "display_data"
    }
   ],
   "source": [
    "# draw a graph\n",
    "plt.figure(dpi = 100)\n",
    "plt.title(\"top-R\")\n",
    "Rs = [i/100 for i in range(100, 130, 5)]\n",
    "qs = [0, 0.1, 0.5, 1.0, 2.0, 10.0, 100000]\n",
    "\n",
    "plt.plot(Rs, lqual_10cls, marker = 'o', color = 'r')\n",
    "plt.plot(tsallis_10cls_lnumave[::-1], tsallis_10cls[::-1], marker = 'x', color = 'b')"
   ]
  },
  {
   "cell_type": "code",
   "execution_count": 35,
   "metadata": {},
   "outputs": [],
   "source": [
    "tsallis_10cls = [73.24346405228758, 76.71292281006072, 80.86794213719085, 82.20742150333017, 82.54196642685851, 83.08288899660688, 84.8]\n",
    "tsallis_10cls_lnumave = [1.224, 1.153, 1.0715, 1.051, 1.0425, 1.0315, 1.0]"
   ]
  },
  {
   "cell_type": "code",
   "execution_count": null,
   "metadata": {},
   "outputs": [],
   "source": []
  }
 ],
 "metadata": {
  "kernelspec": {
   "display_name": "Python 3",
   "language": "python",
   "name": "python3"
  },
  "language_info": {
   "codemirror_mode": {
    "name": "ipython",
    "version": 3
   },
   "file_extension": ".py",
   "mimetype": "text/x-python",
   "name": "python",
   "nbconvert_exporter": "python",
   "pygments_lexer": "ipython3",
   "version": "3.6.4"
  }
 },
 "nbformat": 4,
 "nbformat_minor": 2
}
