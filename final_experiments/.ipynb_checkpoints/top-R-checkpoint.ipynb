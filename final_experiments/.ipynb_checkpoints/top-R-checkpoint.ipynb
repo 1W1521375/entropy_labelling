{
 "cells": [
  {
   "cell_type": "markdown",
   "metadata": {},
   "source": [
    "## top-R (擬似的実数版top-k)"
   ]
  },
  {
   "cell_type": "code",
   "execution_count": 13,
   "metadata": {},
   "outputs": [],
   "source": [
    "import matplotlib as mpl\n",
    "import matplotlib.pyplot as plt\n",
    "import matplotlib.cm as cm\n",
    "import numpy as np\n",
    "from sklearn.metrics import accuracy_score\n",
    "from sklearn.linear_model import LogisticRegression as LR\n",
    "from keras.datasets import mnist\n",
    "from sklearn.model_selection import train_test_split\n",
    "import itertools\n",
    "from random import shuffle\n",
    "import codecs\n",
    "\n",
    "# import warnings filter\n",
    "from warnings import simplefilter\n",
    "# ignore all future warnings\n",
    "simplefilter(action = 'ignore', category = FutureWarning)"
   ]
  },
  {
   "cell_type": "code",
   "execution_count": 2,
   "metadata": {},
   "outputs": [],
   "source": [
    "def factorial(n):\n",
    "    if n == 0:\n",
    "        return 1\n",
    "    elif n > 0:\n",
    "        return n*factorial(n - 1)\n",
    "    else:\n",
    "        print(\"sth wrong\")"
   ]
  },
  {
   "cell_type": "code",
   "execution_count": 3,
   "metadata": {},
   "outputs": [],
   "source": [
    "# top-k labelling\n",
    "def topk_label(probas, s_cls, k):\n",
    "    l_indexes = probas.argsort()[::-1][:k]\n",
    "    labels = np.array([s_cls[i] for i in l_indexes])\n",
    "    return labels"
   ]
  },
  {
   "cell_type": "code",
   "execution_count": 4,
   "metadata": {},
   "outputs": [],
   "source": [
    "# labelling and evaluating them\n",
    "def topk_scls_eval(part, classes, orig_A, lim_A):\n",
    "    s_cls = classes\n",
    "\n",
    "    # extract dataset of chosen classes\n",
    "    trn_imgs = [img for i, img in enumerate(train_imgs) if train_labels[i] in s_cls]\n",
    "    trn_labels = [label for label in train_labels if label in s_cls]\n",
    "    tst_imgs = [img for i, img in enumerate(test_imgs) if test_labels[i] in s_cls]\n",
    "    tst_labels = [label for label in test_labels if label in s_cls]\n",
    "\n",
    "    # generate an annotator\n",
    "    ann_model = LR().fit(trn_imgs[:orig_A], trn_labels[:orig_A])\n",
    "    \n",
    "    # split data to label into two groups\n",
    "    f_imgs, s_imgs, f_labels, s_labels = train_test_split(trn_imgs[orig_A:orig_A + lim_A], trn_labels[orig_A:orig_A + lim_A], test_size = part)\n",
    "\n",
    "    # top-1\n",
    "    ord_labels = ann_model.predict(f_imgs)\n",
    "    # top-2\n",
    "    s_ann_proba = ann_model.predict_proba(s_imgs)\n",
    "    mul_labels = [topk_label(probas, s_cls, 2) for probas in s_ann_proba]\n",
    "    \n",
    "    mul_labels = ord_labels + mul_labels  # top-1とtop-2のラベルを結合 イマココ!\n",
    "    \n",
    "    # labels score evaluation\n",
    "    score = 0\n",
    "    for labels, t_label in zip(mul_labels, f_labels + s_labels):\n",
    "        for l in labels:\n",
    "            if (l == t_label):\n",
    "                score += 1\n",
    "\n",
    "    m_labels = []\n",
    "    for labels in mul_labels:\n",
    "         [m_labels.append(l) for l in labels]                \n",
    "                    \n",
    "    return (len(m_labels)/lim_A, score*100/len(m_labels), score*100/lim_A)"
   ]
  },
  {
   "cell_type": "code",
   "execution_count": 5,
   "metadata": {},
   "outputs": [],
   "source": [
    "# loading MNIST\n",
    "(train_images, train_labels), (test_images, test_labels) = mnist.load_data()\n",
    "train_imgs = np.array([x.ravel() for x in train_images])\n",
    "test_imgs = np.array([y.ravel() for y in test_images])\n",
    "img_SIZE = train_images.shape[1]*train_images.shape[2]"
   ]
  },
  {
   "cell_type": "markdown",
   "metadata": {},
   "source": [
    "### Rは1.00-1.25を0.05刻みで"
   ]
  },
  {
   "cell_type": "code",
   "execution_count": 6,
   "metadata": {},
   "outputs": [
    {
     "name": "stdout",
     "output_type": "stream",
     "text": [
      "top-1.00; 0% of data mul-labelled\n",
      "top-1.05; 5% of data mul-labelled\n",
      "top-1.10; 10% of data mul-labelled\n",
      "top-1.15; 15% of data mul-labelled\n",
      "top-1.20; 20% of data mul-labelled\n",
      "top-1.25; 25% of data mul-labelled\n"
     ]
    }
   ],
   "source": [
    "Rs = [i/100 for i in range(100, 130, 5)]\n",
    "for R in Rs:\n",
    "    print (f\"top-{'%.2f'%R}; {round((R - 1.00)*100)}% of data mul-labelled\")"
   ]
  },
  {
   "cell_type": "markdown",
   "metadata": {},
   "source": [
    "### さしあたりtop-1とtop-2の組み合わせで実装(25/02/2020)"
   ]
  },
  {
   "cell_type": "code",
   "execution_count": 7,
   "metadata": {},
   "outputs": [],
   "source": [
    "# main experiment\n",
    "classes = [i for i in range(10)]\n",
    "orig_A1, lim_A1 = 2000, 2000\n",
    "fact_10 = factorial(10)"
   ]
  },
  {
   "cell_type": "code",
   "execution_count": 41,
   "metadata": {},
   "outputs": [
    {
     "name": "stdout",
     "output_type": "stream",
     "text": [
      "2 classes, top-1.0, 0% of data mul-labelled\n",
      "3 classes, top-1.0, 0% of data mul-labelled\n",
      "4 classes, top-1.0, 0% of data mul-labelled\n",
      "5 classes, top-1.0, 0% of data mul-labelled\n",
      "6 classes, top-1.0, 0% of data mul-labelled\n",
      "7 classes, top-1.0, 0% of data mul-labelled\n",
      "8 classes, top-1.0, 0% of data mul-labelled\n",
      "9 classes, top-1.0, 0% of data mul-labelled\n",
      "10 classes, top-1.0, 0% of data mul-labelled\n",
      "[]\n",
      "2 classes, top-1.05, 5% of data mul-labelled\n",
      "3 classes, top-1.05, 5% of data mul-labelled\n",
      "4 classes, top-1.05, 5% of data mul-labelled\n",
      "5 classes, top-1.05, 5% of data mul-labelled\n",
      "6 classes, top-1.05, 5% of data mul-labelled\n",
      "7 classes, top-1.05, 5% of data mul-labelled\n",
      "8 classes, top-1.05, 5% of data mul-labelled\n",
      "9 classes, top-1.05, 5% of data mul-labelled\n",
      "10 classes, top-1.05, 5% of data mul-labelled\n",
      "[]\n",
      "2 classes, top-1.1, 10% of data mul-labelled\n",
      "3 classes, top-1.1, 10% of data mul-labelled\n",
      "4 classes, top-1.1, 10% of data mul-labelled\n",
      "5 classes, top-1.1, 10% of data mul-labelled\n",
      "6 classes, top-1.1, 10% of data mul-labelled\n",
      "7 classes, top-1.1, 10% of data mul-labelled\n",
      "8 classes, top-1.1, 10% of data mul-labelled\n",
      "9 classes, top-1.1, 10% of data mul-labelled\n",
      "10 classes, top-1.1, 10% of data mul-labelled\n",
      "[]\n",
      "2 classes, top-1.15, 15% of data mul-labelled\n",
      "3 classes, top-1.15, 15% of data mul-labelled\n",
      "4 classes, top-1.15, 15% of data mul-labelled\n",
      "5 classes, top-1.15, 15% of data mul-labelled\n",
      "6 classes, top-1.15, 15% of data mul-labelled\n",
      "7 classes, top-1.15, 15% of data mul-labelled\n",
      "8 classes, top-1.15, 15% of data mul-labelled\n",
      "9 classes, top-1.15, 15% of data mul-labelled\n",
      "10 classes, top-1.15, 15% of data mul-labelled\n",
      "[]\n",
      "2 classes, top-1.2, 20% of data mul-labelled\n",
      "3 classes, top-1.2, 20% of data mul-labelled\n",
      "4 classes, top-1.2, 20% of data mul-labelled\n",
      "5 classes, top-1.2, 20% of data mul-labelled\n",
      "6 classes, top-1.2, 20% of data mul-labelled\n",
      "7 classes, top-1.2, 20% of data mul-labelled\n",
      "8 classes, top-1.2, 20% of data mul-labelled\n",
      "9 classes, top-1.2, 20% of data mul-labelled\n",
      "10 classes, top-1.2, 20% of data mul-labelled\n",
      "[]\n",
      "2 classes, top-1.25, 25% of data mul-labelled\n",
      "3 classes, top-1.25, 25% of data mul-labelled\n",
      "4 classes, top-1.25, 25% of data mul-labelled\n",
      "5 classes, top-1.25, 25% of data mul-labelled\n",
      "6 classes, top-1.25, 25% of data mul-labelled\n",
      "7 classes, top-1.25, 25% of data mul-labelled\n",
      "8 classes, top-1.25, 25% of data mul-labelled\n",
      "9 classes, top-1.25, 25% of data mul-labelled\n",
      "10 classes, top-1.25, 25% of data mul-labelled\n",
      "[]\n"
     ]
    }
   ],
   "source": [
    "# main experiment\n",
    "classes = [i for i in range(10)]\n",
    "orig_A1, lim_A1 = 2000, 2000\n",
    "\n",
    "fact_10 = factorial(10)\n",
    "\n",
    "lqual_mnist = []\n",
    "\n",
    "Rs = [i/100 for i in range(100, 130, 5)]\n",
    "# from top-1 (ord) to top-9\n",
    "for R in Rs:\n",
    "    mnist_evals = []\n",
    "    part = round((R - 1.00)*100)\n",
    "    for i in range (2, 11): # i: num of sub-classes\n",
    "        print(f\"{i} classes, top-{R}, {part}% of data mul-labelled\")\n",
    "        combi_ni = fact_10//(factorial(i)*factorial(10 - i))\n",
    "        a, b, c = 0, 0, 0\n",
    "        for scls in itertools.combinations(classes, i):\n",
    "            sample_lnum, sample_lqual, sample_lqual2 = topk_scls_eval(part, list(scls), orig_A1, lim_A1)\n",
    "            a += sample_lnum\n",
    "            b += sample_lqual\n",
    "            c += sample_lqual2\n",
    "        mnist_evals.append((a/combi_ni, b/combi_ni, c/combi_ni))\n",
    "    print(mnist_evals)\n",
    "#         a, b, c = 0, 0, 0\n",
    "#         if (i == 10):\n",
    "#             sample_lnum, sample_lqual, sample_lqual2 = topk_scls_eval(k, classes, orig_A1, lim_A1)\n",
    "#             mnist_evals.append((sample_lnum, sample_lqual, sample_lqual2))\n",
    "#         else:\n",
    "#             combi_ni = fact_10//(factorial(i)*factorial(10 - i))\n",
    "#             for scls in itertools.combinations(classes, i):\n",
    "#                 sample_lnum, sample_lqual, sample_lqual2 = topk_scls_eval(k, list(scls), orig_A1, lim_A1)\n",
    "#                 a += sample_lnum\n",
    "#                 b += sample_lqual\n",
    "#                 c += sample_lqual2\n",
    "#             mnist_evals.append((a/combi_ni, b/combi_ni, c/combi_ni))\n",
    "#     print(mnist_evals)\n",
    "            \n",
    "#     quals = [e[1] for e in mnist_evals]\n",
    "#     lqual_mnist.append(quals)"
   ]
  },
  {
   "cell_type": "code",
   "execution_count": 23,
   "metadata": {},
   "outputs": [
    {
     "name": "stdout",
     "output_type": "stream",
     "text": [
      "[0 1 2 3 4 5 6 7 8 9] [0 1 2 3 4 5 6 7 8 9]\n",
      "[array([0, 1, 2, 3, 4, 5, 6]), array([7, 8, 9]), array([0, 1, 2, 3, 4, 5, 6]), array([7, 8, 9])]\n"
     ]
    }
   ],
   "source": [
    "a = np.arange(10)\n",
    "b = np.arange(10)\n",
    "print(a, b)\n",
    "print(train_test_split(a, b, test_size = 0.25, shuffle = False))"
   ]
  },
  {
   "cell_type": "code",
   "execution_count": 43,
   "metadata": {},
   "outputs": [
    {
     "data": {
      "text/plain": [
       "0.25"
      ]
     },
     "execution_count": 43,
     "metadata": {},
     "output_type": "execute_result"
    }
   ],
   "source": []
  },
  {
   "cell_type": "code",
   "execution_count": null,
   "metadata": {},
   "outputs": [],
   "source": []
  }
 ],
 "metadata": {
  "kernelspec": {
   "display_name": "Python 3",
   "language": "python",
   "name": "python3"
  },
  "language_info": {
   "codemirror_mode": {
    "name": "ipython",
    "version": 3
   },
   "file_extension": ".py",
   "mimetype": "text/x-python",
   "name": "python",
   "nbconvert_exporter": "python",
   "pygments_lexer": "ipython3",
   "version": "3.6.4"
  }
 },
 "nbformat": 4,
 "nbformat_minor": 2
}
