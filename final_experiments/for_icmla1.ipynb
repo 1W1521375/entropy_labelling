{
 "cells": [
  {
   "cell_type": "markdown",
   "metadata": {},
   "source": [
    "# 10 classes, Hellinger distance, MNIST"
   ]
  },
  {
   "cell_type": "code",
   "execution_count": 247,
   "metadata": {},
   "outputs": [],
   "source": [
    "import matplotlib as mpl\n",
    "import matplotlib.pyplot as plt\n",
    "import numpy as np\n",
    "from sklearn.metrics import accuracy_score\n",
    "from sklearn.linear_model import LogisticRegression as LR\n",
    "from keras.datasets import mnist\n",
    "import itertools\n",
    "import codecs\n",
    "# import warnings filter\n",
    "from warnings import simplefilter\n",
    "# ignore all future warnings\n",
    "simplefilter(action = 'ignore', category = FutureWarning)"
   ]
  },
  {
   "cell_type": "code",
   "execution_count": 121,
   "metadata": {},
   "outputs": [],
   "source": [
    "def factorial(n):\n",
    "    if n == 0:\n",
    "        return 1\n",
    "    elif n > 0:\n",
    "        return n*factorial(n - 1)"
   ]
  },
  {
   "cell_type": "code",
   "execution_count": 122,
   "metadata": {},
   "outputs": [],
   "source": [
    "# entropy labelling\n",
    "def tsallis_label(q, probas, s_cls):\n",
    "    elements = np.power(probas, q - 1)\n",
    "    # thrshld in tsallis entropy model\n",
    "    ts_thrshld = np.sum(np.power(probas, q))\n",
    "    if q < 1:\n",
    "        labels = [s_cls[i] for i, e in enumerate(elements) if e < ts_thrshld]\n",
    "    else:\n",
    "        labels = [s_cls[i] for i, e in enumerate(elements) if e > ts_thrshld]\n",
    "    return labels"
   ]
  },
  {
   "cell_type": "code",
   "execution_count": 123,
   "metadata": {},
   "outputs": [],
   "source": [
    "# 1/M labelling\n",
    "def oneMth_label(probas, s_cls):\n",
    "    # 1/M\n",
    "    thrshld = 1/len(s_cls)\n",
    "    labels = [s_cls[i] for i, pk in enumerate(probas) if pk > thrshld]\n",
    "    return labels"
   ]
  },
  {
   "cell_type": "code",
   "execution_count": 124,
   "metadata": {},
   "outputs": [],
   "source": [
    "def shannon_label(probas, s_cls):\n",
    "    info_con = (-1)*np.log2(probas)\n",
    "    # entropy\n",
    "    Hp = np.sum(np.multiply(probas, info_con))\n",
    "    if isnan(Hp):\n",
    "        labels = [s_cls[np.argmax(probas)]]\n",
    "    else:\n",
    "        labels = [s_cls[i] for i, Ipk in enumerate(info_con) if Ipk <= Hp]\n",
    "    return labels"
   ]
  },
  {
   "cell_type": "code",
   "execution_count": 125,
   "metadata": {},
   "outputs": [],
   "source": [
    "# labelling and evaluating them\n",
    "def info_trans_scoring(q, classes, orig_A, lim_A, dataset):\n",
    "    s_cls = classes\n",
    "\n",
    "    # extract dataset of chosen classes\n",
    "    trn_imgs = [img for i, img in enumerate(train_imgs) if train_labels[i] in s_cls]\n",
    "    trn_labels = [label for label in train_labels if label in s_cls]\n",
    "\n",
    "    # generate an annotator\n",
    "    if (dataset == \"mnist\"):\n",
    "        a1_model = LR().fit(trn_imgs[:orig_A], trn_labels[:orig_A])\n",
    "    else:\n",
    "        a1_model = LR(max_iter = 300).fit(trn_imgs[:orig_A], trn_labels[:orig_A])\n",
    "        \n",
    "    a1_probas = a1_model.predict_proba(trn_imgs[orig_A:orig_A + lim_A])\n",
    "\n",
    "    # labelling\n",
    "    if (q == 0): # 1/M\n",
    "        mul_labels = [oneMth_label(probas, s_cls) for probas in a1_probas]\n",
    "    elif (q == 1): # shannon\n",
    "        mul_labels = [shannon_label(probas, s_cls) for probas in a1_probas]\n",
    "    else: # regular tsallis\n",
    "        mul_labels = [tsallis_label(q, probas, s_cls) for probas in a1_probas]\n",
    "    \n",
    "    # scoring info transmission\n",
    "    score = 0\n",
    "    for labels, probas in zip(mul_labels, a1_probas):\n",
    "        u_dist = 1/len(labels)\n",
    "        for label in labels:\n",
    "            score += np.power((np.sqrt(probas[s_cls.index(label)]) - np.sqrt(u_dist)), 2)\n",
    "    \n",
    "    return np.sqrt(score)/np.sqrt(2)"
   ]
  },
  {
   "cell_type": "code",
   "execution_count": 126,
   "metadata": {},
   "outputs": [],
   "source": [
    "# fop top-r (1.2, 1.4, 1.6, 1.8)\n",
    "from sklearn.model_selection import train_test_split\n",
    "\n",
    "# labelling and evaluating them\n",
    "def info_trans_scoring_3(part, classes, orig_A, lim_A, dataset):\n",
    "    s_cls = classes\n",
    "\n",
    "    # extract dataset of chosen classes\n",
    "    trn_imgs = [img for i, img in enumerate(train_imgs) if train_labels[i] in s_cls]\n",
    "    trn_labels = [label for label in train_labels if label in s_cls]\n",
    "\n",
    "    # generate an annotator\n",
    "    # generate an annotator\n",
    "    if (dataset == \"mnist\"):\n",
    "        ann_model = LR().fit(trn_imgs[:orig_A], trn_labels[:orig_A])\n",
    "    else:\n",
    "        ann_model = LR(max_iter = 300).fit(trn_imgs[:orig_A], trn_labels[:orig_A])\n",
    "\n",
    "    # labelling\n",
    "    f_imgs, s_imgs, f_labels, s_labels = train_test_split(trn_imgs[orig_A:orig_A + lim_A], trn_labels[orig_A:orig_A + lim_A], test_size = part/100)\n",
    "    # top-1\n",
    "    f_ann_proba = ann_model.predict_proba(f_imgs)\n",
    "    ord_labels = [topk_label(probas, s_cls, 1) for probas in f_ann_proba]\n",
    "    # top-2\n",
    "    s_ann_proba = ann_model.predict_proba(s_imgs)\n",
    "    top2_labels = [topk_label(probas, s_cls, 2) for probas in s_ann_proba]\n",
    "    # concat top-1 results and top-2 results\n",
    "    ann_probas = ann_model.predict_proba(f_imgs + s_imgs)\n",
    "    mul_labels = ord_labels + top2_labels\n",
    "    \n",
    "    # scoring info transmission\n",
    "    score = 0\n",
    "    for labels, probas in zip(mul_labels, ann_probas):\n",
    "        u_dist = 1/len(labels)\n",
    "        for label in labels:\n",
    "            score += np.power((np.sqrt(probas[s_cls.index(label)]) - np.sqrt(u_dist)), 2)\n",
    "    \n",
    "    return np.sqrt(score)/np.sqrt(2)"
   ]
  },
  {
   "cell_type": "code",
   "execution_count": 127,
   "metadata": {},
   "outputs": [],
   "source": [
    "# loading MNIST\n",
    "(train_images, train_labels), (test_images, test_labels) = mnist.load_data()\n",
    "train_imgs = np.array([x.ravel() for x in train_images])\n",
    "test_imgs = np.array([y.ravel() for y in test_images])"
   ]
  },
  {
   "cell_type": "markdown",
   "metadata": {},
   "source": [
    "### q = -1.0, -0.1, 0, 0.1, 1.0 "
   ]
  },
  {
   "cell_type": "code",
   "execution_count": 18,
   "metadata": {},
   "outputs": [
    {
     "name": "stdout",
     "output_type": "stream",
     "text": [
      "[31.515281268279736, 9.885849848745657, 2.567830217165451, 1.4024960668440367, 2.9529449627044273]\n"
     ]
    }
   ],
   "source": [
    "# main measurement\n",
    "from math import isnan # for shannon\n",
    "\n",
    "classes = [i for i in range(10)]\n",
    "orig_A1, lim_A1 = 2000, 2000\n",
    "fact_10 = factorial(10)\n",
    "dataset = \"mnist\"\n",
    "\n",
    "q_list = [-1.0, -0.1, 0, 0.1, 1]\n",
    "results = [info_trans_scoring(q, classes, orig_A1, lim_A1, dataset) for q in q_list]\n",
    "print(results)"
   ]
  },
  {
   "cell_type": "markdown",
   "metadata": {},
   "source": [
    "### q = +inf (Top-1)"
   ]
  },
  {
   "cell_type": "code",
   "execution_count": 32,
   "metadata": {},
   "outputs": [],
   "source": [
    "# top-k labelling\n",
    "def topk_label(probas, s_cls, k):\n",
    "    l_indexes = probas.argsort()[::-1][:k]\n",
    "    labels = [s_cls[i] for i in l_indexes]\n",
    "    return labels\n",
    "\n",
    "# labelling and evaluating them\n",
    "def info_trans_scoring_2(k, classes, orig_A, lim_A, dataset):\n",
    "    s_cls = classes\n",
    "\n",
    "    # extract dataset of chosen classes\n",
    "    trn_imgs = [img for i, img in enumerate(train_imgs) if train_labels[i] in s_cls]\n",
    "    trn_labels = [label for label in train_labels if label in s_cls]\n",
    "\n",
    "    # generate an annotator\n",
    "    # generate an annotator\n",
    "    if (dataset == \"mnist\"):\n",
    "        a1_model = LR().fit(trn_imgs[:orig_A], trn_labels[:orig_A])\n",
    "    else:\n",
    "        a1_model = LR(max_iter = 300).fit(trn_imgs[:orig_A], trn_labels[:orig_A])\n",
    "        \n",
    "    a1_probas = a1_model.predict_proba(trn_imgs[orig_A:orig_A + lim_A])\n",
    "\n",
    "    # entropy labelling\n",
    "    mul_labels = [topk_label(probas, s_cls, k) for probas in a1_probas]\n",
    "    \n",
    "    # scoring info transmission\n",
    "    score = 0\n",
    "    for labels, probas in zip(mul_labels, a1_probas):\n",
    "        u_dist = 1/len(labels)\n",
    "        for label in labels:\n",
    "            score += np.power((np.sqrt(probas[s_cls.index(label)]) - np.sqrt(u_dist)), 2)\n",
    "    \n",
    "    return np.sqrt(score)/np.sqrt(2)"
   ]
  },
  {
   "cell_type": "code",
   "execution_count": 20,
   "metadata": {},
   "outputs": [
    {
     "name": "stdout",
     "output_type": "stream",
     "text": [
      "3.7107261746317772\n"
     ]
    }
   ],
   "source": [
    "# main measurement\n",
    "classes = [i for i in range(10)]\n",
    "orig_A1, lim_A1 = 2000, 2000\n",
    "fact_10 = factorial(10)\n",
    "dataset = \"mnist\"\n",
    "\n",
    "print(info_trans_scoring_2(1, classes, orig_A1, lim_A1, dataset))"
   ]
  },
  {
   "cell_type": "markdown",
   "metadata": {},
   "source": [
    "### q = -inf (Top-9)"
   ]
  },
  {
   "cell_type": "code",
   "execution_count": 21,
   "metadata": {},
   "outputs": [
    {
     "name": "stdout",
     "output_type": "stream",
     "text": [
      "35.43164316829221\n"
     ]
    }
   ],
   "source": [
    "print(info_trans_scoring_2(9, classes, orig_A1, lim_A1, dataset))"
   ]
  },
  {
   "cell_type": "markdown",
   "metadata": {},
   "source": [
    "### for saving results"
   ]
  },
  {
   "cell_type": "markdown",
   "metadata": {},
   "source": [
    "print([\"-inf\", \"-1.0\", \"-0.1\", \"0\", \"0.1\", \"1.0\", \"+inf\"], sep = \"\\n\", file = codecs.open(\"for_icmla1.txt\", 'a', 'utf-8'))\n",
    "print([35.43164316829221, 31.515281268279736, 9.885849848745657, 2.567830217165451, 1.4024960668440367, 2.9529449627044273, 3.7107261746317772], sep = \"\\n\", file = codecs.open(\"for_icmla1.txt\", 'a', 'utf-8'))\n",
    "# from for_graphs.ipynb\n",
    "print([9.0, 5.3105, 1.464, 1.224, 1.153, 1.051, 1.0], sep = \"\\n\", file = codecs.open(\"for_icmla1.txt\", 'a', 'utf-8'))"
   ]
  },
  {
   "cell_type": "code",
   "execution_count": 131,
   "metadata": {},
   "outputs": [
    {
     "data": {
      "image/png": "[encoded data removed]",
      "text/plain": [
       "<Figure size 432x288 with 2 Axes>"
      ]
     },
     "metadata": {
      "needs_background": "light"
     },
     "output_type": "display_data"
    }
   ],
   "source": [
    "with open(\"for_icmla1.txt\") as f:\n",
    "    l = f.readlines()\n",
    "\n",
    "q_list = eval(l[1])\n",
    "hell_d = eval(l[2])\n",
    "lnum = eval(l[3])\n",
    "\n",
    "fig, ax1 = plt.subplots()\n",
    "\n",
    "color = 'tab:blue'\n",
    "ax1.set_xlabel('q')\n",
    "ax1.set_ylabel('Hellinger Distance', color = color)\n",
    "ax1.bar(q_list, hell_d, color = color)\n",
    "ax1.tick_params(axis = 'y', labelcolor = color)\n",
    "\n",
    "ax2 = ax1.twinx()  # instantiate a second axes that shares the same x-axis\n",
    "\n",
    "color = 'tab:red'\n",
    "ax2.set_ylabel('Average Number of Labels', color = color)  # we already handled the x-label with ax1\n",
    "ax2.plot(q_list, lnum, color = color)\n",
    "ax2.tick_params(axis = 'y', labelcolor = color)\n",
    "\n",
    "fig.tight_layout()  # otherwise the right y-label is slightly clipped\n",
    "fig.savefig(\"tsallis_dualy_mnist.pdf\")"
   ]
  },
  {
   "cell_type": "markdown",
   "metadata": {},
   "source": [
    "### for saving results"
   ]
  },
  {
   "cell_type": "code",
   "execution_count": 133,
   "metadata": {},
   "outputs": [],
   "source": [
    "# main measurement\n",
    "classes = [i for i in range(10)]\n",
    "orig_A1, lim_A1 = 2000, 2000\n",
    "fact_10 = factorial(10)\n",
    "\n",
    "topk_hell_d = [info_trans_scoring_2(k, classes, orig_A1, lim_A1, dataset) for k in range(9, 0, -1)]\n",
    "print([str(k) for k in range(9, 0, -1)], sep = \"\\n\", file = codecs.open(\"for_icmla1.txt\", 'a', 'utf-8'))\n",
    "print(topk_hell_d, sep = \"\\n\", file = codecs.open(\"for_icmla1.txt\", 'a', 'utf-8'))\n",
    "print([k for k in range(9, 0, -1)], sep = \"\\n\", file = codecs.open(\"for_icmla1.txt\", 'a', 'utf-8'))"
   ]
  },
  {
   "cell_type": "markdown",
   "metadata": {},
   "source": [
    "## Top-k graph"
   ]
  },
  {
   "cell_type": "code",
   "execution_count": 134,
   "metadata": {},
   "outputs": [
    {
     "data": {
      "image/png": "[encoded data removed]",
      "text/plain": [
       "<Figure size 432x288 with 2 Axes>"
      ]
     },
     "metadata": {
      "needs_background": "light"
     },
     "output_type": "display_data"
    }
   ],
   "source": [
    "with open(\"for_icmla1.txt\") as f:\n",
    "    l = f.readlines()\n",
    "\n",
    "k_list = eval(l[5])\n",
    "topk_hell_d = eval(l[6])\n",
    "k_lnums = eval(l[7])\n",
    "\n",
    "fig, ax1 = plt.subplots()\n",
    "\n",
    "color = 'tab:blue'\n",
    "ax1.set_xlabel('q')\n",
    "ax1.set_ylabel('Hellinger Distance', color = color)\n",
    "ax1.bar(k_list, topk_hell_d, color = color)\n",
    "ax1.tick_params(axis = 'y', labelcolor = color)\n",
    "\n",
    "ax2 = ax1.twinx()  # instantiate a second axes that shares the same x-axis\n",
    "\n",
    "color = 'tab:red'\n",
    "ax2.set_ylabel('Average Number of Labels', color = color)  # we already handled the x-label with ax1\n",
    "ax2.plot(k_list, k_lnums, color = color)\n",
    "ax2.tick_params(axis = 'y', labelcolor = color)\n",
    "\n",
    "fig.tight_layout()\n",
    "plt.savefig(\"topk_helld_mnist.pdf\")"
   ]
  },
  {
   "cell_type": "markdown",
   "metadata": {},
   "source": [
    "### Top-k (Top-1.2, 1.4, 1.6, 1.8)"
   ]
  },
  {
   "cell_type": "code",
   "execution_count": 47,
   "metadata": {},
   "outputs": [
    {
     "name": "stdout",
     "output_type": "stream",
     "text": [
      "9.820264082966867\n",
      "13.121544748195493\n",
      "15.867901911533332\n",
      "18.117267416937896\n"
     ]
    }
   ],
   "source": [
    "classes = [i for i in range(10)]\n",
    "Rs = [1.2, 1.4, 1.6, 1.8]\n",
    "dataset = \"mnist\"\n",
    "\n",
    "for R in Rs:\n",
    "    temp = 0\n",
    "    part = round((R - 1.00)*100)\n",
    "    for _ in range(5):\n",
    "        temp += info_trans_scoring_3(part, classes, orig_A1, lim_A1, dataset)\n",
    "    print(temp/5)"
   ]
  },
  {
   "cell_type": "markdown",
   "metadata": {},
   "source": [
    "## Top-k graph (top-r included)"
   ]
  },
  {
   "cell_type": "code",
   "execution_count": 52,
   "metadata": {},
   "outputs": [
    {
     "data": {
      "text/plain": [
       "<BarContainer object of 13 artists>"
      ]
     },
     "execution_count": 52,
     "metadata": {},
     "output_type": "execute_result"
    },
    {
     "data": {
      "image/png": "[encoded data removed]",
      "text/plain": [
       "<Figure size 432x288 with 1 Axes>"
      ]
     },
     "metadata": {
      "needs_background": "light"
     },
     "output_type": "display_data"
    }
   ],
   "source": [
    "topr_hell_d = [35.141002116644025, 34.47434896598354, 33.652027797408095, 32.60323037539781, 31.2029144763454, 29.20592200097659, 26.06602012792241, 20.258894370553126, 18.117267416937896, 15.867901911533332, 13.121544748195493, 9.820264082966867, 4.162116489974839]\n",
    "x_axis = [str(k) for k in range(9, 1, -1)] + [\"1.8\", \"1.6\", \"1.4\", \"1.2\", \"1\"]\n",
    "plt.bar(x_axis, topr_hell_d)"
   ]
  },
  {
   "cell_type": "markdown",
   "metadata": {},
   "source": [
    "# 10 classes, Hellinger distance, Fashion-MNIST"
   ]
  },
  {
   "cell_type": "code",
   "execution_count": 135,
   "metadata": {},
   "outputs": [],
   "source": [
    "from keras.datasets import fashion_mnist\n",
    "# loading fashion MNIST\n",
    "(train_images, train_labels), (test_images, test_labels) = fashion_mnist.load_data()\n",
    "train_imgs = np.array([x.ravel() for x in train_images])\n",
    "test_imgs = np.array([y.ravel() for y in test_images])"
   ]
  },
  {
   "cell_type": "markdown",
   "metadata": {},
   "source": [
    "### q = -1.0, -0.1, 0, 0.1, 1.0 "
   ]
  },
  {
   "cell_type": "code",
   "execution_count": 67,
   "metadata": {},
   "outputs": [
    {
     "name": "stdout",
     "output_type": "stream",
     "text": [
      "[31.831040140800596, 12.068380301185307, 3.06998522427623, 1.5501536602583712, 3.2000566804065045]\n"
     ]
    }
   ],
   "source": [
    "# main measurement\n",
    "from math import isnan # for shannon\n",
    "\n",
    "classes = [i for i in range(10)]\n",
    "orig_A1, lim_A1 = 2000, 2000\n",
    "fact_10 = factorial(10)\n",
    "\n",
    "q_list = [-1.0, -0.1, 0, 0.1, 1]\n",
    "dataset = \"fmnist\"\n",
    "\n",
    "results = [info_trans_scoring(q, classes, orig_A1, lim_A1, dataset) for q in q_list]\n",
    "print(results)"
   ]
  },
  {
   "cell_type": "markdown",
   "metadata": {},
   "source": [
    "### q = +inf (Top-1)"
   ]
  },
  {
   "cell_type": "code",
   "execution_count": 36,
   "metadata": {},
   "outputs": [
    {
     "name": "stdout",
     "output_type": "stream",
     "text": [
      "4.162116489974839\n"
     ]
    }
   ],
   "source": [
    "# main measurement\n",
    "classes = [i for i in range(10)]\n",
    "orig_A1, lim_A1 = 2000, 2000\n",
    "fact_10 = factorial(10)\n",
    "dataset = \"fmnist\"\n",
    "\n",
    "print(info_trans_scoring_2(1, classes, orig_A1, lim_A1, dataset))"
   ]
  },
  {
   "cell_type": "markdown",
   "metadata": {},
   "source": [
    "### q = -inf (Top-9)"
   ]
  },
  {
   "cell_type": "code",
   "execution_count": 37,
   "metadata": {},
   "outputs": [
    {
     "name": "stdout",
     "output_type": "stream",
     "text": [
      "35.141002116644025\n"
     ]
    }
   ],
   "source": [
    "print(info_trans_scoring_2(9, classes, orig_A1, lim_A1, dataset))"
   ]
  },
  {
   "cell_type": "markdown",
   "metadata": {},
   "source": [
    "### for saving results"
   ]
  },
  {
   "cell_type": "markdown",
   "metadata": {},
   "source": [
    "print([\"-inf\", \"-1.0\", \"-0.1\", \"0\", \"0.1\", \"1.0\", \"+inf\"], sep = \"\\n\", file = codecs.open(\"for_icmla1.txt\", 'a', 'utf-8'))\n",
    "print([35.141002116644025, 31.831040140800596, 12.068380301185307, 3.06998522427623, 1.5501536602583712, 3.2000566804065045, 4.162116489974839], sep = \"\\n\", file = codecs.open(\"for_icmla1.txt\", 'a', 'utf-8'))\n",
    "# from for_graphs.ipynb\n",
    "print([9.0, 5.648, 1.646, 1.2905, 1.1935, 1.07, 1.0], sep = \"\\n\", file = codecs.open(\"for_icmla1.txt\", 'a', 'utf-8'))"
   ]
  },
  {
   "cell_type": "markdown",
   "metadata": {},
   "source": [
    "## Tsallis graph"
   ]
  },
  {
   "cell_type": "code",
   "execution_count": 137,
   "metadata": {},
   "outputs": [
    {
     "data": {
      "image/png": "[encoded data removed]",
      "text/plain": [
       "<Figure size 432x288 with 2 Axes>"
      ]
     },
     "metadata": {
      "needs_background": "light"
     },
     "output_type": "display_data"
    }
   ],
   "source": [
    "with open(\"for_icmla1.txt\") as f:\n",
    "    l = f.readlines()\n",
    "\n",
    "q_list = eval(l[9])\n",
    "hell_d = eval(l[10])\n",
    "lnums = eval(l[11])\n",
    "\n",
    "fig, ax1 = plt.subplots()\n",
    "\n",
    "color = 'tab:blue'\n",
    "ax1.set_xlabel('q')\n",
    "ax1.set_ylabel('Hellinger Distance', color = color)\n",
    "ax1.bar(q_list, hell_d, color = color)\n",
    "ax1.tick_params(axis = 'y', labelcolor = color)\n",
    "\n",
    "ax2 = ax1.twinx()  # instantiate a second axes that shares the same x-axis\n",
    "\n",
    "color = 'tab:red'\n",
    "ax2.set_ylabel('Average Number of Labels', color = color)  # we already handled the x-label with ax1\n",
    "ax2.plot(q_list, lnums, color = color)\n",
    "ax2.tick_params(axis = 'y', labelcolor = color)\n",
    "\n",
    "fig.tight_layout()  # otherwise the right y-label is slightly clipped\n",
    "fig.savefig(\"tsallis_dualy_fmnist.pdf\")"
   ]
  },
  {
   "cell_type": "markdown",
   "metadata": {},
   "source": [
    "### for saving results"
   ]
  },
  {
   "cell_type": "code",
   "execution_count": 138,
   "metadata": {},
   "outputs": [],
   "source": [
    "# main measurement\n",
    "classes = [i for i in range(10)]\n",
    "orig_A1, lim_A1 = 2000, 2000\n",
    "fact_10 = factorial(10)\n",
    "dataset = \"fmnist\"\n",
    "\n",
    "topk_hell_d = [info_trans_scoring_2(k, classes, orig_A1, lim_A1, dataset) for k in range(9, 0, -1)]\n",
    "print([str(k) for k in range(9, 0, -1)], sep = \"\\n\", file = codecs.open(\"for_icmla1.txt\", 'a', 'utf-8'))\n",
    "print(topk_hell_d, sep = \"\\n\", file = codecs.open(\"for_icmla1.txt\", 'a', 'utf-8'))\n",
    "print([k for k in range(9, 0, -1)], sep = \"\\n\", file = codecs.open(\"for_icmla1.txt\", 'a', 'utf-8'))"
   ]
  },
  {
   "cell_type": "markdown",
   "metadata": {},
   "source": [
    "## Top-k graph"
   ]
  },
  {
   "cell_type": "code",
   "execution_count": 139,
   "metadata": {},
   "outputs": [
    {
     "data": {
      "image/png": "[encoded data removed]",
      "text/plain": [
       "<Figure size 432x288 with 2 Axes>"
      ]
     },
     "metadata": {
      "needs_background": "light"
     },
     "output_type": "display_data"
    }
   ],
   "source": [
    "with open(\"for_icmla1.txt\") as f:\n",
    "    l = f.readlines()\n",
    "\n",
    "k_list = eval(l[13])\n",
    "topk_hell_d = eval(l[14])\n",
    "k_lnums = eval(l[15])\n",
    "\n",
    "fig, ax1 = plt.subplots()\n",
    "\n",
    "color = 'tab:blue'\n",
    "ax1.set_xlabel('q')\n",
    "ax1.set_ylabel('Hellinger Distance', color = color)\n",
    "ax1.bar(k_list, topk_hell_d, color = color)\n",
    "ax1.tick_params(axis = 'y', labelcolor = color)\n",
    "\n",
    "ax2 = ax1.twinx()  # instantiate a second axes that shares the same x-axis\n",
    "\n",
    "color = 'tab:red'\n",
    "ax2.set_ylabel('Average Number of Labels', color = color)  # we already handled the x-label with ax1\n",
    "ax2.plot(k_list, k_lnums, color = color)\n",
    "ax2.tick_params(axis = 'y', labelcolor = color)\n",
    "\n",
    "fig.tight_layout()\n",
    "plt.savefig(\"topk_helld_fmnist.pdf\")"
   ]
  },
  {
   "cell_type": "markdown",
   "metadata": {},
   "source": [
    "### Top-k (Top-1.2, 1.4, 1.6, 1.8)"
   ]
  },
  {
   "cell_type": "code",
   "execution_count": 68,
   "metadata": {},
   "outputs": [
    {
     "name": "stdout",
     "output_type": "stream",
     "text": [
      "9.704003943440341\n",
      "13.214048338453313\n",
      "15.895665578572357\n",
      "18.201592060450693\n"
     ]
    }
   ],
   "source": [
    "classes = [i for i in range(10)]\n",
    "Rs = [1.2, 1.4, 1.6, 1.8]\n",
    "dataset = \"fmnist\"\n",
    "\n",
    "for R in Rs:\n",
    "    temp = 0\n",
    "    part = round((R - 1.00)*100)\n",
    "    for _ in range(5):\n",
    "        temp += info_trans_scoring_3(part, classes, orig_A1, lim_A1, dataset)\n",
    "    print(temp/5)"
   ]
  },
  {
   "cell_type": "markdown",
   "metadata": {},
   "source": [
    "## Top-k graph (top-r included)"
   ]
  },
  {
   "cell_type": "code",
   "execution_count": 69,
   "metadata": {},
   "outputs": [
    {
     "data": {
      "text/plain": [
       "<BarContainer object of 13 artists>"
      ]
     },
     "execution_count": 69,
     "metadata": {},
     "output_type": "execute_result"
    },
    {
     "data": {
      "image/png": "[encoded data removed]",
      "text/plain": [
       "<Figure size 432x288 with 1 Axes>"
      ]
     },
     "metadata": {
      "needs_background": "light"
     },
     "output_type": "display_data"
    }
   ],
   "source": [
    "topr_hell_d = [35.141002116644025, 34.47434896598354, 33.652027797408095, 32.60323037539781, 31.2029144763454, 29.20592200097659, 26.06602012792241, 20.258894370553126, 18.201592060450693, 15.895665578572357, 13.214048338453313, 9.704003943440341, 4.162116489974839]\n",
    "x_axis = [str(k) for k in range(9, 1, -1)] + [\"1.8\", \"1.6\", \"1.4\", \"1.2\", \"1\"]\n",
    "plt.bar(x_axis, topr_hell_d)"
   ]
  },
  {
   "cell_type": "markdown",
   "metadata": {},
   "source": [
    "# merging graphs (groups by labelling method)"
   ]
  },
  {
   "cell_type": "markdown",
   "metadata": {},
   "source": [
    "## Tsallis"
   ]
  },
  {
   "cell_type": "code",
   "execution_count": 248,
   "metadata": {},
   "outputs": [],
   "source": [
    "with open(\"for_icmla1.txt\") as f:\n",
    "    l = f.readlines()\n",
    "\n",
    "# MNIST\n",
    "q_list_mnist = eval(l[1])\n",
    "hell_d_mnist = [e/2000 for e in eval(l[2])]\n",
    "lnums_mnist = eval(l[3])\n",
    "# f_MNIST\n",
    "q_list_fmnist = eval(l[9])\n",
    "hell_d_fmnist = [e/2000 for e in eval(l[10])]\n",
    "lnums_fmnist = eval(l[11])"
   ]
  },
  {
   "cell_type": "code",
   "execution_count": 250,
   "metadata": {},
   "outputs": [
    {
     "name": "stderr",
     "output_type": "stream",
     "text": [
      "/home/k.goto/.pyenv/versions/3.6.4/lib/python3.6/site-packages/ipykernel_launcher.py:43: UserWarning: You have mixed positional and keyword arguments, some input may be discarded.\n"
     ]
    },
    {
     "data": {
      "image/png": "[encoded data removed]",
      "text/plain": [
       "<Figure size 504x360 with 4 Axes>"
      ]
     },
     "metadata": {
      "needs_background": "light"
     },
     "output_type": "display_data"
    }
   ],
   "source": [
    "fig = plt.figure(figsize = (7, 5))\n",
    "FONTSIZE = 12\n",
    "\n",
    "# for MNIST\n",
    "ax1 = fig.add_subplot(1, 2, 1)\n",
    "ax2 = ax1.twinx()\n",
    "\n",
    "colour1 = 'xkcd:lightblue'\n",
    "ax1.set_xlabel('q', fontsize = FONTSIZE)\n",
    "ax1.set_ylabel(\"Hellinger Distance\", fontsize = FONTSIZE)\n",
    "l1 = ax1.bar(q_list_mnist, hell_d_mnist, color = colour1)\n",
    "\n",
    "colour2 = 'black'\n",
    "ax2.set_ylabel(\"Average Number of Labels\", fontsize = FONTSIZE)\n",
    "l2 = ax2.plot(q_list_mnist, lnums_mnist, marker = 'o', color = colour2)\n",
    "\n",
    "ax1.grid(which = 'both')\n",
    "ax1.title.set_text(\"(a). MNIST\")\n",
    "\n",
    "# for f_MNIST\n",
    "ax3 = fig.add_subplot(1, 2, 2)\n",
    "ax4 = ax3.twinx()\n",
    "\n",
    "colour3 = colour1\n",
    "ax3.set_xlabel('q', fontsize = FONTSIZE)\n",
    "ax3.set_ylabel(\"Hellinger Distance\", fontsize = FONTSIZE)\n",
    "l3 = ax3.bar(q_list_fmnist, hell_d_fmnist, color = colour3)\n",
    "\n",
    "colour4 = colour2\n",
    "ax4.set_ylabel(\"Average Number of Labels\", fontsize = FONTSIZE)\n",
    "l4 = ax4.plot(q_list_fmnist, lnums_fmnist, marker = 'o', color = colour4)\n",
    "\n",
    "ax3.grid(which = 'both')\n",
    "ax3.title.set_text(\"(b). Fashion MNIST\")\n",
    "\n",
    "labels = [\"Hellinger Distance\", \"Average Number of Labels\"]\n",
    "\n",
    "fig.legend([l1, l2],     # The line objects\n",
    "           labels = labels,   # The labels for each line\n",
    "           fontsize = 10,\n",
    "           loc = \"lower center\",   # Position of legend\n",
    "           borderaxespad = 0.1,    # Small spacing around legend box\n",
    "           ncol = 2)\n",
    "\n",
    "fig.tight_layout()\n",
    "plt.subplots_adjust(bottom = 0.15)\n",
    "plt.savefig(\"tsallis_hellinger_lnum.pdf\")"
   ]
  },
  {
   "cell_type": "markdown",
   "metadata": {},
   "source": [
    "## Top-k"
   ]
  },
  {
   "cell_type": "code",
   "execution_count": 251,
   "metadata": {},
   "outputs": [],
   "source": [
    "with open(\"for_icmla1.txt\") as f:\n",
    "    l = f.readlines()\n",
    "\n",
    "# MNIST\n",
    "k_list_mnist = eval(l[5])\n",
    "topk_hell_d_mnist = [e/2000 for e in eval(l[6])]\n",
    "k_lnums_mnist = eval(l[7])\n",
    "\n",
    "# f_MNIST\n",
    "k_list_fmnist = eval(l[13])\n",
    "topk_hell_d_fmnist = [e/2000 for e in eval(l[14])]\n",
    "k_lnums_fmnist = eval(l[15])"
   ]
  },
  {
   "cell_type": "code",
   "execution_count": 252,
   "metadata": {},
   "outputs": [
    {
     "name": "stderr",
     "output_type": "stream",
     "text": [
      "/home/k.goto/.pyenv/versions/3.6.4/lib/python3.6/site-packages/ipykernel_launcher.py:43: UserWarning: You have mixed positional and keyword arguments, some input may be discarded.\n"
     ]
    },
    {
     "data": {
      "image/png": "[encoded data removed]",
      "text/plain": [
       "<Figure size 504x360 with 4 Axes>"
      ]
     },
     "metadata": {
      "needs_background": "light"
     },
     "output_type": "display_data"
    }
   ],
   "source": [
    "fig = plt.figure(figsize = (7, 5))\n",
    "FONTSIZE = 12\n",
    "\n",
    "# for MNIST\n",
    "ax1 = fig.add_subplot(1, 2, 1)\n",
    "ax2 = ax1.twinx()\n",
    "\n",
    "colour1 = 'xkcd:lightblue'\n",
    "ax1.set_xlabel('k', fontsize = FONTSIZE)\n",
    "ax1.set_ylabel(\"Hellinger Distance\", fontsize = FONTSIZE)\n",
    "l1 = ax1.bar(k_list_mnist, topk_hell_d_mnist, color = colour1)\n",
    "\n",
    "colour2 = 'black'\n",
    "ax2.set_ylabel(\"Average Number of Labels\", fontsize = FONTSIZE)\n",
    "l2 = ax2.plot(k_list_mnist, k_lnums_mnist, marker = 'o', color = colour2)\n",
    "\n",
    "ax1.grid(which = 'both')\n",
    "ax1.title.set_text(\"(a). MNIST\")\n",
    "\n",
    "# for f_MNIST\n",
    "ax3 = fig.add_subplot(1, 2, 2)\n",
    "ax4 = ax3.twinx()\n",
    "\n",
    "colour3 = colour1\n",
    "ax3.set_xlabel('k', fontsize = FONTSIZE)\n",
    "ax3.set_ylabel(\"Hellinger Distance\", fontsize = FONTSIZE)\n",
    "l3 = ax3.bar(k_list_fmnist, topk_hell_d_fmnist, color = colour3)\n",
    "\n",
    "colour4 = colour2\n",
    "ax4.set_ylabel(\"Average Number of Labels\", fontsize = FONTSIZE)\n",
    "l4 = ax4.plot(k_list_fmnist, k_lnums_fmnist, marker = 'o', color = colour4)\n",
    "\n",
    "ax3.grid(which = 'both')\n",
    "ax3.title.set_text(\"(b). Fashion MNIST\")\n",
    "\n",
    "labels = [\"Hellinger Distance\", \"Average Number of Labels\"]\n",
    "\n",
    "fig.legend([l1, l2],     # The line objects\n",
    "           labels = labels,   # The labels for each line\n",
    "           fontsize = 10,\n",
    "           loc = \"lower center\",   # Position of legend\n",
    "           borderaxespad = 0.1,    # Small spacing around legend box\n",
    "           ncol = 2)\n",
    "\n",
    "fig.tight_layout()\n",
    "plt.subplots_adjust(bottom = 0.15)\n",
    "plt.savefig(\"topk_hellinger_lnum.pdf\")"
   ]
  },
  {
   "cell_type": "code",
   "execution_count": null,
   "metadata": {},
   "outputs": [],
   "source": []
  }
 ],
 "metadata": {
  "kernelspec": {
   "display_name": "Python 3",
   "language": "python",
   "name": "python3"
  },
  "language_info": {
   "codemirror_mode": {
    "name": "ipython",
    "version": 3
   },
   "file_extension": ".py",
   "mimetype": "text/x-python",
   "name": "python",
   "nbconvert_exporter": "python",
   "pygments_lexer": "ipython3",
   "version": "3.6.4"
  }
 },
 "nbformat": 4,
 "nbformat_minor": 2
}
