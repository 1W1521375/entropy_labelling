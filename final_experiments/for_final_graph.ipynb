{
 "cells": [
  {
   "cell_type": "code",
   "execution_count": 67,
   "metadata": {},
   "outputs": [],
   "source": [
    "%matplotlib inline\n",
    "import matplotlib as mpl\n",
    "import matplotlib.pyplot as plt\n",
    "import codecs"
   ]
  },
  {
   "cell_type": "markdown",
   "metadata": {},
   "source": [
    "# MNIST"
   ]
  },
  {
   "cell_type": "code",
   "execution_count": 260,
   "metadata": {},
   "outputs": [],
   "source": [
    "# top-1\n",
    "with open(\"topk_log.txt\") as f:\n",
    "    l = f.readlines()\n",
    "top1_labels = eval(l[1])\n",
    "true_labels = eval(l[2])"
   ]
  },
  {
   "cell_type": "markdown",
   "metadata": {},
   "source": [
    "## Top-1で間違えたインスタンスを記録"
   ]
  },
  {
   "cell_type": "code",
   "execution_count": 283,
   "metadata": {},
   "outputs": [],
   "source": [
    "indexes = [i for i, (generated_l, true_l) in enumerate(zip(top1_labels, true_labels)) if (generated_l[0] != true_l)]\n",
    "for_failed_true = [true_labels[i] for i in indexes]"
   ]
  },
  {
   "cell_type": "code",
   "execution_count": 284,
   "metadata": {},
   "outputs": [],
   "source": [
    "# Tsallis\n",
    "with open(\"tsallis_log.txt\") as f:\n",
    "    l = f.readlines()\n",
    "vs = [i for i in range(1, 22, 2)]\n",
    "tsallis_labels = [eval(l[v]) for v in vs] # generated labels\n",
    "# true_labels = eval(l[20]) # true labels"
   ]
  },
  {
   "cell_type": "markdown",
   "metadata": {},
   "source": [
    "## Top-1で間違えたインスタンスに対してTsallisが付与したラベル集合の精度を計算"
   ]
  },
  {
   "cell_type": "code",
   "execution_count": 285,
   "metadata": {},
   "outputs": [],
   "source": [
    "for_failed_tsallis = []\n",
    "for labels_set in tsallis_labels:\n",
    "    for_failed_tsallis.append([labels_set[i] for i in indexes])"
   ]
  },
  {
   "cell_type": "code",
   "execution_count": 286,
   "metadata": {},
   "outputs": [],
   "source": [
    "def acc_calc(l_set, for_failed_true):\n",
    "    score = 0\n",
    "    total_lnum = 0\n",
    "    for labels, t_label in zip(l_set, for_failed_true):\n",
    "        total_lnum += len(labels)\n",
    "        if (t_label in labels):\n",
    "            score += 1 \n",
    "    return (total_lnum/len(for_failed_true), score*100/total_lnum)"
   ]
  },
  {
   "cell_type": "code",
   "execution_count": 287,
   "metadata": {},
   "outputs": [],
   "source": [
    "acc_tsallis = [acc_calc(l_set, for_failed_true)[1] for l_set in for_failed_tsallis]\n",
    "avelnum_tsallis = [acc_calc(l_set, for_failed_true)[0] for l_set in for_failed_tsallis]"
   ]
  },
  {
   "cell_type": "code",
   "execution_count": 288,
   "metadata": {},
   "outputs": [
    {
     "data": {
      "image/png": "[encoded data removed]",
      "text/plain": [
       "<Figure size 432x288 with 1 Axes>"
      ]
     },
     "metadata": {
      "needs_background": "light"
     },
     "output_type": "display_data"
    }
   ],
   "source": [
    "plt.figure()\n",
    "plt.plot(avelnum_tsallis, acc_tsallis, marker = 'o')\n",
    "plt.show()"
   ]
  },
  {
   "cell_type": "markdown",
   "metadata": {},
   "source": [
    "## Top-1で間違えたインスタンスに対してTop-Rが付与したラベル"
   ]
  },
  {
   "cell_type": "code",
   "execution_count": 289,
   "metadata": {},
   "outputs": [],
   "source": [
    "# top-r\n",
    "with open(\"topr_log.txt\") as f:\n",
    "    l = f.readlines()\n",
    "topr_indexes = [j for j in range(5, 30, 6)] + [j for j in range(36, 61, 6)] + [j for j in range(67, 92, 6)] + [j for j in range(98, 123, 6)]\n",
    "topr_sets = [eval(l[i]) for i in topr_indexes]\n",
    "top1_indexes = [j for j in range(7, 32, 6)] + [j for j in range(38, 63, 6)] + [j for j in range(69, 94, 6)] + [j for j in range(100, 125, 6)]\n",
    "top1_sets = [eval(l[i]) for i in top1_indexes]\n",
    "true_indexes = [j for j in range(9, 34, 6)] + [j for j in range(40, 65, 6)] + [j for j in range(71, 96, 6)] + [j for j in range(102, 127, 6)]\n",
    "true_sets = [eval(l[i]) for i in true_indexes]"
   ]
  },
  {
   "cell_type": "code",
   "execution_count": 290,
   "metadata": {},
   "outputs": [],
   "source": [
    "indexes_sets = [[i for i, (generated_l, true_l) in enumerate(zip(top1_labels, true_labels)) if (generated_l[0] != true_l)] for top1_labels, true_labels in zip(top1_sets, true_sets)]\n",
    "for_failed_true_sets = [[true_labels[i] for i in true_indexes] for topr_labels, true_indexes in zip(topr_sets, indexes_sets)]"
   ]
  },
  {
   "cell_type": "code",
   "execution_count": 291,
   "metadata": {},
   "outputs": [],
   "source": [
    "for_failed_topr_sets = []\n",
    "for topr_labels, indexes in zip(topr_sets, indexes_sets):\n",
    "    for_failed_topr_sets.append([topr_labels[i] for i in indexes])"
   ]
  },
  {
   "cell_type": "code",
   "execution_count": 292,
   "metadata": {},
   "outputs": [],
   "source": [
    "acc_topr = [acc_calc(l_set, for_failed_true)[1] for l_set, for_failed_true in zip(for_failed_topr_sets, for_failed_true_sets)]\n",
    "avelnum_topr = [acc_calc(l_set, for_failed_true)[0] for l_set in zip(for_failed_topr_sets, for_failed_true_sets)]"
   ]
  },
  {
   "cell_type": "code",
   "execution_count": 293,
   "metadata": {},
   "outputs": [
    {
     "data": {
      "text/plain": [
       "[9.688706362426277, 10.437230866759691, 10.35115734078952, 9.425212313660632]"
      ]
     },
     "execution_count": 293,
     "metadata": {},
     "output_type": "execute_result"
    }
   ],
   "source": [
    "[(acc_topr[i] + acc_topr[i + 1] + acc_topr[i + 2] + acc_topr[i + 3] + acc_topr[i + 4])/5 for i in range(0, 16, 5)]"
   ]
  },
  {
   "cell_type": "code",
   "execution_count": 294,
   "metadata": {},
   "outputs": [
    {
     "data": {
      "image/png": "[encoded data removed]",
      "text/plain": [
       "<Figure size 432x288 with 1 Axes>"
      ]
     },
     "metadata": {
      "needs_background": "light"
     },
     "output_type": "display_data"
    }
   ],
   "source": [
    "plt.figure()\n",
    "plt.plot([1.2, 1.4, 1.6, 1.8], [9.688706362426277, 10.437230866759691, 10.35115734078952, 9.425212313660632], color = 'r', marker = 'o')\n",
    "plt.show()"
   ]
  },
  {
   "cell_type": "code",
   "execution_count": null,
   "metadata": {},
   "outputs": [],
   "source": []
  },
  {
   "cell_type": "code",
   "execution_count": null,
   "metadata": {},
   "outputs": [],
   "source": []
  },
  {
   "cell_type": "code",
   "execution_count": null,
   "metadata": {},
   "outputs": [],
   "source": []
  },
  {
   "cell_type": "code",
   "execution_count": null,
   "metadata": {},
   "outputs": [],
   "source": []
  },
  {
   "cell_type": "markdown",
   "metadata": {},
   "source": [
    "## Top-1で間違えたインスタンスを記録"
   ]
  },
  {
   "cell_type": "code",
   "execution_count": 295,
   "metadata": {},
   "outputs": [],
   "source": [
    "# Top-1\n",
    "with open(\"topk_log.txt\") as f:\n",
    "    l = f.readlines()\n",
    "top1_labels = eval(l[1])\n",
    "true_labels = eval(l[2])"
   ]
  },
  {
   "cell_type": "code",
   "execution_count": 296,
   "metadata": {},
   "outputs": [],
   "source": [
    "indexes = [i for i, (generated_l, true_l) in enumerate(zip(top1_labels, true_labels)) if (generated_l[0] != true_l)]\n",
    "for_failed_true = [true_labels[i] for i in indexes]"
   ]
  },
  {
   "cell_type": "code",
   "execution_count": 297,
   "metadata": {},
   "outputs": [],
   "source": [
    "# Top-k\n",
    "with open(\"topk_log.txt\") as f:\n",
    "    l = f.readlines()\n",
    "vs = [i for i in range(1, 27, 3)]\n",
    "topk_labels = [eval(l[v]) for v in vs] # generated labels"
   ]
  },
  {
   "cell_type": "markdown",
   "metadata": {},
   "source": [
    "## Top-1で間違えたインスタンスに対してTop-kが付与したラベル集合の精度を計算"
   ]
  },
  {
   "cell_type": "code",
   "execution_count": 298,
   "metadata": {},
   "outputs": [],
   "source": [
    "for_failed_topk = []\n",
    "for labels_set in topk_labels:\n",
    "    for_failed_topk.append([labels_set[i] for i in indexes])"
   ]
  },
  {
   "cell_type": "code",
   "execution_count": 299,
   "metadata": {},
   "outputs": [],
   "source": [
    "acc_topk = [acc_calc(l_set, for_failed_true)[1] for l_set in for_failed_topk]\n",
    "avelnum_topk = [acc_calc(l_set, for_failed_true)[0] for l_set in for_failed_topk]"
   ]
  },
  {
   "cell_type": "code",
   "execution_count": 300,
   "metadata": {},
   "outputs": [
    {
     "data": {
      "image/png": "[encoded data removed]",
      "text/plain": [
       "<Figure size 432x288 with 1 Axes>"
      ]
     },
     "metadata": {
      "needs_background": "light"
     },
     "output_type": "display_data"
    }
   ],
   "source": [
    "plt.figure()\n",
    "plt.plot([i for i in range(1, 10)], acc_topk, marker = 'o')\n",
    "plt.show()"
   ]
  },
  {
   "cell_type": "code",
   "execution_count": 301,
   "metadata": {},
   "outputs": [
    {
     "data": {
      "text/plain": [
       "[0.0,\n",
       " 26.644736842105264,\n",
       " 24.12280701754386,\n",
       " 20.230263157894736,\n",
       " 17.56578947368421,\n",
       " 15.460526315789474,\n",
       " 13.533834586466165,\n",
       " 12.129934210526315,\n",
       " 11.001461988304094]"
      ]
     },
     "execution_count": 301,
     "metadata": {},
     "output_type": "execute_result"
    }
   ],
   "source": [
    "acc_topk"
   ]
  },
  {
   "cell_type": "code",
   "execution_count": 302,
   "metadata": {},
   "outputs": [],
   "source": [
    "acc_topk = acc_topk[:1] + [9.688706362426277, 10.437230866759691, 10.35115734078952, 9.425212313660632] + acc_topk[1:]"
   ]
  },
  {
   "cell_type": "code",
   "execution_count": 303,
   "metadata": {},
   "outputs": [
    {
     "data": {
      "image/png": "[encoded data removed]",
      "text/plain": [
       "<Figure size 432x288 with 1 Axes>"
      ]
     },
     "metadata": {
      "needs_background": "light"
     },
     "output_type": "display_data"
    }
   ],
   "source": [
    "x = [1, 1.2, 1.4, 1.6, 1.8] + [i for i in range(2, 10)]\n",
    "plt.figure()\n",
    "plt.plot(x, acc_topk, color = 'r', marker = 'o')\n",
    "plt.plot(avelnum_tsallis, acc_tsallis, marker = 'o')\n",
    "plt.show()"
   ]
  },
  {
   "cell_type": "code",
   "execution_count": null,
   "metadata": {},
   "outputs": [],
   "source": []
  }
 ],
 "metadata": {
  "kernelspec": {
   "display_name": "Python 3",
   "language": "python",
   "name": "python3"
  },
  "language_info": {
   "codemirror_mode": {
    "name": "ipython",
    "version": 3
   },
   "file_extension": ".py",
   "mimetype": "text/x-python",
   "name": "python",
   "nbconvert_exporter": "python",
   "pygments_lexer": "ipython3",
   "version": "3.7.4"
  }
 },
 "nbformat": 4,
 "nbformat_minor": 4
}
