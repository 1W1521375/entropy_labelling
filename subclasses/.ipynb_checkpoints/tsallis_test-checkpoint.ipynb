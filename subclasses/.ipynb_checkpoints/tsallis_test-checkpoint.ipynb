{
 "cells": [
  {
   "cell_type": "markdown",
   "metadata": {},
   "source": [
    "# 間違えやすいクラスを決めるための予備実験"
   ]
  },
  {
   "cell_type": "code",
   "execution_count": 1,
   "metadata": {},
   "outputs": [],
   "source": [
    "%matplotlib inline\n",
    "import matplotlib as mpl\n",
    "import matplotlib.pyplot as plt\n",
    "import numpy as np\n",
    "import pandas as pd\n",
    "from sklearn.metrics import accuracy_score\n",
    "from sklearn.linear_model import LogisticRegression as LR\n",
    "from sklearn.ensemble import RandomForestClassifier as RF\n",
    "import time\n",
    "from random import *\n",
    "\n",
    "# import warnings filter\n",
    "from warnings import simplefilter\n",
    "# ignore all future warnings\n",
    "simplefilter(action = 'ignore', category = FutureWarning)"
   ]
  },
  {
   "cell_type": "code",
   "execution_count": 2,
   "metadata": {},
   "outputs": [],
   "source": [
    "def randints_nodup(k):\n",
    "    ns = []\n",
    "    while (len(ns) < k):\n",
    "        n = randint(0, 9)\n",
    "        if not n in ns:\n",
    "            ns.append(n)\n",
    "    return list(ns)"
   ]
  },
  {
   "cell_type": "code",
   "execution_count": 3,
   "metadata": {},
   "outputs": [],
   "source": [
    "# entropy labelling\n",
    "def tsallis_label(q, probas, s_cls):\n",
    "    elements = np.power(probas, q - 1)\n",
    "    # thrshld in tsallis entropy model\n",
    "    ts_thrshld = np.sum(np.power(probas, q))\n",
    "    if q < 1:\n",
    "        labels = [s_cls[i] for i, e in enumerate(elements) if e <= ts_thrshld]\n",
    "    else:\n",
    "        labels = [s_cls[i] for i, e in enumerate(elements) if e >= ts_thrshld]\n",
    "    return labels"
   ]
  },
  {
   "cell_type": "code",
   "execution_count": 4,
   "metadata": {},
   "outputs": [],
   "source": [
    "def flip_label(pair, label):\n",
    "    p_list = list(pair)\n",
    "    flipped = [c for c in p_list if (c != label)]\n",
    "    return flipped[0]"
   ]
  },
  {
   "cell_type": "code",
   "execution_count": 5,
   "metadata": {},
   "outputs": [],
   "source": [
    "def flip_cond():\n",
    "    r = random()\n",
    "    if r <= 0.25:\n",
    "        return True\n",
    "    else:\n",
    "        return False"
   ]
  },
  {
   "cell_type": "markdown",
   "metadata": {},
   "source": [
    "#### ラベルづけからその正解率の評価まで行う関数"
   ]
  },
  {
   "cell_type": "code",
   "execution_count": 6,
   "metadata": {},
   "outputs": [],
   "source": [
    "# labelling and evaluating them\n",
    "def tsallis_ncls_eval(q, classes_num, orig_A, lim_A):\n",
    "    s_cls = randints_nodup(classes_num)\n",
    "    s_cls.sort()\n",
    "    print(s_cls)\n",
    "    \n",
    "    # confusing pairs\n",
    "    conf_pairs = [{0, 9}, {1, 7}, {3, 8}, {4, 6}]\n",
    "    \n",
    "    # extracting samples of the chosen classes\n",
    "    trn_imgs = [img for i, img in enumerate(train_imgs) if train_labels[i] in s_cls]\n",
    "    trn_labels = [label for label in train_labels if label in s_cls]\n",
    "    # flip some labels\n",
    "#     flip_flags = [True if c_pair < set(s_cls) else False for c_pair in conf_pairs]\n",
    "    \n",
    "#     for i, label in enumerate(trn_labels):\n",
    "#         for j, flag in enumerate(flip_flags):\n",
    "#             if (flag and flip_cond() and label in conf_pairs[j]):\n",
    "#                 trn_labels[i] = flip_label(conf_pairs[j], label)\n",
    "    \n",
    "    # generate an annotator\n",
    "    a1_model = LR().fit(trn_imgs[:orig_A], trn_labels[:orig_A])\n",
    "    a1_proba = a1_model.predict_proba(trn_imgs[orig_A:orig_A + lim_A])\n",
    "    \n",
    "    count = [[] for i in range(10)]\n",
    "    # 間違え方の癖をみるため\n",
    "    for i, pred in enumerate(a1_model.predict(test_imgs)):\n",
    "        if (pred != test_labels[i]): \n",
    "#             print(f\"predicted {pred} for {test_labels[i]}\")\n",
    "            count[test_labels[i]].append(pred)\n",
    "    return s_cls, a1_proba[:4], count"
   ]
  },
  {
   "cell_type": "markdown",
   "metadata": {},
   "source": [
    "## MNIST"
   ]
  },
  {
   "cell_type": "code",
   "execution_count": 7,
   "metadata": {},
   "outputs": [
    {
     "name": "stderr",
     "output_type": "stream",
     "text": [
      "Using TensorFlow backend.\n"
     ]
    }
   ],
   "source": [
    "from keras.datasets import mnist\n",
    "\n",
    "(train_images, train_labels), (test_images, test_labels) = mnist.load_data()\n",
    "train_imgs = np.array([x.ravel() for x in train_images])\n",
    "test_imgs = np.array([y.ravel() for y in test_images])\n",
    "\n",
    "img_SIZE = train_images.shape[1]*train_images.shape[2]"
   ]
  },
  {
   "cell_type": "markdown",
   "metadata": {},
   "source": [
    "### labels evaluation"
   ]
  },
  {
   "cell_type": "code",
   "execution_count": 8,
   "metadata": {},
   "outputs": [
    {
     "name": "stdout",
     "output_type": "stream",
     "text": [
      "10 classes\n",
      "[0, 1, 2, 3, 4, 5, 6, 7, 8, 9]\n"
     ]
    }
   ],
   "source": [
    "for classes_num in range(10, 11):\n",
    "    print(f\"{classes_num} classes\")\n",
    "    orig_A1, lim_A1 = 2000, 2000\n",
    "    q = 0.99\n",
    "    s_cls, probas, count = tsallis_ncls_eval(q, classes_num, orig_A1, lim_A1)"
   ]
  },
  {
   "cell_type": "code",
   "execution_count": 9,
   "metadata": {},
   "outputs": [],
   "source": [
    "import collections"
   ]
  },
  {
   "cell_type": "code",
   "execution_count": 10,
   "metadata": {},
   "outputs": [
    {
     "name": "stdout",
     "output_type": "stream",
     "text": [
      "for 0: [(8, 16), (6, 16), (5, 15), (2, 14), (9, 8), (7, 6), (3, 3), (4, 2)]\n",
      "for 1: [(8, 18), (2, 7), (3, 6), (6, 4), (4, 4), (9, 2), (0, 2), (5, 1)]\n",
      "for 2: [(8, 47), (3, 26), (6, 20), (9, 18), (1, 16), (7, 13), (0, 13), (4, 9), (5, 6)]\n",
      "for 3: [(5, 79), (2, 32), (8, 27), (7, 21), (9, 12), (1, 8), (6, 7), (0, 7), (4, 5)]\n",
      "for 4: [(9, 79), (8, 31), (6, 17), (7, 9), (3, 7), (0, 6), (5, 5), (2, 3), (1, 1)]\n",
      "for 5: [(3, 64), (8, 62), (4, 35), (6, 23), (9, 16), (0, 14), (7, 13), (2, 6), (1, 4)]\n",
      "for 6: [(2, 26), (5, 23), (0, 22), (4, 13), (8, 9), (9, 6), (1, 4), (3, 3)]\n",
      "for 7: [(9, 62), (2, 28), (1, 14), (3, 11), (4, 8), (5, 6), (8, 6), (0, 3), (6, 1)]\n",
      "for 8: [(5, 85), (9, 41), (4, 34), (7, 33), (3, 28), (1, 27), (6, 22), (0, 20), (2, 15)]\n",
      "for 9: [(7, 85), (4, 59), (3, 34), (8, 31), (5, 28), (0, 15), (1, 9), (2, 5)]\n"
     ]
    }
   ],
   "source": [
    "c_list = []\n",
    "for i in range(10):\n",
    "    c_list.append(collections.Counter(count[i]).most_common())\n",
    "    print(f\"for {i}: {collections.Counter(count[i]).most_common()}\")"
   ]
  },
  {
   "cell_type": "markdown",
   "metadata": {},
   "source": [
    "#### 簡単のため，今回の実験では間違いやすいラベルtop2を選んでflip対象に設定する"
   ]
  },
  {
   "cell_type": "code",
   "execution_count": 11,
   "metadata": {},
   "outputs": [
    {
     "data": {
      "image/png": "[encoded data removed]",
      "text/plain": [
       "<Figure size 1584x864 with 10 Axes>"
      ]
     },
     "metadata": {
      "needs_background": "light"
     },
     "output_type": "display_data"
    }
   ],
   "source": [
    "fig = plt.figure(figsize = (22, 12))\n",
    "for i in range(10):\n",
    "    x = [e[0] for e in sorted(c_list[i], key = lambda x: x[0])]\n",
    "    y = [e[1] for e in sorted(c_list[i], key = lambda x: x[0])]\n",
    "    fig.add_subplot(2, 5, i + 1)\n",
    "    plt.bar(x, y)\n",
    "    plt.xlabel(\"misclassfied as\")\n",
    "    plt.ylabel(\"# of misclassified samples\")\n",
    "    plt.title(i)\n",
    "# plt.show()\n",
    "plt.savefig(\"LR-misclassification-habits.pdf\")"
   ]
  },
  {
   "cell_type": "code",
   "execution_count": null,
   "metadata": {},
   "outputs": [],
   "source": []
  },
  {
   "cell_type": "code",
   "execution_count": null,
   "metadata": {},
   "outputs": [],
   "source": []
  },
  {
   "cell_type": "code",
   "execution_count": null,
   "metadata": {},
   "outputs": [],
   "source": []
  },
  {
   "cell_type": "code",
   "execution_count": null,
   "metadata": {},
   "outputs": [],
   "source": []
  },
  {
   "cell_type": "code",
   "execution_count": null,
   "metadata": {},
   "outputs": [],
   "source": []
  },
  {
   "cell_type": "code",
   "execution_count": null,
   "metadata": {},
   "outputs": [],
   "source": []
  },
  {
   "cell_type": "code",
   "execution_count": null,
   "metadata": {},
   "outputs": [],
   "source": []
  },
  {
   "cell_type": "code",
   "execution_count": null,
   "metadata": {},
   "outputs": [],
   "source": []
  },
  {
   "cell_type": "code",
   "execution_count": null,
   "metadata": {},
   "outputs": [],
   "source": []
  },
  {
   "cell_type": "code",
   "execution_count": null,
   "metadata": {},
   "outputs": [],
   "source": []
  },
  {
   "cell_type": "code",
   "execution_count": null,
   "metadata": {},
   "outputs": [],
   "source": []
  },
  {
   "cell_type": "code",
   "execution_count": null,
   "metadata": {},
   "outputs": [],
   "source": []
  },
  {
   "cell_type": "code",
   "execution_count": null,
   "metadata": {},
   "outputs": [],
   "source": []
  }
 ],
 "metadata": {
  "kernelspec": {
   "display_name": "Python 3",
   "language": "python",
   "name": "python3"
  },
  "language_info": {
   "codemirror_mode": {
    "name": "ipython",
    "version": 3
   },
   "file_extension": ".py",
   "mimetype": "text/x-python",
   "name": "python",
   "nbconvert_exporter": "python",
   "pygments_lexer": "ipython3",
   "version": "3.6.4"
  }
 },
 "nbformat": 4,
 "nbformat_minor": 4
}
