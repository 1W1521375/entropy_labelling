{
 "cells": [
  {
   "cell_type": "markdown",
   "metadata": {},
   "source": [
    "# reduced classes experiments for entropy labelling"
   ]
  },
  {
   "cell_type": "code",
   "execution_count": 2,
   "metadata": {},
   "outputs": [],
   "source": [
    "%matplotlib inline\n",
    "import matplotlib as mpl\n",
    "import matplotlib.pyplot as plt\n",
    "import numpy as np\n",
    "import pandas as pd\n",
    "from sklearn.metrics import accuracy_score\n",
    "from sklearn.linear_model import LogisticRegression as LR\n",
    "from sklearn.ensemble import RandomForestClassifier as RF\n",
    "import time\n",
    "from numpy.random import *\n",
    "\n",
    "# import warnings filter\n",
    "from warnings import simplefilter\n",
    "# ignore all future warnings\n",
    "simplefilter(action = 'ignore', category = FutureWarning)"
   ]
  },
  {
   "cell_type": "code",
   "execution_count": 3,
   "metadata": {},
   "outputs": [],
   "source": [
    "def randints_nodup(k):\n",
    "    ns = []\n",
    "    while (len(ns) < k):\n",
    "        n = randint(0, 10)\n",
    "        if not n in ns:\n",
    "            ns.append(n)\n",
    "    return list(ns) "
   ]
  },
  {
   "cell_type": "code",
   "execution_count": 4,
   "metadata": {},
   "outputs": [],
   "source": [
    "# entropy labelling\n",
    "def ent_label(probas, s_cls):\n",
    "    info_con = (-1)*np.log2(probas)\n",
    "    # entropy\n",
    "    Hp = np.sum(np.multiply(probas, info_con))\n",
    "    # クラス数変えると，probaでのindexがそのままlabelとして使えないのでs_cls内を参照させる\n",
    "    labels = np.array([s_cls[i] for i, Ipk in enumerate(info_con) if Ipk <= Hp])\n",
    "    if len(labels) == 0:\n",
    "        print(\"no label\")\n",
    "    \n",
    "    return labels"
   ]
  },
  {
   "cell_type": "code",
   "execution_count": 5,
   "metadata": {},
   "outputs": [],
   "source": [
    "# duplicating images k-1 times, for k-labels\n",
    "def dup_imgs(img, labels):\n",
    "    k = len(labels)\n",
    "    if k == 1:\n",
    "        #print(img.shape)\n",
    "        return np.array(img)\n",
    "    else:\n",
    "        tmp_dup = np.array([img for _ in range(k)])\n",
    "        #print(tmp_dup.shape)\n",
    "        return tmp_dup"
   ]
  },
  {
   "cell_type": "code",
   "execution_count": 21,
   "metadata": {},
   "outputs": [],
   "source": [
    "# 乱数でクラスを選ぶ\n",
    "def entropy_scls_learning(classes_num, orig_A, lim_A):\n",
    "    # sortされてないとpredict_probaとるときに整合性とれなくなる\n",
    "    s_cls = randints_nodup(classes_num)\n",
    "    # sort()は破壊的変更を行うだけで，sortされたlistそのものが返ってくるのではない\n",
    "    s_cls.sort()\n",
    "    print(s_cls)\n",
    "\n",
    "    # 選ばれたクラスだけのデータとラベルを用意\n",
    "    trn_imgs = [img for i, img in enumerate(train_imgs) if train_labels[i] in s_cls]\n",
    "    trn_labels = [label for label in train_labels if label in s_cls]\n",
    "\n",
    "    tst_imgs = [img for i, img in enumerate(test_imgs) if test_labels[i] in s_cls]\n",
    "    tst_labels = [label for label in test_labels if label in s_cls]\n",
    "\n",
    "    #print(f\"{classes_num} classes learning: {s_cls}\")\n",
    "#     model = LR().fit(trn_imgs[orig_A:orig_A + lim_A], trn_labels[orig_A:orig_A + lim_A])\n",
    "#     acc = accuracy_score(tst_labels, model.predict(tst_imgs))\n",
    "    #print(f\"learnt with original labels: {acc*100}[%]\")\n",
    "\n",
    "    # 2クラスの場合，選ばれたクラス次第では，というかほとんどの組み合わせでdiv by 0になってしまうらしい\n",
    "    # generate an annotator\n",
    "    a1_model = LR().fit(trn_imgs[:orig_A], trn_labels[:orig_A])\n",
    "    a1_proba = a1_model.predict_proba(trn_imgs[orig_A:orig_A + lim_A])\n",
    "\n",
    "    # entropy labelling\n",
    "    mul_labels = [ent_label(probas, s_cls) for probas in a1_proba]\n",
    "    m_labels = []\n",
    "\n",
    "    for labels in mul_labels:\n",
    "         [m_labels.append(l) for l in labels]\n",
    "    \n",
    "    # images duplication\n",
    "    dupld_imgs = np.array([dup_imgs(img, mul_labels[i]) for i, img in enumerate(trn_imgs[orig_A:orig_A + lim_A])])\n",
    "\n",
    "    d_imgs = []\n",
    "\n",
    "    for img in dupld_imgs:\n",
    "        a = img.shape\n",
    "        n = a[0]\n",
    "        if (n == img_SIZE):\n",
    "            d_imgs.append(img)\n",
    "        else:\n",
    "            for _ in range(n):\n",
    "                d_imgs.append(img[0])\n",
    "\n",
    "    d_imgs = np.array(d_imgs)\n",
    "\n",
    "    # final learning\n",
    "    final_model = LR().fit(d_imgs, m_labels)\n",
    "    acc = accuracy_score(tst_labels, final_model.predict(tst_imgs))\n",
    "    #print(f\"entropy labelled learning: {acc*100}[%]\")\n",
    "    return acc*100"
   ]
  },
  {
   "cell_type": "markdown",
   "metadata": {},
   "source": [
    "## MNIST"
   ]
  },
  {
   "cell_type": "code",
   "execution_count": 22,
   "metadata": {},
   "outputs": [],
   "source": [
    "from keras.datasets import mnist\n",
    "\n",
    "(train_images, train_labels), (test_images, test_labels) = mnist.load_data()\n",
    "train_imgs = np.array([x.ravel() for x in train_images])\n",
    "test_imgs = np.array([y.ravel() for y in test_images])\n",
    "\n",
    "img_SIZE = train_images.shape[1]*train_images.shape[2]"
   ]
  },
  {
   "cell_type": "code",
   "execution_count": 25,
   "metadata": {},
   "outputs": [
    {
     "name": "stdout",
     "output_type": "stream",
     "text": [
      "[0, 2, 7]\n"
     ]
    }
   ],
   "source": [
    "orig_A1, lim_A1 = 2000, 2000\n",
    "classes_num = 3\n",
    "results = entropy_scls_learning(classes_num, orig_A1, lim_A1)"
   ]
  },
  {
   "cell_type": "code",
   "execution_count": 26,
   "metadata": {},
   "outputs": [
    {
     "data": {
      "text/plain": [
       "96.71052631578947"
      ]
     },
     "execution_count": 26,
     "metadata": {},
     "output_type": "execute_result"
    }
   ],
   "source": [
    "results"
   ]
  },
  {
   "cell_type": "code",
   "execution_count": null,
   "metadata": {},
   "outputs": [],
   "source": []
  }
 ],
 "metadata": {
  "kernelspec": {
   "display_name": "Python 3",
   "language": "python",
   "name": "python3"
  },
  "language_info": {
   "codemirror_mode": {
    "name": "ipython",
    "version": 3
   },
   "file_extension": ".py",
   "mimetype": "text/x-python",
   "name": "python",
   "nbconvert_exporter": "python",
   "pygments_lexer": "ipython3",
   "version": "3.7.4"
  }
 },
 "nbformat": 4,
 "nbformat_minor": 4
}
