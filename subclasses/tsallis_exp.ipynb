{
 "cells": [
  {
   "cell_type": "code",
   "execution_count": 1,
   "metadata": {},
   "outputs": [],
   "source": [
    "%matplotlib inline\n",
    "import matplotlib as mpl\n",
    "import matplotlib.pyplot as plt\n",
    "import numpy as np\n",
    "import pandas as pd\n",
    "from sklearn.metrics import accuracy_score\n",
    "from sklearn.linear_model import LogisticRegression as LR\n",
    "from sklearn.ensemble import RandomForestClassifier as RF\n",
    "import time\n",
    "from random import *\n",
    "\n",
    "# import warnings filter\n",
    "from warnings import simplefilter\n",
    "# ignore all future warnings\n",
    "simplefilter(action = 'ignore', category = FutureWarning)"
   ]
  },
  {
   "cell_type": "code",
   "execution_count": 10,
   "metadata": {},
   "outputs": [],
   "source": [
    "def randints_nodup(k):\n",
    "    ns = []\n",
    "    while (len(ns) < k):\n",
    "        n = randint(0, 9)\n",
    "        if not n in ns:\n",
    "            ns.append(n)\n",
    "    return list(ns)"
   ]
  },
  {
   "cell_type": "markdown",
   "metadata": {},
   "source": [
    "### s_cls内にflip対があるか，またその数を調べてflipする組み合わせを出力する"
   ]
  },
  {
   "cell_type": "code",
   "execution_count": 95,
   "metadata": {},
   "outputs": [
    {
     "name": "stdout",
     "output_type": "stream",
     "text": [
      "from 7, 1 destination labels to flip to: {9}\n",
      "from 8, 2 destination labels to flip to: {9, 2}\n",
      "[8, 2, 9, 1, 7]\n",
      "{'7': {9}, '8': {9, 2}}\n"
     ]
    }
   ],
   "source": [
    "s_cls = randints_nodup(5)\n",
    "conf_pairs = [(0, 6), (3, 5), (4, 9), (7, 9), (8, 2, 5, 9)]"
   ]
  },
  {
   "cell_type": "code",
   "execution_count": 109,
   "metadata": {},
   "outputs": [
    {
     "name": "stdout",
     "output_type": "stream",
     "text": [
      "from 7, 1 destination labels to flip to: {9}\n",
      "from 8, 2 destination labels to flip to: {9, 2}\n",
      "[8, 2, 9, 1, 7]\n",
      "{'7': [9], '8': [9, 2]}\n"
     ]
    }
   ],
   "source": [
    "flip_dict = dict()\n",
    "for c_pair in conf_pairs:\n",
    "    origin = c_pair[0]\n",
    "    # まず元となるlabelがそもそもs_clsにあるかどうか\n",
    "    if (origin in s_cls):\n",
    "        intersection = set(c_pair)&set(s_cls)\n",
    "        n = len(intersection) - 1\n",
    "        # 元ラベルもflip先も最低1組ある場合\n",
    "        if (1 <= n):\n",
    "            dests = intersection - {origin}\n",
    "            print(f\"from {origin}, {n} destination labels to flip to: {dests}\")\n",
    "            flip_dict[str(origin)] = list(dests)\n",
    "\n",
    "print(s_cls)\n",
    "print(flip_dict)"
   ]
  },
  {
   "cell_type": "code",
   "execution_count": 110,
   "metadata": {},
   "outputs": [
    {
     "name": "stdout",
     "output_type": "stream",
     "text": [
      "100 labels\n",
      "[8, 8, 8, 8, 8, 8, 8, 8, 8, 8, 8, 8, 8, 8, 8, 8, 8, 8, 8, 8, 8, 8, 8, 8, 8, 8, 8, 8, 8, 8, 8, 8, 8, 8, 8, 8, 8, 8, 8, 8, 8, 8, 8, 8, 8, 8, 8, 8, 8, 8, 8, 8, 8, 8, 8, 8, 8, 8, 8, 8, 8, 8, 8, 8, 8, 8, 8, 8, 8, 8, 8, 8, 8, 8, 8, 8, 8, 8, 8, 8, 8, 8, 8, 8, 8, 8, 8, 8, 8, 8, 8, 8, 8, 8, 8, 8, 8, 8, 8, 8]\n"
     ]
    }
   ],
   "source": [
    "labels = [8 for i in range(100)]\n",
    "print(f\"{len(labels)} labels\\n{labels}\")"
   ]
  },
  {
   "cell_type": "markdown",
   "metadata": {},
   "source": [
    "### 実際にflipする処理"
   ]
  },
  {
   "cell_type": "code",
   "execution_count": 111,
   "metadata": {},
   "outputs": [
    {
     "name": "stdout",
     "output_type": "stream",
     "text": [
      "100\n",
      "[8, 8, 8, 8, 8, 8, 8, 8, 8, 8, 8, 8, 8, 8, 8, 8, 8, 8, 8, 8, 8, 8, 8, 8, 8, 8, 8, 8, 8, 8, 8, 8, 8, 8, 8, 8, 8, 8, 8, 8, 8, 8, 8, 8, 8, 8, 8, 8, 8, 8, 8, 8, 8, 8, 8, 8, 8, 8, 8, 8, 8, 8, 8, 8, 8, 8, 8, 8, 8, 8, 8, 8, 8, 8, 8, 8, 8, 8, 8, 8, 8, 8, 8, 8, 8, 8, 8, 8, 8, 8, 8, 8, 8, 8, 8, 8, 8, 8, 8, 8]\n"
     ]
    }
   ],
   "source": [
    "dests = [9, 2]\n",
    "n = len(dests)\n",
    "half = len(labels)//2\n",
    "chunk = half//n\n",
    "flipped_list = labels[:half]\n",
    "\n",
    "print(len(labels))\n",
    "print(labels)\n",
    "\n",
    "for i in range(n):\n",
    "    flipped_list = flipped_list + [dests[i] for k in range(chunk)]\n",
    "\n",
    "d = len(labels) - len(flipped_list)\n",
    "while (d > 0):\n",
    "    flipped_list.append(dests[-1])\n",
    "    d -= 1"
   ]
  },
  {
   "cell_type": "code",
   "execution_count": 112,
   "metadata": {},
   "outputs": [
    {
     "name": "stdout",
     "output_type": "stream",
     "text": [
      "100\n",
      "[8, 8, 8, 8, 8, 8, 8, 8, 8, 8, 8, 8, 8, 8, 8, 8, 8, 8, 8, 8, 8, 8, 8, 8, 8, 8, 8, 8, 8, 8, 8, 8, 8, 8, 8, 8, 8, 8, 8, 8, 8, 8, 8, 8, 8, 8, 8, 8, 8, 8, 9, 9, 9, 9, 9, 9, 9, 9, 9, 9, 9, 9, 9, 9, 9, 9, 9, 9, 9, 9, 9, 9, 9, 9, 9, 2, 2, 2, 2, 2, 2, 2, 2, 2, 2, 2, 2, 2, 2, 2, 2, 2, 2, 2, 2, 2, 2, 2, 2, 2]\n"
     ]
    }
   ],
   "source": [
    "print(len(flipped_list))\n",
    "print(flipped_list)"
   ]
  },
  {
   "cell_type": "code",
   "execution_count": 119,
   "metadata": {},
   "outputs": [
    {
     "name": "stdout",
     "output_type": "stream",
     "text": [
      "[8, 9, 8, 9, 2, 9, 9, 8, 8, 2, 8, 8, 8, 9, 9, 9, 2, 8, 9, 8, 2, 8, 2, 8, 8, 2, 8, 2, 9, 9, 9, 2, 2, 2, 9, 8, 2, 8, 8, 8, 8, 9, 8, 2, 8, 8, 8, 2, 8, 9, 2, 8, 2, 9, 8, 8, 8, 9, 8, 8, 9, 8, 8, 8, 8, 9, 8, 8, 8, 2, 9, 2, 9, 9, 8, 2, 8, 8, 2, 8, 2, 9, 8, 9, 8, 8, 2, 8, 2, 8, 9, 8, 2, 8, 2, 2, 8, 8, 8, 9]\n"
     ]
    }
   ],
   "source": [
    "from random import shuffle\n",
    "shuffle(flipped_list)\n",
    "print(flipped_list)"
   ]
  },
  {
   "cell_type": "code",
   "execution_count": null,
   "metadata": {},
   "outputs": [],
   "source": []
  }
 ],
 "metadata": {
  "kernelspec": {
   "display_name": "Python 3",
   "language": "python",
   "name": "python3"
  },
  "language_info": {
   "codemirror_mode": {
    "name": "ipython",
    "version": 3
   },
   "file_extension": ".py",
   "mimetype": "text/x-python",
   "name": "python",
   "nbconvert_exporter": "python",
   "pygments_lexer": "ipython3",
   "version": "3.6.4"
  }
 },
 "nbformat": 4,
 "nbformat_minor": 4
}
