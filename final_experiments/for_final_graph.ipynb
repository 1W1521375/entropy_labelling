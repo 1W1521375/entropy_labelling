{
 "cells": [
  {
   "cell_type": "code",
   "execution_count": 67,
   "metadata": {},
   "outputs": [],
   "source": [
    "%matplotlib inline\n",
    "import matplotlib as mpl\n",
    "import matplotlib.pyplot as plt\n",
    "import codecs"
   ]
  },
  {
   "cell_type": "markdown",
   "metadata": {},
   "source": [
    "# MNIST"
   ]
  },
  {
   "cell_type": "code",
   "execution_count": 68,
   "metadata": {},
   "outputs": [],
   "source": [
    "# top-1\n",
    "with open(\"topk_log.txt\") as f:\n",
    "    l = f.readlines()\n",
    "top1_labels = eval(l[1])\n",
    "true_labels = eval(l[2])"
   ]
  },
  {
   "cell_type": "markdown",
   "metadata": {},
   "source": [
    "## Top-1で間違えたインスタンスを記録"
   ]
  },
  {
   "cell_type": "code",
   "execution_count": 69,
   "metadata": {},
   "outputs": [],
   "source": [
    "indexes = [i for i, (generated_l, true_l) in enumerate(zip(top1_labels, true_labels)) if (generated_l[0] != true_l)]\n",
    "for_failed_true = [true_labels[i] for i in indexes]"
   ]
  },
  {
   "cell_type": "code",
   "execution_count": 70,
   "metadata": {},
   "outputs": [],
   "source": [
    "# Tsallis\n",
    "with open(\"tsallis_log.txt\") as f:\n",
    "    l = f.readlines()\n",
    "vs = [i for i in range(1, 22, 2)]\n",
    "tsallis_labels = [eval(l[v]) for v in vs] # generated labels\n",
    "# true_labels = eval(l[20]) # true labels"
   ]
  },
  {
   "cell_type": "markdown",
   "metadata": {},
   "source": [
    "## Top-1で間違えたインスタンスに対してTsallisが付与したラベル集合の精度を計算"
   ]
  },
  {
   "cell_type": "code",
   "execution_count": 72,
   "metadata": {},
   "outputs": [
    {
     "name": "stdout",
     "output_type": "stream",
     "text": [
      "[[4, 2, 6, 0, 5, 8, 9, 1, 7], [8, 5, 0, 6, 2, 9, 3, 4, 1], [9, 8, 4, 6, 5, 0, 2, 1, 3]]\n",
      "[[0, 2, 4, 5, 6, 8, 9], [0, 5, 6, 8], [4, 8, 9]]\n",
      "[[0, 2, 4, 5, 6], [0, 5, 8], [8, 9]]\n",
      "[[0, 2, 4, 6], [5, 8], [8, 9]]\n",
      "[[4], [5, 8], [9]]\n",
      "[[4], [5, 8], [9]]\n",
      "[[4], [8], [9]]\n",
      "[[4], [8], [9]]\n",
      "[[4], [8], [9]]\n",
      "[[4], [8], [9]]\n",
      "[[4], [8], [9]]\n"
     ]
    }
   ],
   "source": [
    "for_failed_tsallis = []\n",
    "for labels_set in tsallis_labels:\n",
    "    for_failed_tsallis.append([labels_set[i] for i in indexes])"
   ]
  },
  {
   "cell_type": "code",
   "execution_count": 90,
   "metadata": {},
   "outputs": [],
   "source": [
    "def acc_calc(l_set, for_failed_true):\n",
    "    score = 0\n",
    "    total_lnum = 0\n",
    "    for labels, t_label in zip(l_set, for_failed_true):\n",
    "        total_lnum += len(labels)\n",
    "        if (t_label in labels):\n",
    "            score += 1 \n",
    "    return (total_lnum/len(for_failed_true), score*100/total_lnum)"
   ]
  },
  {
   "cell_type": "code",
   "execution_count": 170,
   "metadata": {},
   "outputs": [],
   "source": [
    "acc_tsallis = [acc_calc(l_set, for_failed_true)[1] for l_set in for_failed_tsallis]\n",
    "avelnum_tsallis = [acc_calc(l_set, for_failed_true)[0] for l_set in for_failed_tsallis]"
   ]
  },
  {
   "cell_type": "code",
   "execution_count": 171,
   "metadata": {},
   "outputs": [
    {
     "data": {
      "image/png": "[encoded data removed]",
      "text/plain": [
       "<Figure size 432x288 with 1 Axes>"
      ]
     },
     "metadata": {
      "needs_background": "light"
     },
     "output_type": "display_data"
    }
   ],
   "source": [
    "plt.figure()\n",
    "plt.plot(avelnum_tsallis, acc_tsallis, marker = 'o')\n",
    "plt.show()"
   ]
  },
  {
   "cell_type": "markdown",
   "metadata": {},
   "source": [
    "## Top-1で間違えたインスタンスに対してTop-Rが付与したラベル"
   ]
  },
  {
   "cell_type": "code",
   "execution_count": 133,
   "metadata": {},
   "outputs": [],
   "source": [
    "# top-r\n",
    "with open(\"topr_log.txt\") as f:\n",
    "    l = f.readlines()\n",
    "topr_indexes = [j for j in range(5, 30, 6)] + [j for j in range(36, 61, 6)] + [j for j in range(67, 92, 6)] + [j for j in range(98, 123, 6)]\n",
    "topr_sets = [eval(l[i]) for i in topr_indexes]\n",
    "top1_indexes = [j for j in range(7, 32, 6)] + [j for j in range(38, 63, 6)] + [j for j in range(69, 94, 6)] + [j for j in range(100, 125, 6)]\n",
    "top1_sets = [eval(l[i]) for i in top1_indexes]\n",
    "true_indexes = [j for j in range(9, 34, 6)] + [j for j in range(40, 65, 6)] + [j for j in range(71, 96, 6)] + [j for j in range(102, 127, 6)]\n",
    "true_sets = [eval(l[i]) for i in true_indexes]"
   ]
  },
  {
   "cell_type": "code",
   "execution_count": 134,
   "metadata": {},
   "outputs": [],
   "source": [
    "indexes_sets = [[i for i, (generated_l, true_l) in enumerate(zip(top1_labels, true_labels)) if (generated_l[0] != true_l)] for top1_labels, true_labels in zip(top1_sets, true_sets)]\n",
    "for_failed_true_sets = [[true_labels[i] for i in true_indexes] for topr_labels, true_indexes in zip(topr_sets, indexes_sets)]"
   ]
  },
  {
   "cell_type": "code",
   "execution_count": 135,
   "metadata": {},
   "outputs": [],
   "source": [
    "for_failed_topr_sets = []\n",
    "for topr_labels, indexes in zip(topr_sets, indexes_sets):\n",
    "    for_failed_topr_sets.append([topr_labels[i] for i in indexes])"
   ]
  },
  {
   "cell_type": "code",
   "execution_count": 136,
   "metadata": {},
   "outputs": [],
   "source": [
    "acc_topr = [acc_calc(l_set, for_failed_true)[1] for l_set, for_failed_true in zip(for_failed_topr_sets, for_failed_true_sets)]\n",
    "avelnum_topr = [acc_calc(l_set, for_failed_true)[0] for l_set in zip(for_failed_topr_sets, for_failed_true_sets)]"
   ]
  },
  {
   "cell_type": "code",
   "execution_count": 137,
   "metadata": {},
   "outputs": [
    {
     "data": {
      "text/plain": [
       "[10.054347826086957,\n",
       " 10.962566844919786,\n",
       " 7.563025210084033,\n",
       " 9.946236559139784,\n",
       " 9.917355371900827,\n",
       " 9.699769053117782,\n",
       " 10.120481927710843,\n",
       " 8.76777251184834,\n",
       " 11.91588785046729,\n",
       " 11.682242990654206,\n",
       " 8.383233532934131,\n",
       " 12.396694214876034,\n",
       " 8.130081300813009,\n",
       " 10.450819672131148,\n",
       " 12.394957983193278,\n",
       " 9.497206703910615,\n",
       " 10.26615969581749,\n",
       " 9.586466165413533,\n",
       " 7.393715341959335,\n",
       " 10.382513661202186]"
      ]
     },
     "execution_count": 137,
     "metadata": {},
     "output_type": "execute_result"
    }
   ],
   "source": [
    "acc_topr"
   ]
  },
  {
   "cell_type": "code",
   "execution_count": 138,
   "metadata": {},
   "outputs": [
    {
     "data": {
      "text/plain": [
       "[2.0,\n",
       " 2.0,\n",
       " 2.0,\n",
       " 2.0,\n",
       " 2.0,\n",
       " 2.0,\n",
       " 2.0,\n",
       " 2.0,\n",
       " 2.0,\n",
       " 2.0,\n",
       " 2.0,\n",
       " 2.0,\n",
       " 2.0,\n",
       " 2.0,\n",
       " 2.0,\n",
       " 2.0,\n",
       " 2.0,\n",
       " 2.0,\n",
       " 2.0,\n",
       " 2.0]"
      ]
     },
     "execution_count": 138,
     "metadata": {},
     "output_type": "execute_result"
    }
   ],
   "source": [
    "avelnum_topr"
   ]
  },
  {
   "cell_type": "code",
   "execution_count": 145,
   "metadata": {},
   "outputs": [
    {
     "data": {
      "text/plain": [
       "[9.688706362426277, 10.437230866759691, 10.35115734078952, 9.425212313660632]"
      ]
     },
     "execution_count": 145,
     "metadata": {},
     "output_type": "execute_result"
    }
   ],
   "source": [
    "[(acc_topr[i] + acc_topr[i + 1] + acc_topr[i + 2] + acc_topr[i + 3] + acc_topr[i + 4])/5 for i in range(0, 16, 5)]"
   ]
  },
  {
   "cell_type": "code",
   "execution_count": 147,
   "metadata": {},
   "outputs": [
    {
     "data": {
      "image/png": "[encoded data removed]",
      "text/plain": [
       "<Figure size 432x288 with 1 Axes>"
      ]
     },
     "metadata": {
      "needs_background": "light"
     },
     "output_type": "display_data"
    }
   ],
   "source": [
    "plt.figure()\n",
    "plt.plot([1.2, 1.4, 1.6, 1.8], [9.688706362426277, 10.437230866759691, 10.35115734078952, 9.425212313660632], color = 'r', marker = 'o')\n",
    "plt.show()"
   ]
  },
  {
   "cell_type": "code",
   "execution_count": null,
   "metadata": {},
   "outputs": [],
   "source": []
  }
 ],
 "metadata": {
  "kernelspec": {
   "display_name": "Python 3",
   "language": "python",
   "name": "python3"
  },
  "language_info": {
   "codemirror_mode": {
    "name": "ipython",
    "version": 3
   },
   "file_extension": ".py",
   "mimetype": "text/x-python",
   "name": "python",
   "nbconvert_exporter": "python",
   "pygments_lexer": "ipython3",
   "version": "3.7.4"
  }
 },
 "nbformat": 4,
 "nbformat_minor": 4
}
