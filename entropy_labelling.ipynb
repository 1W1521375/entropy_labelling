{
 "cells": [
  {
   "cell_type": "markdown",
   "metadata": {},
   "source": [
    "# Entropy labelling learning"
   ]
  },
  {
   "cell_type": "code",
   "execution_count": 3,
   "metadata": {},
   "outputs": [],
   "source": [
    "%matplotlib inline\n",
    "import matplotlib as mpl\n",
    "import matplotlib.pyplot as plt\n",
    "import numpy as np\n",
    "import pandas as pd\n",
    "from keras.datasets import mnist\n",
    "from sklearn.metrics import accuracy_score\n",
    "from sklearn.linear_model import LogisticRegression as LR\n",
    "from sklearn.ensemble import RandomForestClassifier as RF\n",
    "from sklearn.svm import SVC\n",
    "\n",
    "import time\n",
    "\n",
    "# import warnings filter\n",
    "from warnings import simplefilter\n",
    "# ignore all future warnings\n",
    "simplefilter(action = 'ignore', category = FutureWarning)"
   ]
  },
  {
   "cell_type": "code",
   "execution_count": 496,
   "metadata": {},
   "outputs": [],
   "source": [
    "(train_images, train_labels), (test_images, test_labels) = mnist.load_data()\n",
    "train_imgs = np.array([x.ravel() for x in train_images])\n",
    "test_imgs = np.array([y.ravel() for y in test_images])\n",
    "\n",
    "orig_S = 2000\n",
    "lim_S1 = 25*3\n",
    "lim_S2 = lim_S1*2"
   ]
  },
  {
   "cell_type": "code",
   "execution_count": 497,
   "metadata": {},
   "outputs": [],
   "source": [
    "# entropy labelling\n",
    "def ent_label(probas):\n",
    "    info_con = (-1)*np.log2(probas)\n",
    "    # entropy\n",
    "    Hp = np.sum(np.multiply(probas, info_con))\n",
    "    temp_labels = [i for i, Ipk in enumerate(info_con) if Ipk <= Hp]\n",
    "\n",
    "    paddings = np.full(10 - len(temp_labels), np.nan)\n",
    "    return np.concatenate((temp_labels, paddings), axis = 0)"
   ]
  },
  {
   "cell_type": "code",
   "execution_count": 498,
   "metadata": {},
   "outputs": [],
   "source": [
    "# generate an annotator\n",
    "modelS = LR().fit(train_imgs[orig_S:orig_S*2], train_labels[orig_S:orig_S*2])\n",
    "s_proba = modelS.predict_proba(test_imgs[lim_S1:lim_S1 + lim_S2])\n",
    "\n",
    "# entropy labelling\n",
    "mul_labels = [ent_label(probas) for i, probas in enumerate(s_proba)]"
   ]
  },
  {
   "cell_type": "code",
   "execution_count": 499,
   "metadata": {},
   "outputs": [],
   "source": [
    "# duplicating images k-1 times, for k-labels\n",
    "def dup_imgs(img, labels):\n",
    "    k = np.count_nonzero(np.array((~np.isnan(labels)), int))\n",
    "    if k == 1:\n",
    "        #print(img.shape)\n",
    "        return np.array(img)\n",
    "    else:\n",
    "        tmp_dup = np.array([img for _ in range(k)])\n",
    "        #print(tmp_dup.shape)\n",
    "        return tmp_dup  \n",
    "    \n",
    "dupld_imgs = np.array([dup_imgs(img, mul_labels[i]) for i, img in enumerate(test_imgs[lim_S1:lim_S1 + lim_S2])])\n",
    "\n",
    "d_imgs = []\n",
    "    \n",
    "for img in dupld_imgs:\n",
    "    a = img.shape\n",
    "    n = a[0]\n",
    "    if (n == 784):\n",
    "        d_imgs.append(img)\n",
    "    else:\n",
    "        for _ in range(n):\n",
    "            d_imgs.append(img[0])\n",
    "            \n",
    "d_imgs = np.array(d_imgs)"
   ]
  },
  {
   "cell_type": "markdown",
   "metadata": {},
   "source": [
    "### ravelling mul_labels"
   ]
  },
  {
   "cell_type": "code",
   "execution_count": 500,
   "metadata": {},
   "outputs": [],
   "source": [
    "def extract_labels(labels):\n",
    "    k = np.count_nonzero(np.array((~np.isnan(labels)), int))\n",
    "    return labels[:k]\n",
    "\n",
    "mul_labels = [extract_labels(labels) for labels in mul_labels]\n",
    "\n",
    "m_labels = []\n",
    "    \n",
    "for labels in mul_labels:\n",
    "     [m_labels.append(l) for l in labels]"
   ]
  },
  {
   "cell_type": "code",
   "execution_count": 501,
   "metadata": {},
   "outputs": [
    {
     "name": "stdout",
     "output_type": "stream",
     "text": [
      "77.24[%]\n"
     ]
    }
   ],
   "source": [
    "final_model = LR().fit(d_imgs, m_labels)\n",
    "acc = accuracy_score(train_labels[:10000], final_model.predict(train_imgs[:10000]))\n",
    "print(f\"{acc*100}[%]\")"
   ]
  },
  {
   "cell_type": "markdown",
   "metadata": {},
   "source": [
    "### 画像の複製できている"
   ]
  },
  {
   "cell_type": "code",
   "execution_count": 502,
   "metadata": {},
   "outputs": [
    {
     "data": {
      "image/png": "[encoded data removed]",
      "text/plain": [
       "<Figure size 720x720 with 4 Axes>"
      ]
     },
     "metadata": {},
     "output_type": "display_data"
    }
   ],
   "source": [
    "plt.figure(figsize=(10,10))\n",
    "\n",
    "for i in range(4):\n",
    "    plt.subplot(5,5,i+1)\n",
    "    plt.xticks([])\n",
    "    plt.yticks([])\n",
    "    plt.grid('off')\n",
    "    plt.imshow(d_imgs[22 + i].reshape(28, 28), cmap=plt.cm.binary)"
   ]
  },
  {
   "cell_type": "code",
   "execution_count": null,
   "metadata": {},
   "outputs": [],
   "source": []
  },
  {
   "cell_type": "code",
   "execution_count": null,
   "metadata": {},
   "outputs": [],
   "source": []
  },
  {
   "cell_type": "code",
   "execution_count": null,
   "metadata": {},
   "outputs": [],
   "source": []
  },
  {
   "cell_type": "code",
   "execution_count": null,
   "metadata": {},
   "outputs": [],
   "source": []
  },
  {
   "cell_type": "code",
   "execution_count": null,
   "metadata": {},
   "outputs": [],
   "source": []
  },
  {
   "cell_type": "code",
   "execution_count": null,
   "metadata": {},
   "outputs": [],
   "source": []
  },
  {
   "cell_type": "code",
   "execution_count": null,
   "metadata": {},
   "outputs": [],
   "source": []
  },
  {
   "cell_type": "code",
   "execution_count": null,
   "metadata": {},
   "outputs": [],
   "source": []
  },
  {
   "cell_type": "code",
   "execution_count": null,
   "metadata": {},
   "outputs": [],
   "source": []
  }
 ],
 "metadata": {
  "kernelspec": {
   "display_name": "Python 3",
   "language": "python",
   "name": "python3"
  },
  "language_info": {
   "codemirror_mode": {
    "name": "ipython",
    "version": 3
   },
   "file_extension": ".py",
   "mimetype": "text/x-python",
   "name": "python",
   "nbconvert_exporter": "python",
   "pygments_lexer": "ipython3",
   "version": "3.7.4"
  }
 },
 "nbformat": 4,
 "nbformat_minor": 4
}
