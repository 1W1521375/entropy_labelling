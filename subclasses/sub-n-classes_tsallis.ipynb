{
 "cells": [
  {
   "cell_type": "markdown",
   "metadata": {},
   "source": [
    "# sub-n-classes, Tsallis Entropy labelling"
   ]
  },
  {
   "cell_type": "code",
   "execution_count": 1,
   "metadata": {},
   "outputs": [],
   "source": [
    "%matplotlib inline\n",
    "import matplotlib as mpl\n",
    "import matplotlib.pyplot as plt\n",
    "import numpy as np\n",
    "import pandas as pd\n",
    "from sklearn.metrics import accuracy_score\n",
    "from sklearn.linear_model import LogisticRegression as LR\n",
    "from sklearn.ensemble import RandomForestClassifier as RF\n",
    "import time\n",
    "from random import *\n",
    "\n",
    "# import warnings filter\n",
    "from warnings import simplefilter\n",
    "# ignore all future warnings\n",
    "simplefilter(action = 'ignore', category = FutureWarning)"
   ]
  },
  {
   "cell_type": "code",
   "execution_count": 2,
   "metadata": {},
   "outputs": [],
   "source": [
    "def randints_nodup(k):\n",
    "    ns = []\n",
    "    while (len(ns) < k):\n",
    "        n = randint(0, 9)\n",
    "        if not n in ns:\n",
    "            ns.append(n)\n",
    "    return list(ns)"
   ]
  },
  {
   "cell_type": "code",
   "execution_count": 3,
   "metadata": {},
   "outputs": [],
   "source": [
    "# entropy labelling\n",
    "def tsallis_label(q, probas, s_cls):\n",
    "    elements = np.power(probas, q - 1)\n",
    "    # thrshld in tsallis entropy model\n",
    "    ts_thrshld = np.sum(np.power(probas, q))\n",
    "    if q < 1:\n",
    "        labels = [s_cls[i] for i, e in enumerate(elements) if e <= ts_thrshld]\n",
    "    else:\n",
    "        labels = [s_cls[i] for i, e in enumerate(elements) if e >= ts_thrshld]\n",
    "    return labels"
   ]
  },
  {
   "cell_type": "code",
   "execution_count": 4,
   "metadata": {},
   "outputs": [],
   "source": [
    "def flip_label(pair, label):\n",
    "    p_list = list(pair)\n",
    "    flipped = [c for c in p_list if (c != label)]\n",
    "    return flipped[0]"
   ]
  },
  {
   "cell_type": "code",
   "execution_count": 5,
   "metadata": {},
   "outputs": [],
   "source": [
    "def flip_cond():\n",
    "    r = random()\n",
    "    if r <= 0.25:\n",
    "        return True\n",
    "    else:\n",
    "        return False"
   ]
  },
  {
   "cell_type": "markdown",
   "metadata": {},
   "source": [
    "#### ラベルづけからその正解率の評価まで行う関数"
   ]
  },
  {
   "cell_type": "code",
   "execution_count": 9,
   "metadata": {},
   "outputs": [],
   "source": [
    "# labelling and evaluating them\n",
    "def tsallis_ncls_eval(q, classes_num, orig_A, lim_A):\n",
    "    s_cls = randints_nodup(classes_num)\n",
    "    s_cls.sort()\n",
    "    print(s_cls)\n",
    "    \n",
    "    # confusing pairs ... see LR-misclassification-habits.pdf\n",
    "    conf_pairs = [{0, 8}, {0, 6}, \n",
    "                  {1, 8}, {1, 2}, \n",
    "                  {2, 8}, {2, 3}, \n",
    "                  {3, 5}, {3, 2}, \n",
    "                  {4, 9}, {4, 8},\n",
    "                  {5, 3}, {5, 8}, \n",
    "                  {6, 2}, {6, 5}, \n",
    "                  {7, 9}, {7, 2},\n",
    "                  {8, 5}, {8, 9}, \n",
    "                  {9, 7}, {9, 4}]\n",
    "    \n",
    "    # 選ばれたクラスだけのデータとラベルを用意\n",
    "    trn_imgs = [img for i, img in enumerate(train_imgs) if train_labels[i] in s_cls]\n",
    "    trn_labels = [label for label in train_labels if label in s_cls]\n",
    "    # flip some labels\n",
    "    flip_flags = [True if c_pair < set(s_cls) else False for c_pair in conf_pairs]\n",
    "    \n",
    "    for i, label in enumerate(trn_labels):\n",
    "        for j, flag in enumerate(flip_flags):\n",
    "            if (flag and flip_cond() and label in conf_pairs[j]):\n",
    "                trn_labels[i] = flip_label(conf_pairs[j], label)\n",
    "\n",
    "    # generate an annotator\n",
    "    a1_model = LR(max_iter = 200).fit(trn_imgs[:orig_A], trn_labels[:orig_A])\n",
    "    a1_proba = a1_model.predict_proba(trn_imgs[orig_A:orig_A + lim_A])\n",
    "\n",
    "    # entropy labelling\n",
    "    mul_labels = [tsallis_label(q, probas, s_cls) for probas in a1_proba]\n",
    "    \n",
    "    # labels score evaluation\n",
    "    score = 0\n",
    "    for labels, t_label in zip(mul_labels, trn_labels[orig_A:orig_A + lim_A]):\n",
    "        for l in labels:\n",
    "            if (l == t_label):\n",
    "                score += 1\n",
    "\n",
    "    m_labels = []\n",
    "    for labels in mul_labels:\n",
    "         [m_labels.append(l) for l in labels]                \n",
    "                    \n",
    "    return (len(m_labels)/lim_A, score*100/len(m_labels), score*100/lim_A) "
   ]
  },
  {
   "cell_type": "markdown",
   "metadata": {},
   "source": [
    "## MNIST"
   ]
  },
  {
   "cell_type": "code",
   "execution_count": 7,
   "metadata": {},
   "outputs": [
    {
     "name": "stderr",
     "output_type": "stream",
     "text": [
      "Using TensorFlow backend.\n"
     ]
    }
   ],
   "source": [
    "from keras.datasets import mnist\n",
    "\n",
    "(train_images, train_labels), (test_images, test_labels) = mnist.load_data()\n",
    "train_imgs = np.array([x.ravel() for x in train_images])\n",
    "test_imgs = np.array([y.ravel() for y in test_images])\n",
    "\n",
    "img_SIZE = train_images.shape[1]*train_images.shape[2]"
   ]
  },
  {
   "cell_type": "markdown",
   "metadata": {},
   "source": [
    "### labels evaluation"
   ]
  },
  {
   "cell_type": "code",
   "execution_count": 8,
   "metadata": {},
   "outputs": [
    {
     "name": "stdout",
     "output_type": "stream",
     "text": [
      "2 classes\n",
      "[8, 9]\n"
     ]
    },
    {
     "name": "stderr",
     "output_type": "stream",
     "text": [
      "/home/k.goto/.pyenv/versions/3.6.4/lib/python3.6/site-packages/ipykernel_launcher.py:3: RuntimeWarning: divide by zero encountered in power\n",
      "  This is separate from the ipykernel package so we can avoid doing imports until\n"
     ]
    },
    {
     "name": "stdout",
     "output_type": "stream",
     "text": [
      "quality of labels generated: 96.7[%], 96.7[%](as groups)\n",
      "average number of labels per image: 1.0\n",
      "3 classes\n",
      "[1, 4, 6]\n",
      "quality of labels generated: 98.69934967483742[%], 98.65[%](as groups)\n",
      "average number of labels per image: 0.9995\n",
      "4 classes\n",
      "[3, 7, 8, 9]\n"
     ]
    },
    {
     "name": "stderr",
     "output_type": "stream",
     "text": [
      "/home/k.goto/.pyenv/versions/3.6.4/lib/python3.6/site-packages/sklearn/svm/base.py:929: ConvergenceWarning: Liblinear failed to converge, increase the number of iterations.\n",
      "  \"the number of iterations.\", ConvergenceWarning)\n",
      "/home/k.goto/.pyenv/versions/3.6.4/lib/python3.6/site-packages/ipykernel_launcher.py:3: RuntimeWarning: divide by zero encountered in power\n",
      "  This is separate from the ipykernel package so we can avoid doing imports until\n"
     ]
    },
    {
     "name": "stdout",
     "output_type": "stream",
     "text": [
      "quality of labels generated: 56.12293144208038[%], 59.35[%](as groups)\n",
      "average number of labels per image: 1.0575\n",
      "5 classes\n",
      "[0, 2, 3, 7, 8]\n"
     ]
    },
    {
     "name": "stderr",
     "output_type": "stream",
     "text": [
      "/home/k.goto/.pyenv/versions/3.6.4/lib/python3.6/site-packages/sklearn/svm/base.py:929: ConvergenceWarning: Liblinear failed to converge, increase the number of iterations.\n",
      "  \"the number of iterations.\", ConvergenceWarning)\n",
      "/home/k.goto/.pyenv/versions/3.6.4/lib/python3.6/site-packages/ipykernel_launcher.py:3: RuntimeWarning: divide by zero encountered in power\n",
      "  This is separate from the ipykernel package so we can avoid doing imports until\n"
     ]
    },
    {
     "name": "stdout",
     "output_type": "stream",
     "text": [
      "quality of labels generated: 37.83783783783784[%], 43.4[%](as groups)\n",
      "average number of labels per image: 1.147\n",
      "6 classes\n",
      "[1, 2, 3, 4, 5, 9]\n"
     ]
    },
    {
     "name": "stderr",
     "output_type": "stream",
     "text": [
      "/home/k.goto/.pyenv/versions/3.6.4/lib/python3.6/site-packages/sklearn/svm/base.py:929: ConvergenceWarning: Liblinear failed to converge, increase the number of iterations.\n",
      "  \"the number of iterations.\", ConvergenceWarning)\n",
      "/home/k.goto/.pyenv/versions/3.6.4/lib/python3.6/site-packages/ipykernel_launcher.py:3: RuntimeWarning: divide by zero encountered in power\n",
      "  This is separate from the ipykernel package so we can avoid doing imports until\n"
     ]
    },
    {
     "name": "stdout",
     "output_type": "stream",
     "text": [
      "quality of labels generated: 40.0[%], 44.9[%](as groups)\n",
      "average number of labels per image: 1.1225\n",
      "7 classes\n",
      "[0, 3, 4, 6, 7, 8, 9]\n"
     ]
    },
    {
     "name": "stderr",
     "output_type": "stream",
     "text": [
      "/home/k.goto/.pyenv/versions/3.6.4/lib/python3.6/site-packages/sklearn/svm/base.py:929: ConvergenceWarning: Liblinear failed to converge, increase the number of iterations.\n",
      "  \"the number of iterations.\", ConvergenceWarning)\n",
      "/home/k.goto/.pyenv/versions/3.6.4/lib/python3.6/site-packages/ipykernel_launcher.py:3: RuntimeWarning: divide by zero encountered in power\n",
      "  This is separate from the ipykernel package so we can avoid doing imports until\n"
     ]
    },
    {
     "name": "stdout",
     "output_type": "stream",
     "text": [
      "quality of labels generated: 36.5803534730785[%], 44.5[%](as groups)\n",
      "average number of labels per image: 1.2165\n",
      "8 classes\n",
      "[0, 1, 2, 3, 5, 6, 7, 9]\n"
     ]
    },
    {
     "name": "stderr",
     "output_type": "stream",
     "text": [
      "/home/k.goto/.pyenv/versions/3.6.4/lib/python3.6/site-packages/ipykernel_launcher.py:3: RuntimeWarning: divide by zero encountered in power\n",
      "  This is separate from the ipykernel package so we can avoid doing imports until\n"
     ]
    },
    {
     "name": "stdout",
     "output_type": "stream",
     "text": [
      "quality of labels generated: 34.05511811023622[%], 43.25[%](as groups)\n",
      "average number of labels per image: 1.27\n",
      "9 classes\n",
      "[0, 1, 2, 3, 4, 5, 6, 7, 8]\n"
     ]
    },
    {
     "name": "stderr",
     "output_type": "stream",
     "text": [
      "/home/k.goto/.pyenv/versions/3.6.4/lib/python3.6/site-packages/sklearn/svm/base.py:929: ConvergenceWarning: Liblinear failed to converge, increase the number of iterations.\n",
      "  \"the number of iterations.\", ConvergenceWarning)\n"
     ]
    },
    {
     "name": "stdout",
     "output_type": "stream",
     "text": [
      "quality of labels generated: 28.040163629602084[%], 37.7[%](as groups)\n",
      "average number of labels per image: 1.3445\n",
      "10 classes\n",
      "[0, 1, 2, 3, 4, 5, 6, 7, 8, 9]\n",
      "quality of labels generated: 22.123579545454547[%], 31.15[%](as groups)\n",
      "average number of labels per image: 1.408\n"
     ]
    },
    {
     "name": "stderr",
     "output_type": "stream",
     "text": [
      "/home/k.goto/.pyenv/versions/3.6.4/lib/python3.6/site-packages/sklearn/svm/base.py:929: ConvergenceWarning: Liblinear failed to converge, increase the number of iterations.\n",
      "  \"the number of iterations.\", ConvergenceWarning)\n",
      "/home/k.goto/.pyenv/versions/3.6.4/lib/python3.6/site-packages/ipykernel_launcher.py:3: RuntimeWarning: divide by zero encountered in power\n",
      "  This is separate from the ipykernel package so we can avoid doing imports until\n"
     ]
    }
   ],
   "source": [
    "for classes_num in range(2, 11):\n",
    "    print(f\"{classes_num} classes\")\n",
    "    orig_A1, lim_A1 = 2000, 2000\n",
    "    q = 0.99\n",
    "    (ave_l_num, labels_qual, labels_qual2) = tsallis_ncls_eval(q, classes_num, orig_A1, lim_A1)\n",
    "    print(f\"quality of labels generated: {labels_qual}[%], {labels_qual2}[%](as groups)\")\n",
    "    print(f\"average number of labels per image: {ave_l_num}\")"
   ]
  },
  {
   "cell_type": "code",
   "execution_count": 10,
   "metadata": {},
   "outputs": [],
   "source": [
    "results = [96.7, 98.69934967483742, 56.12293144208038, 37.83783783783784, 40.0, 36.5803534730785, 34.05511811023622, 28.040163629602084, 22.123579545454547] "
   ]
  },
  {
   "cell_type": "code",
   "execution_count": 11,
   "metadata": {},
   "outputs": [
    {
     "data": {
      "image/png": "[encoded data removed]",
      "text/plain": [
       "<Figure size 600x400 with 1 Axes>"
      ]
     },
     "metadata": {
      "needs_background": "light"
     },
     "output_type": "display_data"
    }
   ],
   "source": [
    "x = [i for i in range(2, 11)]\n",
    "plt.figure(dpi = 100)\n",
    "plt.plot(x, results)\n",
    "plt.grid(True)"
   ]
  },
  {
   "cell_type": "code",
   "execution_count": null,
   "metadata": {},
   "outputs": [],
   "source": []
  },
  {
   "cell_type": "code",
   "execution_count": null,
   "metadata": {},
   "outputs": [],
   "source": []
  },
  {
   "cell_type": "code",
   "execution_count": null,
   "metadata": {},
   "outputs": [],
   "source": []
  },
  {
   "cell_type": "code",
   "execution_count": null,
   "metadata": {},
   "outputs": [],
   "source": []
  },
  {
   "cell_type": "code",
   "execution_count": null,
   "metadata": {},
   "outputs": [],
   "source": []
  },
  {
   "cell_type": "markdown",
   "metadata": {},
   "source": [
    "## CIFAR 10"
   ]
  },
  {
   "cell_type": "code",
   "execution_count": 10,
   "metadata": {},
   "outputs": [],
   "source": [
    "from keras.datasets import cifar10\n",
    "\n",
    "(train_images, train_labels), (test_images, test_labels) = cifar10.load_data()\n",
    "\n",
    "# number of data samples\n",
    "train_N, test_N = train_images.shape[0], test_images.shape[0]\n",
    "# data normalisation and vecotrise\n",
    "train_imgs, test_imgs = train_images.reshape(train_N, -1)/255, test_images.reshape(test_N, -1)/255\n",
    "# labels ravel\n",
    "train_labels, test_labels = train_labels.ravel(), test_labels.ravel()\n",
    "\n",
    "img_SIZE = train_images.shape[1]*train_images.shape[2]*train_images.shape[3]"
   ]
  },
  {
   "cell_type": "markdown",
   "metadata": {},
   "source": [
    "### labels evaluation"
   ]
  },
  {
   "cell_type": "code",
   "execution_count": 7,
   "metadata": {},
   "outputs": [
    {
     "name": "stdout",
     "output_type": "stream",
     "text": [
      "[1, 6, 8]\n",
      "quality of labels generated: 95.70214892553723[%], 95.75[%](as groups)\n",
      "average number of labels per image: 1.0005\n"
     ]
    }
   ],
   "source": [
    "classes_num = 3\n",
    "orig_A2, lim_A2 = 2000, 2000\n",
    "q = 3/2\n",
    "(ave_l_num, labels_qual, labels_qual2) = tsallis_eval(q, classes_num, orig_A2, lim_A2)\n",
    "print(f\"quality of labels generated: {labels_qual}[%], {labels_qual2}[%](as groups)\")\n",
    "print(f\"average number of labels per image: {ave_l_num}\")"
   ]
  },
  {
   "cell_type": "markdown",
   "metadata": {},
   "source": [
    "## CIFAR100"
   ]
  },
  {
   "cell_type": "code",
   "execution_count": 8,
   "metadata": {},
   "outputs": [],
   "source": [
    "from keras.datasets import cifar100\n",
    "\n",
    "(train_images, train_labels), (test_images, test_labels) = cifar100.load_data(label_mode = \"fine\")\n",
    "\n",
    "# number of data samples\n",
    "train_N, test_N = train_images.shape[0], test_images.shape[0]\n",
    "# data normalisation and vecotrise\n",
    "train_imgs, test_imgs = train_images.reshape(train_N, -1)/255, test_images.reshape(test_N, -1)/255\n",
    "# labels ravel\n",
    "train_labels, test_labels = train_labels.ravel(), test_labels.ravel()\n",
    "\n",
    "img_SIZE = train_images.shape[1]*train_images.shape[2]*train_images.shape[3]"
   ]
  },
  {
   "cell_type": "markdown",
   "metadata": {},
   "source": [
    "### labels evaluation"
   ]
  },
  {
   "cell_type": "code",
   "execution_count": 9,
   "metadata": {},
   "outputs": [
    {
     "name": "stdout",
     "output_type": "stream",
     "text": [
      "[1, 2, 9]\n",
      "quality of labels generated: 66.27450980392157[%], 67.6[%](as groups)\n",
      "average number of labels per image: 1.02\n"
     ]
    }
   ],
   "source": [
    "classes_num = 3\n",
    "orig_A3, lim_A3 = 500, 500\n",
    "q = 3/2\n",
    "(ave_l_num, labels_qual, labels_qual2) = tsallis_eval(q, classes_num, orig_A3, lim_A3)\n",
    "print(f\"quality of labels generated: {labels_qual}[%], {labels_qual2}[%](as groups)\")\n",
    "print(f\"average number of labels per image: {ave_l_num}\")"
   ]
  },
  {
   "cell_type": "code",
   "execution_count": null,
   "metadata": {},
   "outputs": [],
   "source": []
  },
  {
   "cell_type": "code",
   "execution_count": null,
   "metadata": {},
   "outputs": [],
   "source": []
  }
 ],
 "metadata": {
  "kernelspec": {
   "display_name": "Python 3",
   "language": "python",
   "name": "python3"
  },
  "language_info": {
   "codemirror_mode": {
    "name": "ipython",
    "version": 3
   },
   "file_extension": ".py",
   "mimetype": "text/x-python",
   "name": "python",
   "nbconvert_exporter": "python",
   "pygments_lexer": "ipython3",
   "version": "3.6.4"
  }
 },
 "nbformat": 4,
 "nbformat_minor": 4
}
