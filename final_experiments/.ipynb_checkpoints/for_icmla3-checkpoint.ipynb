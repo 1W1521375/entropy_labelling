{
 "cells": [
  {
   "cell_type": "code",
   "execution_count": 74,
   "metadata": {},
   "outputs": [],
   "source": [
    "import matplotlib as mpl\n",
    "import matplotlib.pyplot as plt\n",
    "import codecs"
   ]
  },
  {
   "cell_type": "markdown",
   "metadata": {},
   "source": [
    "# for MNIST"
   ]
  },
  {
   "cell_type": "code",
   "execution_count": 75,
   "metadata": {},
   "outputs": [],
   "source": [
    "with open(\"tsallis_log.txt\") as f:\n",
    "    l = f.readlines()"
   ]
  },
  {
   "cell_type": "code",
   "execution_count": 76,
   "metadata": {},
   "outputs": [],
   "source": [
    "counts_all = []\n",
    "for x in [1, 3, 5, 7, 11, 15, 23]:\n",
    "    all_labels = eval(l[x])\n",
    "\n",
    "    counts = [0 for _ in range(9)]\n",
    "    for labels in all_labels:\n",
    "        n = len(labels)\n",
    "        counts[n - 1] += 1\n",
    "\n",
    "    counts_all.append(counts)\n",
    "    print(counts, sep = \"\\n\", file = codecs.open(\"for_icmla3.txt\", 'a', 'utf-8'))"
   ]
  },
  {
   "cell_type": "markdown",
   "metadata": {},
   "source": [
    "# for Fashion MNIST"
   ]
  },
  {
   "cell_type": "code",
   "execution_count": 77,
   "metadata": {},
   "outputs": [],
   "source": [
    "with open(\"tsallis_fmnist_log.txt\") as f:\n",
    "    l = f.readlines()"
   ]
  },
  {
   "cell_type": "code",
   "execution_count": 78,
   "metadata": {},
   "outputs": [],
   "source": [
    "counts_all = []\n",
    "for x in [1, 3, 5, 7, 11, 15, 23]:\n",
    "    all_labels = eval(l[x])\n",
    "\n",
    "    counts = [0 for _ in range(9)]\n",
    "    for labels in all_labels:\n",
    "        n = len(labels)\n",
    "        counts[n - 1] += 1\n",
    "\n",
    "    counts_all.append(counts)\n",
    "    print(counts, sep = \"\\n\", file = codecs.open(\"for_icmla3.txt\", 'a', 'utf-8'))"
   ]
  },
  {
   "cell_type": "markdown",
   "metadata": {},
   "source": [
    "# graph"
   ]
  },
  {
   "cell_type": "code",
   "execution_count": 81,
   "metadata": {},
   "outputs": [],
   "source": [
    "lnum = [i for i in range(1, 10)]\n",
    "\n",
    "with open(\"for_icmla3.txt\") as f:\n",
    "    l = f.readlines()\n",
    "    \n",
    "# MNIST\n",
    "mnist_counts = [[e/2000 for e in eval(l[i])] for i in [j + 1 for j in range(7)]]\n",
    "# f_MNIST\n",
    "fmnist_counts = [[e/2000 for e in eval(l[i])] for i in [j for j in range(9, 16)]]"
   ]
  },
  {
   "cell_type": "code",
   "execution_count": 85,
   "metadata": {},
   "outputs": [
    {
     "data": {
      "image/png": "[encoded data removed]",
      "text/plain": [
       "<Figure size 648x648 with 14 Axes>"
      ]
     },
     "metadata": {
      "needs_background": "light"
     },
     "output_type": "display_data"
    }
   ],
   "source": [
    "q_list = ['-inf', '10', '-1.0', '-0.5', '-0.1', '0.1', '+inf']\n",
    "r = len(q_list)\n",
    "\n",
    "FONTSIZE = 12\n",
    "\n",
    "fig, axs = plt.subplots(r, 2, sharex = True, sharey = True, figsize = (9, 9))\n",
    "\n",
    "x_pos = [i for i in range(1, 10)]\n",
    "x_ticks = [str(e) for e in x_pos]\n",
    "y_pos = [0.00, 0.50, 1.00]\n",
    "y_ticks = [str(e) for e in y_pos]\n",
    "\n",
    "colour = 'xkcd:lightblue'\n",
    "\n",
    "for i, q in enumerate(q_list):\n",
    "    # for MNIST\n",
    "    axs[i, 0].bar(lnum, mnist_counts[i], color = colour)\n",
    "    axs[i, 0].set_xticks(x_pos)\n",
    "    axs[i, 0].set_xticklabels(x_ticks)\n",
    "    axs[i, 0].set_yticks(y_pos)\n",
    "    axs[i, 0].set_yticklabels(y_ticks)\n",
    "    # for f_MNIST\n",
    "    axs[i, 1].bar(lnum, fmnist_counts[i], color = colour)\n",
    "    axs[i, 1].set_xticks(x_pos)\n",
    "    axs[i, 1].set_xticklabels(x_ticks)\n",
    "    axs[i, 1].set_yticks(y_pos)\n",
    "    axs[i, 1].set_yticklabels(y_ticks)\n",
    "    if (q == '-inf' or q == '+inf'):\n",
    "        axs[i, 1].set_ylabel(\"q -> \" + q)\n",
    "    else:\n",
    "        axs[i, 1].set_ylabel(\"q = \" + q)\n",
    "    \n",
    "axs[6, 0].set_xlabel(\"Number of Labels per Instance\", fontsize = FONTSIZE)\n",
    "axs[3, 0].set_ylabel(\"Ratio of Label Numbers\", fontsize = FONTSIZE)\n",
    "axs[0, 0].set_title(\"(a). MNIST\")\n",
    "\n",
    "axs[6, 1].set_xlabel(\"Number of Labels per Instance\", fontsize = FONTSIZE)\n",
    "# axs[3, 1].set_ylabel(\"Ratio of Label Numbers\")\n",
    "axs[0, 1].set_title(\"(b). Fashion MNIST\")\n",
    "\n",
    "fig.savefig(\"labels_dist.pdf\")"
   ]
  },
  {
   "cell_type": "code",
   "execution_count": null,
   "metadata": {},
   "outputs": [],
   "source": []
  }
 ],
 "metadata": {
  "kernelspec": {
   "display_name": "Python 3",
   "language": "python",
   "name": "python3"
  },
  "language_info": {
   "codemirror_mode": {
    "name": "ipython",
    "version": 3
   },
   "file_extension": ".py",
   "mimetype": "text/x-python",
   "name": "python",
   "nbconvert_exporter": "python",
   "pygments_lexer": "ipython3",
   "version": "3.6.4"
  }
 },
 "nbformat": 4,
 "nbformat_minor": 2
}
