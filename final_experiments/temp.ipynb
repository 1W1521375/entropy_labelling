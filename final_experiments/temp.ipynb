{
 "cells": [
  {
   "cell_type": "code",
   "execution_count": 2,
   "metadata": {},
   "outputs": [],
   "source": [
    "import matplotlib as mpl\n",
    "import matplotlib.pyplot as plt\n",
    "import matplotlib.cm as cm\n",
    "import numpy as np\n",
    "from sklearn.metrics import accuracy_score\n",
    "from sklearn.linear_model import LogisticRegression as LR\n",
    "from keras.datasets import mnist\n",
    "import itertools\n",
    "from random import shuffle\n",
    "import codecs\n",
    "\n",
    "# import warnings filter\n",
    "from warnings import simplefilter\n",
    "# ignore all future warnings\n",
    "simplefilter(action = 'ignore', category = FutureWarning)"
   ]
  },
  {
   "cell_type": "code",
   "execution_count": 3,
   "metadata": {},
   "outputs": [],
   "source": [
    "def factorial(n):\n",
    "    if n == 0:\n",
    "        return 1\n",
    "    elif n > 0:\n",
    "        return n*factorial(n - 1)\n",
    "    else:\n",
    "        print(\"sth wrong\")"
   ]
  },
  {
   "cell_type": "code",
   "execution_count": 4,
   "metadata": {},
   "outputs": [],
   "source": [
    "# entropy labelling\n",
    "def tsallis_label(q, probas, s_cls):\n",
    "    elements = np.power(probas, q - 1)\n",
    "    # thrshld in tsallis entropy model\n",
    "    ts_thrshld = np.sum(np.power(probas, q))\n",
    "    if q < 1:\n",
    "        labels = [s_cls[i] for i, e in enumerate(elements) if e <= ts_thrshld]\n",
    "    else:\n",
    "        labels = [s_cls[i] for i, e in enumerate(elements) if e >= ts_thrshld]\n",
    "    return labels"
   ]
  },
  {
   "cell_type": "code",
   "execution_count": 9,
   "metadata": {},
   "outputs": [],
   "source": [
    "def tsallis_scls_eval(q, classes, orig_A, lim_A):\n",
    "    s_cls = classes\n",
    "    \n",
    "    # confusing pairs ... see LR-misclassification-habits.pdf\n",
    "    conf_pairs = [(0, 6), (3, 5), (4, 9), (7, 9), (8, 2, 5, 9)]\n",
    "    # decide what to flip\n",
    "    flip_dict = dict()\n",
    "    for c_pair in conf_pairs:\n",
    "    \torigin = c_pair[0]\n",
    "    \t# if origin label is in sub_classes\n",
    "    \tif (origin in s_cls):\n",
    "            intersection = set(c_pair)&set(s_cls)\n",
    "            n = len(intersection) - 1\n",
    "            # if there is at least one labels pair to flip\n",
    "            if (1 <= n):\n",
    "            \tdests = intersection - {origin}\n",
    "            \tflip_dict[str(origin)] = list(dests)\n",
    "    \n",
    "    print(f\"{flip_dict}\")\n",
    "    \n",
    "    # extract dataset of the chosen classes\n",
    "    trn_imgs = [img for i, img in enumerate(train_imgs) if train_labels[i] in s_cls]\n",
    "    trn_labels = [label for label in train_labels if label in s_cls] \n",
    "    if (len(flip_dict) != 0):\n",
    "        # use #(orig_A) images for generating an annotator\n",
    "        orig_labels = trn_labels[:orig_A]\n",
    "        imgs, labels = [], []\n",
    "        # flip labels\n",
    "        for c in s_cls:\n",
    "            tr_imgs, tr_labels = [], []\n",
    "            for i, l in enumerate(orig_labels):\n",
    "                if (l == c):\n",
    "                    tr_imgs.append(trn_imgs[i])\n",
    "                    tr_labels.append(l)\n",
    "            # half is kept as original, the other half is uniformly flipped\n",
    "            dests = flip_dict.get(str(c))\n",
    "            if (dests == None):\n",
    "                imgs = imgs + tr_imgs\n",
    "                labels = labels + tr_labels\n",
    "                print(\"---no flip---\")\n",
    "                print(f\"num of tr_imgs: {len(tr_imgs)}, num of imgs: {len(imgs)}\")\n",
    "                print(f\"num of tr_labels: {len(tr_labels)}, num of labels; {len(labels)}\")\n",
    "                continue\n",
    "\n",
    "            n = len(dests)\n",
    "            half = len(tr_labels)//2\n",
    "            chunk = half//n\n",
    "            flipped_list = tr_labels[:half]\n",
    "            # flipping\n",
    "            for i in range(n):\n",
    "                flipped_list = flipped_list + [dests[i] for k in range(chunk)]\n",
    "            # 要素数がflip候補数で割り切れない場合は詰め物する(最後の要素繰り返すだけ)\n",
    "            d = len(tr_labels) - len(flipped_list)\n",
    "            while (d > 0):\n",
    "                flipped_list.append(dests[-1])\n",
    "                d -= 1\n",
    "            # shuffling makes it equivalent to random sampling for flippling\n",
    "            imgs = imgs + tr_imgs\n",
    "            shuffle(flipped_list) # 破壊的操作，shuffleされたlistそのものが返ってくるのではない!\n",
    "            labels = labels + flipped_list\n",
    "            print(\"---flipped---\")\n",
    "            print(f\"num of imgs: {len(imgs)}\")\n",
    "            print(f\"num of labels: {len(labels)}\")\n",
    "    else:\n",
    "        imgs = trn_imgs[:orig_A] \n",
    "        labels = trn_labels[:orig_A]\n",
    "        print(f\"num of imgs: {len(imgs)}\")\n",
    "        print(f\"num of labels: {len(labels)}\")\n",
    "    \n",
    "    print(\"generating an annotator\")\n",
    "    # generate an annotator\n",
    "    a1_model = LR().fit(imgs, labels)\n",
    "    print(\"generated an annotator\")\n",
    "    a1_proba = a1_model.predict_proba(trn_imgs[orig_A:orig_A + lim_A])\n",
    "\n",
    "    # entropy labelling\n",
    "    mul_labels = [tsallis_label(q, probas, s_cls) for probas in a1_proba]\n",
    "    \n",
    "    # labels score evaluation\n",
    "    score = 0\n",
    "    for labels, t_label in zip(mul_labels, trn_labels[orig_A:orig_A + lim_A]):\n",
    "        for l in labels:\n",
    "            if (l == t_label):\n",
    "                score += 1\n",
    "\n",
    "    m_labels = []\n",
    "    for labels in mul_labels:\n",
    "         [m_labels.append(l) for l in labels]                \n",
    "                    \n",
    "    return (len(m_labels)/lim_A, score*100/len(m_labels), score*100/lim_A)"
   ]
  },
  {
   "cell_type": "code",
   "execution_count": 5,
   "metadata": {},
   "outputs": [],
   "source": [
    "# loading MNIST\n",
    "(train_images, train_labels), (test_images, test_labels) = mnist.load_data()\n",
    "train_imgs = np.array([x.ravel() for x in train_images])\n",
    "test_imgs = np.array([y.ravel() for y in test_images])\n",
    "img_SIZE = train_images.shape[1]*train_images.shape[2]\n",
    "# main experiment\n",
    "classes = [i for i in range(10)]\n",
    "orig_A1, lim_A1 = 2000, 2000\n",
    "fact_10 = factorial(10)\n",
    "lqual_mnist = []"
   ]
  },
  {
   "cell_type": "code",
   "execution_count": 12,
   "metadata": {},
   "outputs": [
    {
     "name": "stdout",
     "output_type": "stream",
     "text": [
      "{'0': [6], '3': [5], '4': [9], '7': [9], '8': [9, 2, 5]}\n",
      "---flipped---\n",
      "num of imgs: 191\n",
      "num of labels: 191\n",
      "---no flip---\n",
      "num of tr_imgs: 220, num of imgs: 411\n",
      "num of tr_labels: 220, num of labels; 411\n",
      "---no flip---\n",
      "num of tr_imgs: 198, num of imgs: 609\n",
      "num of tr_labels: 198, num of labels; 609\n",
      "---flipped---\n",
      "num of imgs: 800\n",
      "num of labels: 800\n",
      "---flipped---\n",
      "num of imgs: 1014\n",
      "num of labels: 1014\n",
      "---no flip---\n",
      "num of tr_imgs: 180, num of imgs: 1194\n",
      "num of tr_labels: 180, num of labels; 1194\n",
      "---no flip---\n",
      "num of tr_imgs: 200, num of imgs: 1394\n",
      "num of tr_labels: 200, num of labels; 1394\n",
      "---flipped---\n",
      "num of imgs: 1618\n",
      "num of labels: 1618\n",
      "---flipped---\n",
      "num of imgs: 1790\n",
      "num of labels: 1790\n",
      "---no flip---\n",
      "num of tr_imgs: 210, num of imgs: 2000\n",
      "num of tr_labels: 210, num of labels; 2000\n",
      "generating an annotator\n",
      "generated an annotator\n"
     ]
    },
    {
     "data": {
      "text/plain": [
       "(1.3845, 51.4626218851571, 71.25)"
      ]
     },
     "execution_count": 12,
     "metadata": {},
     "output_type": "execute_result"
    }
   ],
   "source": [
    "tsallis_scls_eval(0.0001, [0, 1, 2, 3, 4, 5, 6 ,7 ,8, 9], 2000, 2000)"
   ]
  },
  {
   "cell_type": "code",
   "execution_count": null,
   "metadata": {},
   "outputs": [],
   "source": []
  },
  {
   "cell_type": "code",
   "execution_count": null,
   "metadata": {},
   "outputs": [],
   "source": []
  },
  {
   "cell_type": "code",
   "execution_count": null,
   "metadata": {},
   "outputs": [],
   "source": []
  },
  {
   "cell_type": "code",
   "execution_count": null,
   "metadata": {},
   "outputs": [],
   "source": []
  },
  {
   "cell_type": "code",
   "execution_count": null,
   "metadata": {},
   "outputs": [],
   "source": []
  },
  {
   "cell_type": "code",
   "execution_count": null,
   "metadata": {},
   "outputs": [],
   "source": []
  },
  {
   "cell_type": "code",
   "execution_count": null,
   "metadata": {},
   "outputs": [],
   "source": []
  }
 ],
 "metadata": {
  "kernelspec": {
   "display_name": "Python 3",
   "language": "python",
   "name": "python3"
  },
  "language_info": {
   "codemirror_mode": {
    "name": "ipython",
    "version": 3
   },
   "file_extension": ".py",
   "mimetype": "text/x-python",
   "name": "python",
   "nbconvert_exporter": "python",
   "pygments_lexer": "ipython3",
   "version": "3.6.4"
  }
 },
 "nbformat": 4,
 "nbformat_minor": 4
}
