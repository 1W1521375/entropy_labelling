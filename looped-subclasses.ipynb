{
 "cells": [
  {
   "cell_type": "markdown",
   "metadata": {},
   "source": [
    "# sub-n-classes, Shannon Entropy labelling, looped"
   ]
  },
  {
   "cell_type": "code",
   "execution_count": 1,
   "metadata": {},
   "outputs": [],
   "source": [
    "%matplotlib inline\n",
    "import matplotlib as mpl\n",
    "import matplotlib.pyplot as plt\n",
    "import numpy as np\n",
    "import pandas as pd\n",
    "from sklearn.metrics import accuracy_score\n",
    "from sklearn.linear_model import LogisticRegression as LR\n",
    "from sklearn.ensemble import RandomForestClassifier as RF\n",
    "import time\n",
    "from numpy.random import *\n",
    "\n",
    "# import warnings filter\n",
    "from warnings import simplefilter\n",
    "# ignore all future warnings\n",
    "simplefilter(action = 'ignore', category = FutureWarning)"
   ]
  },
  {
   "cell_type": "code",
   "execution_count": 2,
   "metadata": {},
   "outputs": [],
   "source": [
    "def randints_nodup(k):\n",
    "    ns = []\n",
    "    while (len(ns) < k):\n",
    "        n = randint(0, 10)\n",
    "        if not n in ns:\n",
    "            ns.append(n)\n",
    "    return list(ns) "
   ]
  },
  {
   "cell_type": "code",
   "execution_count": 3,
   "metadata": {},
   "outputs": [],
   "source": [
    "# entropy labelling\n",
    "def ent_label(probas, s_cls):\n",
    "    info_con = (-1)*np.log2(probas)\n",
    "    # entropy\n",
    "    Hp = np.sum(np.multiply(probas, info_con))\n",
    "    # クラス数変えると，probaでのindexがそのままlabelとして使えないのでs_cls内を参照させる\n",
    "    labels = np.array([s_cls[i] for i, Ipk in enumerate(info_con) if Ipk <= Hp])\n",
    "    \n",
    "    return labels"
   ]
  },
  {
   "cell_type": "code",
   "execution_count": 4,
   "metadata": {},
   "outputs": [],
   "source": [
    "# duplicating images k-1 times, for k-labels\n",
    "def dup_imgs(img, labels):\n",
    "    k = len(labels)\n",
    "    if k == 1:\n",
    "        #print(img.shape)\n",
    "        return np.array(img)\n",
    "    else:\n",
    "        tmp_dup = np.array([img for _ in range(k)])\n",
    "        #print(tmp_dup.shape)\n",
    "        return tmp_dup"
   ]
  },
  {
   "cell_type": "code",
   "execution_count": 5,
   "metadata": {},
   "outputs": [],
   "source": [
    "# 乱数でクラスを選ぶ\n",
    "def entropy_scls_learning(classes_num, orig_A, lim_A):\n",
    "    # sortされてないとpredict_probaとるときに整合性とれなくなる\n",
    "    s_cls = randints_nodup(classes_num)\n",
    "    # sort()は破壊的変更を行うだけで，sortされたlistそのものが返ってくるのではない\n",
    "    s_cls.sort()\n",
    "\n",
    "    # 選ばれたクラスだけのデータとラベルを用意\n",
    "    trn_imgs = [img for i, img in enumerate(train_imgs) if train_labels[i] in s_cls]\n",
    "    trn_labels = [label for label in train_labels if label in s_cls]\n",
    "\n",
    "    tst_imgs = [img for i, img in enumerate(test_imgs) if test_labels[i] in s_cls]\n",
    "    tst_labels = [label for label in test_labels if label in s_cls]\n",
    "\n",
    "    # 2クラスの場合，選ばれたクラス次第では，というかほとんどの組み合わせでdiv by 0になってしまうらしい\n",
    "    # generate an annotator\n",
    "    a1_model = LR().fit(trn_imgs[:orig_A], trn_labels[:orig_A])\n",
    "    a1_proba = a1_model.predict_proba(trn_imgs[orig_A:orig_A + lim_A])\n",
    "\n",
    "    # entropy labelling\n",
    "    mul_labels = [ent_label(probas, s_cls) for probas in a1_proba]\n",
    "    m_labels = []\n",
    "\n",
    "    for labels in mul_labels:\n",
    "         [m_labels.append(l) for l in labels]\n",
    "    \n",
    "    # images duplication\n",
    "    dupld_imgs = np.array([dup_imgs(img, mul_labels[i]) for i, img in enumerate(trn_imgs[orig_A:orig_A + lim_A])])\n",
    "\n",
    "    d_imgs = []\n",
    "\n",
    "    for img in dupld_imgs:\n",
    "        a = img.shape\n",
    "        n = a[0]\n",
    "        if (n == img_SIZE):\n",
    "            d_imgs.append(img)\n",
    "        else:\n",
    "            for _ in range(n):\n",
    "                d_imgs.append(img[0])\n",
    "\n",
    "    d_imgs = np.array(d_imgs)\n",
    "\n",
    "    # final learning\n",
    "    final_model = LR().fit(d_imgs, m_labels)\n",
    "    acc = accuracy_score(tst_labels, final_model.predict(tst_imgs))\n",
    "    \n",
    "    return acc*100"
   ]
  },
  {
   "cell_type": "markdown",
   "metadata": {},
   "source": [
    "#### ラベルづけからその正解率を評価まで行う関数"
   ]
  },
  {
   "cell_type": "code",
   "execution_count": 6,
   "metadata": {},
   "outputs": [],
   "source": [
    "# labelling and evaluating them\n",
    "def entropy_scls_eval(classes_num, orig_A, lim_A):\n",
    "\n",
    "    # sortされてないとpredict_probaとるときに整合性とれなくなる\n",
    "    s_cls = randints_nodup(classes_num)\n",
    "    # sort()は破壊的変更を行うだけで，sortされたlistそのものが返ってくるのではない\n",
    "    s_cls.sort()\n",
    "    #print(s_cls)\n",
    "\n",
    "    # 選ばれたクラスだけのデータとラベルを用意\n",
    "    trn_imgs = [img for i, img in enumerate(train_imgs) if train_labels[i] in s_cls]\n",
    "    trn_labels = [label for label in train_labels if label in s_cls]\n",
    "\n",
    "    tst_imgs = [img for i, img in enumerate(test_imgs) if test_labels[i] in s_cls]\n",
    "    tst_labels = [label for label in test_labels if label in s_cls]\n",
    "\n",
    "    # 2クラスの場合，選ばれたクラス次第では，というかほとんどの組み合わせでdiv by 0になってしまうらしい\n",
    "    # generate an annotator\n",
    "    a1_model = LR().fit(trn_imgs[:orig_A], trn_labels[:orig_A])\n",
    "    a1_proba = a1_model.predict_proba(trn_imgs[orig_A:orig_A + lim_A])\n",
    "\n",
    "    # entropy labelling\n",
    "    mul_labels = [ent_label(probas, s_cls) for probas in a1_proba]\n",
    "    \n",
    "    # labels score evaluation\n",
    "    score = 0\n",
    "    for labels, t_label in zip(mul_labels, trn_labels[orig_A:orig_A + lim_A]):\n",
    "        for l in labels:\n",
    "            if (l == t_label):\n",
    "                score += 1\n",
    "\n",
    "    m_labels = []\n",
    "    for labels in mul_labels:\n",
    "         [m_labels.append(l) for l in labels]                \n",
    "                    \n",
    "    return (len(m_labels)/lim_A, score*100/len(m_labels), score*100/lim_A) "
   ]
  },
  {
   "cell_type": "markdown",
   "metadata": {},
   "source": [
    "## MNIST"
   ]
  },
  {
   "cell_type": "code",
   "execution_count": 7,
   "metadata": {},
   "outputs": [
    {
     "name": "stderr",
     "output_type": "stream",
     "text": [
      "Using TensorFlow backend.\n"
     ]
    }
   ],
   "source": [
    "from keras.datasets import mnist\n",
    "\n",
    "(train_images, train_labels), (test_images, test_labels) = mnist.load_data()\n",
    "train_imgs = np.array([x.ravel() for x in train_images])\n",
    "test_imgs = np.array([y.ravel() for y in test_images])\n",
    "\n",
    "img_SIZE = train_images.shape[1]*train_images.shape[2]"
   ]
  },
  {
   "cell_type": "markdown",
   "metadata": {},
   "source": [
    "### learning"
   ]
  },
  {
   "cell_type": "code",
   "execution_count": 10,
   "metadata": {},
   "outputs": [
    {
     "name": "stderr",
     "output_type": "stream",
     "text": [
      "/usr/local/lib/python3.7/site-packages/ipykernel_launcher.py:3: RuntimeWarning: divide by zero encountered in log2\n",
      "  This is separate from the ipykernel package so we can avoid doing imports until\n",
      "/usr/local/lib/python3.7/site-packages/ipykernel_launcher.py:5: RuntimeWarning: invalid value encountered in multiply\n",
      "  \"\"\"\n",
      "/usr/local/lib/python3.7/site-packages/ipykernel_launcher.py:3: RuntimeWarning: divide by zero encountered in log2\n",
      "  This is separate from the ipykernel package so we can avoid doing imports until\n",
      "/usr/local/lib/python3.7/site-packages/ipykernel_launcher.py:5: RuntimeWarning: invalid value encountered in multiply\n",
      "  \"\"\"\n",
      "/usr/local/lib/python3.7/site-packages/ipykernel_launcher.py:3: RuntimeWarning: divide by zero encountered in log2\n",
      "  This is separate from the ipykernel package so we can avoid doing imports until\n",
      "/usr/local/lib/python3.7/site-packages/ipykernel_launcher.py:5: RuntimeWarning: invalid value encountered in multiply\n",
      "  \"\"\"\n",
      "/usr/local/lib/python3.7/site-packages/ipykernel_launcher.py:3: RuntimeWarning: divide by zero encountered in log2\n",
      "  This is separate from the ipykernel package so we can avoid doing imports until\n",
      "/usr/local/lib/python3.7/site-packages/ipykernel_launcher.py:5: RuntimeWarning: invalid value encountered in multiply\n",
      "  \"\"\"\n",
      "/usr/local/lib/python3.7/site-packages/ipykernel_launcher.py:3: RuntimeWarning: divide by zero encountered in log2\n",
      "  This is separate from the ipykernel package so we can avoid doing imports until\n",
      "/usr/local/lib/python3.7/site-packages/ipykernel_launcher.py:5: RuntimeWarning: invalid value encountered in multiply\n",
      "  \"\"\"\n",
      "/usr/local/lib/python3.7/site-packages/ipykernel_launcher.py:3: RuntimeWarning: divide by zero encountered in log2\n",
      "  This is separate from the ipykernel package so we can avoid doing imports until\n",
      "/usr/local/lib/python3.7/site-packages/ipykernel_launcher.py:5: RuntimeWarning: invalid value encountered in multiply\n",
      "  \"\"\"\n",
      "/usr/local/lib/python3.7/site-packages/ipykernel_launcher.py:3: RuntimeWarning: divide by zero encountered in log2\n",
      "  This is separate from the ipykernel package so we can avoid doing imports until\n",
      "/usr/local/lib/python3.7/site-packages/ipykernel_launcher.py:5: RuntimeWarning: invalid value encountered in multiply\n",
      "  \"\"\"\n",
      "/usr/local/lib/python3.7/site-packages/ipykernel_launcher.py:3: RuntimeWarning: divide by zero encountered in log2\n",
      "  This is separate from the ipykernel package so we can avoid doing imports until\n",
      "/usr/local/lib/python3.7/site-packages/ipykernel_launcher.py:5: RuntimeWarning: invalid value encountered in multiply\n",
      "  \"\"\"\n",
      "/usr/local/lib/python3.7/site-packages/ipykernel_launcher.py:3: RuntimeWarning: divide by zero encountered in log2\n",
      "  This is separate from the ipykernel package so we can avoid doing imports until\n",
      "/usr/local/lib/python3.7/site-packages/ipykernel_launcher.py:5: RuntimeWarning: invalid value encountered in multiply\n",
      "  \"\"\"\n",
      "/usr/local/lib/python3.7/site-packages/ipykernel_launcher.py:3: RuntimeWarning: divide by zero encountered in log2\n",
      "  This is separate from the ipykernel package so we can avoid doing imports until\n",
      "/usr/local/lib/python3.7/site-packages/ipykernel_launcher.py:5: RuntimeWarning: invalid value encountered in multiply\n",
      "  \"\"\"\n"
     ]
    },
    {
     "name": "stdout",
     "output_type": "stream",
     "text": [
      "[97.66916134833815, 96.58614482442194, 93.29499155704659, 91.59423650035593, 90.53714338421896, 87.70591761895017, 86.22185833542538, 84.37418313283771, 81.67999999999999]\n"
     ]
    }
   ],
   "source": [
    "orig_A1, lim_A1 = 2000, 2000\n",
    "mnist_results = [np.average([entropy_scls_learning(j, orig_A1, lim_A1) for _ in range(10)]) for j in range(2, 10)]\n",
    "mnist_results.append(entropy_scls_learning(10, orig_A1, lim_A1))\n",
    "print(mnist_results)"
   ]
  },
  {
   "cell_type": "markdown",
   "metadata": {},
   "source": [
    "### labels evalutaiton"
   ]
  },
  {
   "cell_type": "code",
   "execution_count": 8,
   "metadata": {},
   "outputs": [
    {
     "name": "stderr",
     "output_type": "stream",
     "text": [
      "/usr/local/lib/python3.7/site-packages/ipykernel_launcher.py:3: RuntimeWarning: divide by zero encountered in log2\n",
      "  This is separate from the ipykernel package so we can avoid doing imports until\n",
      "/usr/local/lib/python3.7/site-packages/ipykernel_launcher.py:5: RuntimeWarning: invalid value encountered in multiply\n",
      "  \"\"\"\n",
      "/usr/local/lib/python3.7/site-packages/ipykernel_launcher.py:3: RuntimeWarning: divide by zero encountered in log2\n",
      "  This is separate from the ipykernel package so we can avoid doing imports until\n",
      "/usr/local/lib/python3.7/site-packages/ipykernel_launcher.py:5: RuntimeWarning: invalid value encountered in multiply\n",
      "  \"\"\"\n",
      "/usr/local/lib/python3.7/site-packages/ipykernel_launcher.py:3: RuntimeWarning: divide by zero encountered in log2\n",
      "  This is separate from the ipykernel package so we can avoid doing imports until\n",
      "/usr/local/lib/python3.7/site-packages/ipykernel_launcher.py:5: RuntimeWarning: invalid value encountered in multiply\n",
      "  \"\"\"\n",
      "/usr/local/lib/python3.7/site-packages/ipykernel_launcher.py:3: RuntimeWarning: divide by zero encountered in log2\n",
      "  This is separate from the ipykernel package so we can avoid doing imports until\n",
      "/usr/local/lib/python3.7/site-packages/ipykernel_launcher.py:5: RuntimeWarning: invalid value encountered in multiply\n",
      "  \"\"\"\n",
      "/usr/local/lib/python3.7/site-packages/ipykernel_launcher.py:3: RuntimeWarning: divide by zero encountered in log2\n",
      "  This is separate from the ipykernel package so we can avoid doing imports until\n",
      "/usr/local/lib/python3.7/site-packages/ipykernel_launcher.py:5: RuntimeWarning: invalid value encountered in multiply\n",
      "  \"\"\"\n",
      "/usr/local/lib/python3.7/site-packages/ipykernel_launcher.py:3: RuntimeWarning: divide by zero encountered in log2\n",
      "  This is separate from the ipykernel package so we can avoid doing imports until\n",
      "/usr/local/lib/python3.7/site-packages/ipykernel_launcher.py:5: RuntimeWarning: invalid value encountered in multiply\n",
      "  \"\"\"\n",
      "/usr/local/lib/python3.7/site-packages/ipykernel_launcher.py:3: RuntimeWarning: divide by zero encountered in log2\n",
      "  This is separate from the ipykernel package so we can avoid doing imports until\n",
      "/usr/local/lib/python3.7/site-packages/ipykernel_launcher.py:5: RuntimeWarning: invalid value encountered in multiply\n",
      "  \"\"\"\n",
      "/usr/local/lib/python3.7/site-packages/ipykernel_launcher.py:3: RuntimeWarning: divide by zero encountered in log2\n",
      "  This is separate from the ipykernel package so we can avoid doing imports until\n",
      "/usr/local/lib/python3.7/site-packages/ipykernel_launcher.py:5: RuntimeWarning: invalid value encountered in multiply\n",
      "  \"\"\"\n",
      "/usr/local/lib/python3.7/site-packages/ipykernel_launcher.py:3: RuntimeWarning: divide by zero encountered in log2\n",
      "  This is separate from the ipykernel package so we can avoid doing imports until\n",
      "/usr/local/lib/python3.7/site-packages/ipykernel_launcher.py:5: RuntimeWarning: invalid value encountered in multiply\n",
      "  \"\"\"\n",
      "/usr/local/lib/python3.7/site-packages/ipykernel_launcher.py:3: RuntimeWarning: divide by zero encountered in log2\n",
      "  This is separate from the ipykernel package so we can avoid doing imports until\n",
      "/usr/local/lib/python3.7/site-packages/ipykernel_launcher.py:5: RuntimeWarning: invalid value encountered in multiply\n",
      "  \"\"\"\n"
     ]
    },
    {
     "name": "stdout",
     "output_type": "stream",
     "text": [
      "evaluation of labels genereated for mnist; (# of labels per image, labels quality [%], lebels quality as groups[%])\n",
      "[(0.9001000000000001, 97.60305344125683, 87.98), (1.0002499999999999, 95.58276997728682, 95.605), (1.0040499999999999, 92.86137766545474, 93.23), (1.0162, 89.16222750345673, 90.58500000000001), (1.0179500000000004, 88.41525579726343, 89.99499999999998), (1.0272999999999999, 85.94692379248303, 88.285), (1.0323, 84.7687387140171, 87.5), (1.04245, 83.74470797537893, 87.295), (1.0515, 82.1207798383262, 86.35)]\n"
     ]
    }
   ],
   "source": [
    "orig_A1, lim_A1 = 2000, 2000\n",
    "mnist_evals = []\n",
    "for j in range(2, 11):\n",
    "    a, b, c = 0, 0, 0\n",
    "    if j == 10:\n",
    "        sample_lnum, sample_lqual, sample_lqual2 = entropy_scls_eval(j, orig_A1, lim_A1)\n",
    "        mnist_evals.append((sample_lnum, sample_lqual, sample_lqual2))\n",
    "    else:    \n",
    "        for _ in range(10):\n",
    "            sample_lnum, sample_lqual, sample_lqual2 = entropy_scls_eval(j, orig_A1, lim_A1)\n",
    "            a += sample_lnum\n",
    "            b += sample_lqual\n",
    "            c += sample_lqual2\n",
    "        mnist_evals.append((a/10, b/10, c/10))\n",
    "print(f\"evaluation of labels genereated for mnist; (# of labels per image, labels quality [%], lebels quality as groups[%])\\n{mnist_evals}\")"
   ]
  },
  {
   "cell_type": "markdown",
   "metadata": {},
   "source": [
    "### &uarr;画像あたりの平均ラベル数が1を切る場合は，分布が確定的になりすぎてエントロピー計算でアンダーフローが発生した結果，ラベルが一つもつかない場合があると推察される"
   ]
  },
  {
   "cell_type": "markdown",
   "metadata": {},
   "source": [
    "## CIFAR 10"
   ]
  },
  {
   "cell_type": "code",
   "execution_count": 7,
   "metadata": {},
   "outputs": [
    {
     "name": "stderr",
     "output_type": "stream",
     "text": [
      "Using TensorFlow backend.\n"
     ]
    }
   ],
   "source": [
    "from keras.datasets import cifar10\n",
    "\n",
    "(train_images, train_labels), (test_images, test_labels) = cifar10.load_data()\n",
    "\n",
    "# number of data samples\n",
    "train_N, test_N = train_images.shape[0], test_images.shape[0]\n",
    "# data normalisation and vecotrise\n",
    "train_imgs, test_imgs = train_images.reshape(train_N, -1)/255, test_images.reshape(test_N, -1)/255\n",
    "# labels ravel\n",
    "train_labels, test_labels = train_labels.ravel(), test_labels.ravel()\n",
    "\n",
    "img_SIZE = train_images.shape[1]*train_images.shape[2]*train_images.shape[3]"
   ]
  },
  {
   "cell_type": "markdown",
   "metadata": {},
   "source": [
    "### learning"
   ]
  },
  {
   "cell_type": "code",
   "execution_count": null,
   "metadata": {},
   "outputs": [],
   "source": [
    "orig_A2, lim_A2 = 2000, 2000\n",
    "cifar10_results = [np.average([entropy_scls_learning(j, orig_A2, lim_A2) for _ in range(10)]) for j in range(2, 10)]\n",
    "cifar10_results.append(entropy_scls_learning(10, orig_A2, lim_A2))\n",
    "print(cifar10_results)"
   ]
  },
  {
   "cell_type": "markdown",
   "metadata": {},
   "source": [
    "### labels evalutaiton"
   ]
  },
  {
   "cell_type": "code",
   "execution_count": 8,
   "metadata": {},
   "outputs": [
    {
     "name": "stdout",
     "output_type": "stream",
     "text": [
      "evaluation of labels genereated for cifar10; (# of labels per image, labels quality [%], lebels quality as groups[%])\n",
      "[(1.0, 74.75, 74.75), (1.0503, 59.12454317334923, 61.989999999999995), (1.1259000000000001, 52.07008511489069, 58.395), (1.21395, 44.659508244866444, 54.17), (1.2910499999999998, 38.921387720990715, 50.225), (1.37705, 33.05457607486076, 45.485), (1.45695, 30.184617088821017, 43.97), (1.53715, 26.949681416477638, 41.42), (1.573, 25.33375715193897, 39.85)]\n"
     ]
    }
   ],
   "source": [
    "orig_A2, lim_A2 = 2000, 2000\n",
    "cifar10_evals = []\n",
    "for j in range(2, 11):\n",
    "    a, b, c = 0, 0, 0\n",
    "    if j == 10:\n",
    "        sample_lnum, sample_lqual, sample_lqual2 = entropy_scls_eval(j, orig_A2, lim_A2)\n",
    "        cifar10_evals.append((sample_lnum, sample_lqual, sample_lqual2))\n",
    "    else:    \n",
    "        for _ in range(10):\n",
    "            sample_lnum, sample_lqual, sample_lqual2 = entropy_scls_eval(j, orig_A2, lim_A2)\n",
    "            a += sample_lnum\n",
    "            b += sample_lqual\n",
    "            c += sample_lqual2\n",
    "        cifar10_evals.append((a/10, b/10, c/10))\n",
    "print(f\"evaluation of labels genereated for cifar10; (# of labels per image, labels quality [%], lebels quality as groups[%])\\n{cifar10_evals}\")"
   ]
  },
  {
   "cell_type": "markdown",
   "metadata": {},
   "source": [
    "## CIFAR100"
   ]
  },
  {
   "cell_type": "code",
   "execution_count": 10,
   "metadata": {},
   "outputs": [],
   "source": [
    "from keras.datasets import cifar100\n",
    "\n",
    "(train_images, train_labels), (test_images, test_labels) = cifar100.load_data(label_mode = \"fine\")\n",
    "\n",
    "# number of data samples\n",
    "train_N, test_N = train_images.shape[0], test_images.shape[0]\n",
    "# data normalisation and vecotrise\n",
    "train_imgs, test_imgs = train_images.reshape(train_N, -1)/255, test_images.reshape(test_N, -1)/255\n",
    "# labels ravel\n",
    "train_labels, test_labels = train_labels.ravel(), test_labels.ravel()\n",
    "\n",
    "img_SIZE = train_images.shape[1]*train_images.shape[2]*train_images.shape[3]"
   ]
  },
  {
   "cell_type": "markdown",
   "metadata": {},
   "source": [
    "### learning"
   ]
  },
  {
   "cell_type": "code",
   "execution_count": 18,
   "metadata": {},
   "outputs": [],
   "source": [
    "orig_A3, lim_A3 = 200, 200\n",
    "cifar100_results = [np.average([entropy_scls_learning(j, orig_A3, lim_A3) for _ in range(10)]) for j in range(2, 10)]\n",
    "cifar100_results.append(entropy_scls_learning(10, orig_A3, lim_A3))\n",
    "print(cifar100_results)"
   ]
  },
  {
   "cell_type": "markdown",
   "metadata": {},
   "source": [
    "### labels evalutaiton"
   ]
  },
  {
   "cell_type": "code",
   "execution_count": 11,
   "metadata": {},
   "outputs": [
    {
     "name": "stdout",
     "output_type": "stream",
     "text": [
      "evaluation of labels genereated for cifar100; (# of labels per image, labels quality [%])\n",
      "[(1.0, 79.3, 79.3), (1.035, 61.52737253770037, 63.6), (1.1150000000000002, 48.958577337035344, 54.55), (1.1949999999999998, 44.308135667041846, 52.95), (1.2400000000000002, 39.96302552304452, 49.45), (1.3505, 36.10733580954215, 48.65), (1.4144999999999999, 29.3810043387583, 41.5), (1.4715000000000003, 26.775818377974012, 39.35), (1.505, 25.58139534883721, 38.5)]\n"
     ]
    }
   ],
   "source": [
    "orig_A3, lim_A3 = 200, 200\n",
    "cifar100_evals = []\n",
    "for j in range(2, 11):\n",
    "    a, b, c = 0, 0, 0\n",
    "    if j == 10:\n",
    "        sample_lnum, sample_lqual, sample_lqual2 = entropy_scls_eval(j, orig_A3, lim_A3)\n",
    "        cifar100_evals.append((sample_lnum, sample_lqual, sample_lqual2))\n",
    "    else:    \n",
    "        for _ in range(10):\n",
    "            sample_lnum, sample_lqual, sample_lqual2 = entropy_scls_eval(j, orig_A3, lim_A3)\n",
    "            a += sample_lnum\n",
    "            b += sample_lqual\n",
    "            c += sample_lqual2\n",
    "        cifar100_evals.append((a/10, b/10, c/10))\n",
    "print(f\"evaluation of labels genereated for cifar100; (# of labels per image, labels quality [%])\\n{cifar100_evals}\")"
   ]
  },
  {
   "cell_type": "code",
   "execution_count": null,
   "metadata": {},
   "outputs": [],
   "source": []
  },
  {
   "cell_type": "code",
   "execution_count": null,
   "metadata": {},
   "outputs": [],
   "source": []
  },
  {
   "cell_type": "code",
   "execution_count": null,
   "metadata": {},
   "outputs": [],
   "source": []
  },
  {
   "cell_type": "code",
   "execution_count": null,
   "metadata": {},
   "outputs": [],
   "source": []
  },
  {
   "cell_type": "code",
   "execution_count": null,
   "metadata": {},
   "outputs": [],
   "source": []
  },
  {
   "cell_type": "code",
   "execution_count": null,
   "metadata": {},
   "outputs": [],
   "source": []
  },
  {
   "cell_type": "code",
   "execution_count": null,
   "metadata": {},
   "outputs": [],
   "source": []
  },
  {
   "cell_type": "code",
   "execution_count": null,
   "metadata": {},
   "outputs": [],
   "source": []
  },
  {
   "cell_type": "code",
   "execution_count": null,
   "metadata": {},
   "outputs": [],
   "source": []
  },
  {
   "cell_type": "markdown",
   "metadata": {},
   "source": [
    "## 結果"
   ]
  },
  {
   "cell_type": "code",
   "execution_count": 19,
   "metadata": {},
   "outputs": [
    {
     "data": {
      "image/png": "[encoded data removed]",
      "text/plain": [
       "<Figure size 600x400 with 1 Axes>"
      ]
     },
     "metadata": {
      "needs_background": "light"
     },
     "output_type": "display_data"
    }
   ],
   "source": [
    "plt.figure(dpi = 100)\n",
    "plt.title(\"Entropy labelling\")\n",
    "plt.plot([i for i in range(2, 11)], results, marker = \"o\", label = \"MNIST\")\n",
    "plt.plot([i for i in range(2, 11)], results2, marker = \"x\", label = \"CIFAR10\")\n",
    "plt.plot([i for i in range(2, 11)], results3, marker = \"*\", label = \"CIFAR100\")\n",
    "plt.xlabel(\"Num of sub-classes\")\n",
    "plt.ylabel(\"Average acc of multi-labelled data learning\")\t\n",
    "plt.legend(loc = \"upper right\")\n",
    "plt.grid(True)"
   ]
  },
  {
   "cell_type": "code",
   "execution_count": 20,
   "metadata": {},
   "outputs": [
    {
     "name": "stdout",
     "output_type": "stream",
     "text": [
      "MNIST (10回の平均)\n",
      "[98.07248227 95.21826069 92.92167649 91.71057297 89.26130571 87.83640245\n",
      " 86.3645797  83.75733294 81.68      ]\n",
      "CIFAR10 (遅いので3回の平均)\n",
      "[84.55       63.41111111 53.06666667 46.00666667 40.19444444 37.3\n",
      " 33.7375     30.01481481 27.28      ]\n",
      "CIFAR100 (10回の平均)\n",
      "[77.2        58.8        50.8        49.32       41.98333333 38.04285714\n",
      " 34.8875     30.88888889 28.6       ]\n"
     ]
    }
   ],
   "source": [
    "print(f\"MNIST (10回の平均)\\n{results}\")\n",
    "print(f\"CIFAR10 (遅いので3回の平均)\\n{results2}\")\n",
    "print(f\"CIFAR100 (10回の平均)\\n{results3}\")"
   ]
  },
  {
   "cell_type": "code",
   "execution_count": 27,
   "metadata": {},
   "outputs": [],
   "source": [
    "ent_results = [results, results2, results3]"
   ]
  },
  {
   "cell_type": "code",
   "execution_count": 28,
   "metadata": {},
   "outputs": [
    {
     "data": {
      "text/plain": [
       "[array([98.07248227, 95.21826069, 92.92167649, 91.71057297, 89.26130571,\n",
       "        87.83640245, 86.3645797 , 83.75733294, 81.68      ]),\n",
       " array([84.55      , 63.41111111, 53.06666667, 46.00666667, 40.19444444,\n",
       "        37.3       , 33.7375    , 30.01481481, 27.28      ]),\n",
       " array([77.2       , 58.8       , 50.8       , 49.32      , 41.98333333,\n",
       "        38.04285714, 34.8875    , 30.88888889, 28.6       ])]"
      ]
     },
     "execution_count": 28,
     "metadata": {},
     "output_type": "execute_result"
    }
   ],
   "source": [
    "ent_results"
   ]
  },
  {
   "cell_type": "code",
   "execution_count": null,
   "metadata": {},
   "outputs": [],
   "source": []
  },
  {
   "cell_type": "code",
   "execution_count": null,
   "metadata": {},
   "outputs": [],
   "source": []
  },
  {
   "cell_type": "code",
   "execution_count": null,
   "metadata": {},
   "outputs": [],
   "source": []
  },
  {
   "cell_type": "markdown",
   "metadata": {},
   "source": [
    "### アノテータモデルによるラベルで学習した結果"
   ]
  },
  {
   "cell_type": "markdown",
   "metadata": {},
   "source": [
    "entropyの結果"
   ]
  },
  {
   "cell_type": "code",
   "execution_count": null,
   "metadata": {},
   "outputs": [],
   "source": [
    "[array([98.07248227, 95.21826069, 92.92167649, 91.71057297, 89.26130571,\n",
    "        87.83640245, 86.3645797 , 83.75733294, 81.68      ]),\n",
    " array([84.55      , 63.41111111, 53.06666667, 46.00666667, 40.19444444,\n",
    "        37.3       , 33.7375    , 30.01481481, 27.28      ]),\n",
    " array([77.2       , 58.8       , 50.8       , 49.32      , 41.98333333,\n",
    "        38.04285714, 34.8875    , 30.88888889, 28.6       ])]"
   ]
  },
  {
   "cell_type": "markdown",
   "metadata": {},
   "source": [
    "1/Kの結果"
   ]
  },
  {
   "cell_type": "code",
   "execution_count": 30,
   "metadata": {},
   "outputs": [],
   "source": [
    "oneKth_results = [[97.36281997, 94.74324793, 92.88411133, 89.52189082, 87.0354047 ,\n",
    "        86.5668632 , 83.15581019, 80.56001975, 79.87      ],\n",
    "[75.58333333, 61.57777778, 57.625     , 46.96      , 42.65      ,\n",
    "        35.83333333, 33.05416667, 29.24814815, 27.19      ],\n",
    "[73.        , 62.8       , 54.        , 48.82      , 43.06666667,\n",
    "        38.28571429, 34.7375    , 31.28888889, 27.4       ]]"
   ]
  },
  {
   "cell_type": "code",
   "execution_count": 55,
   "metadata": {},
   "outputs": [
    {
     "data": {
      "image/png": "[encoded data removed]",
      "text/plain": [
       "<Figure size 600x400 with 1 Axes>"
      ]
     },
     "metadata": {
      "needs_background": "light"
     },
     "output_type": "display_data"
    }
   ],
   "source": [
    "plt.figure(dpi = 100)\n",
    "plt.title(\"Entropy vs 1/K labelling\")\n",
    "# ent\n",
    "plt.plot([i for i in range(2, 11)], ent_results[0], color = \"b\", marker = \"o\", label = \"ent MNIST\")\n",
    "#plt.plot([i for i in range(2, 11)], results_c10_ent, color = \"g\", marker = \"o\", label = \"ent CIFAR10\")\n",
    "plt.plot([i for i in range(2, 11)], ent_results[1], color = \"b\", marker = \"o\", label = \"ent CIFAR10\")\n",
    "#plt.plot([i for i in range(2, 11)], ent_results[2], color = \"g\", marker = \"o\", label = \"ent CIFAR100\")\n",
    "# 1/K\n",
    "plt.plot([i for i in range(2, 11)], oneKth_results[0], color = \"r\", marker = \"x\", label = \"1/K MNIST\")\n",
    "plt.plot([i for i in range(2, 11)], oneKth_results[1], color = \"r\", marker = \"x\", label = \"1/K CIFAR10\")\n",
    "#plt.plot([i for i in range(2, 11)], oneKth_results[2], color = \"r\", marker = \"x\", label = \"1/K CIFAR100\")\n",
    "\n",
    "plt.xlabel(\"Num of sub-classes\")\n",
    "plt.ylabel(\"Average acc of multi-labelled data learning\")\t\n",
    "plt.legend(loc = \"center right\")\n",
    "plt.grid(True)"
   ]
  },
  {
   "cell_type": "markdown",
   "metadata": {},
   "source": [
    "mizで計算したCIFAR10の10回平均の結果"
   ]
  },
  {
   "cell_type": "code",
   "execution_count": 45,
   "metadata": {},
   "outputs": [],
   "source": [
    "results_c10_ent = [72.465     , 65.30666667, 54.9375    , 48.676     , 42.17      ,\n",
    "       37.38428571, 32.67      , 29.44555556, 27.16      ]"
   ]
  },
  {
   "cell_type": "code",
   "execution_count": null,
   "metadata": {},
   "outputs": [],
   "source": []
  }
 ],
 "metadata": {
  "kernelspec": {
   "display_name": "Python 3",
   "language": "python",
   "name": "python3"
  },
  "language_info": {
   "codemirror_mode": {
    "name": "ipython",
    "version": 3
   },
   "file_extension": ".py",
   "mimetype": "text/x-python",
   "name": "python",
   "nbconvert_exporter": "python",
   "pygments_lexer": "ipython3",
   "version": "3.7.4"
  }
 },
 "nbformat": 4,
 "nbformat_minor": 4
}
