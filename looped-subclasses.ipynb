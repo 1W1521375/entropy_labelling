{
 "cells": [
  {
   "cell_type": "markdown",
   "metadata": {},
   "source": [
    "# reduced classes experiments for entropy labelling"
   ]
  },
  {
   "cell_type": "code",
   "execution_count": 1,
   "metadata": {},
   "outputs": [],
   "source": [
    "%matplotlib inline\n",
    "import matplotlib as mpl\n",
    "import matplotlib.pyplot as plt\n",
    "import numpy as np\n",
    "import pandas as pd\n",
    "from sklearn.metrics import accuracy_score\n",
    "from sklearn.linear_model import LogisticRegression as LR\n",
    "from sklearn.ensemble import RandomForestClassifier as RF\n",
    "import time\n",
    "from numpy.random import *\n",
    "\n",
    "# import warnings filter\n",
    "from warnings import simplefilter\n",
    "# ignore all future warnings\n",
    "simplefilter(action = 'ignore', category = FutureWarning)"
   ]
  },
  {
   "cell_type": "code",
   "execution_count": 2,
   "metadata": {},
   "outputs": [],
   "source": [
    "def randints_nodup(k):\n",
    "    ns = []\n",
    "    while (len(ns) < k):\n",
    "        n = randint(0, 10)\n",
    "        if not n in ns:\n",
    "            ns.append(n)\n",
    "    return list(ns) "
   ]
  },
  {
   "cell_type": "code",
   "execution_count": 3,
   "metadata": {},
   "outputs": [],
   "source": [
    "# entropy labelling\n",
    "def ent_label(probas, s_cls):\n",
    "    info_con = (-1)*np.log2(probas)\n",
    "    # entropy\n",
    "    Hp = np.sum(np.multiply(probas, info_con))\n",
    "    # クラス数変えると，probaでのindexがそのままlabelとして使えないのでs_cls内を参照させる\n",
    "    labels = np.array([s_cls[i] for i, Ipk in enumerate(info_con) if Ipk <= Hp])\n",
    "    \n",
    "    return labels"
   ]
  },
  {
   "cell_type": "code",
   "execution_count": 4,
   "metadata": {},
   "outputs": [],
   "source": [
    "# duplicating images k-1 times, for k-labels\n",
    "def dup_imgs(img, labels):\n",
    "    k = len(labels)\n",
    "    if k == 1:\n",
    "        #print(img.shape)\n",
    "        return np.array(img)\n",
    "    else:\n",
    "        tmp_dup = np.array([img for _ in range(k)])\n",
    "        #print(tmp_dup.shape)\n",
    "        return tmp_dup"
   ]
  },
  {
   "cell_type": "code",
   "execution_count": 5,
   "metadata": {},
   "outputs": [],
   "source": [
    "# 乱数でクラスを選ぶ\n",
    "def entropy_scls_learning(classes_num, orig_A, lim_A):\n",
    "    # sortされてないとpredict_probaとるときに整合性とれなくなる\n",
    "    s_cls = randints_nodup(classes_num)\n",
    "    # sort()は破壊的変更を行うだけで，sortされたlistそのものが返ってくるのではない\n",
    "    s_cls.sort()\n",
    "\n",
    "    # 選ばれたクラスだけのデータとラベルを用意\n",
    "    trn_imgs = [img for i, img in enumerate(train_imgs) if train_labels[i] in s_cls]\n",
    "    trn_labels = [label for label in train_labels if label in s_cls]\n",
    "\n",
    "    tst_imgs = [img for i, img in enumerate(test_imgs) if test_labels[i] in s_cls]\n",
    "    tst_labels = [label for label in test_labels if label in s_cls]\n",
    "\n",
    "    #print(f\"{classes_num} classes learning: {s_cls}\")\n",
    "    model = LR().fit(trn_imgs[orig_A:orig_A + lim_A], trn_labels[orig_A:orig_A + lim_A])\n",
    "    acc = accuracy_score(tst_labels, model.predict(tst_imgs))\n",
    "    #print(f\"learnt with original labels: {acc*100}[%]\")\n",
    "\n",
    "    # 2クラスの場合，選ばれたクラス次第では，というかほとんどの組み合わせでdiv by 0になってしまうらしい\n",
    "    # generate an annotator\n",
    "    a1_model = LR().fit(trn_imgs[:orig_A], trn_labels[:orig_A])\n",
    "    a1_proba = a1_model.predict_proba(trn_imgs[orig_A:orig_A + lim_A])\n",
    "\n",
    "    # entropy labelling\n",
    "    mul_labels = [ent_label(probas, s_cls) for probas in a1_proba]\n",
    "    m_labels = []\n",
    "\n",
    "    for labels in mul_labels:\n",
    "         [m_labels.append(l) for l in labels]\n",
    "    \n",
    "    # images duplication\n",
    "    dupld_imgs = np.array([dup_imgs(img, mul_labels[i]) for i, img in enumerate(trn_imgs[orig_A:orig_A + lim_A])])\n",
    "\n",
    "    d_imgs = []\n",
    "\n",
    "    for img in dupld_imgs:\n",
    "        a = img.shape\n",
    "        n = a[0]\n",
    "        if (n == img_SIZE):\n",
    "            d_imgs.append(img)\n",
    "        else:\n",
    "            for _ in range(n):\n",
    "                d_imgs.append(img[0])\n",
    "\n",
    "    d_imgs = np.array(d_imgs)\n",
    "\n",
    "    # final learning\n",
    "    final_model = LR().fit(d_imgs, m_labels)\n",
    "    acc = accuracy_score(tst_labels, final_model.predict(tst_imgs))\n",
    "    #print(f\"entropy labelled learning: {acc*100}[%]\")\n",
    "    return acc*100"
   ]
  },
  {
   "cell_type": "markdown",
   "metadata": {},
   "source": [
    "## MNIST"
   ]
  },
  {
   "cell_type": "code",
   "execution_count": 6,
   "metadata": {},
   "outputs": [
    {
     "name": "stderr",
     "output_type": "stream",
     "text": [
      "Using TensorFlow backend.\n"
     ]
    }
   ],
   "source": [
    "from keras.datasets import mnist\n",
    "\n",
    "(train_images, train_labels), (test_images, test_labels) = mnist.load_data()\n",
    "train_imgs = np.array([x.ravel() for x in train_images])\n",
    "test_imgs = np.array([y.ravel() for y in test_images])\n",
    "\n",
    "img_SIZE = train_images.shape[1]*train_images.shape[2]"
   ]
  },
  {
   "cell_type": "code",
   "execution_count": 7,
   "metadata": {},
   "outputs": [
    {
     "name": "stderr",
     "output_type": "stream",
     "text": [
      "/usr/local/lib/python3.7/site-packages/ipykernel_launcher.py:3: RuntimeWarning: divide by zero encountered in log2\n",
      "  This is separate from the ipykernel package so we can avoid doing imports until\n",
      "/usr/local/lib/python3.7/site-packages/ipykernel_launcher.py:5: RuntimeWarning: invalid value encountered in multiply\n",
      "  \"\"\"\n",
      "/usr/local/lib/python3.7/site-packages/ipykernel_launcher.py:3: RuntimeWarning: divide by zero encountered in log2\n",
      "  This is separate from the ipykernel package so we can avoid doing imports until\n",
      "/usr/local/lib/python3.7/site-packages/ipykernel_launcher.py:5: RuntimeWarning: invalid value encountered in multiply\n",
      "  \"\"\"\n",
      "/usr/local/lib/python3.7/site-packages/ipykernel_launcher.py:3: RuntimeWarning: divide by zero encountered in log2\n",
      "  This is separate from the ipykernel package so we can avoid doing imports until\n",
      "/usr/local/lib/python3.7/site-packages/ipykernel_launcher.py:5: RuntimeWarning: invalid value encountered in multiply\n",
      "  \"\"\"\n",
      "/usr/local/lib/python3.7/site-packages/ipykernel_launcher.py:3: RuntimeWarning: divide by zero encountered in log2\n",
      "  This is separate from the ipykernel package so we can avoid doing imports until\n",
      "/usr/local/lib/python3.7/site-packages/ipykernel_launcher.py:5: RuntimeWarning: invalid value encountered in multiply\n",
      "  \"\"\"\n",
      "/usr/local/lib/python3.7/site-packages/ipykernel_launcher.py:3: RuntimeWarning: divide by zero encountered in log2\n",
      "  This is separate from the ipykernel package so we can avoid doing imports until\n",
      "/usr/local/lib/python3.7/site-packages/ipykernel_launcher.py:5: RuntimeWarning: invalid value encountered in multiply\n",
      "  \"\"\"\n",
      "/usr/local/lib/python3.7/site-packages/ipykernel_launcher.py:3: RuntimeWarning: divide by zero encountered in log2\n",
      "  This is separate from the ipykernel package so we can avoid doing imports until\n",
      "/usr/local/lib/python3.7/site-packages/ipykernel_launcher.py:5: RuntimeWarning: invalid value encountered in multiply\n",
      "  \"\"\"\n",
      "/usr/local/lib/python3.7/site-packages/ipykernel_launcher.py:3: RuntimeWarning: divide by zero encountered in log2\n",
      "  This is separate from the ipykernel package so we can avoid doing imports until\n",
      "/usr/local/lib/python3.7/site-packages/ipykernel_launcher.py:5: RuntimeWarning: invalid value encountered in multiply\n",
      "  \"\"\"\n",
      "/usr/local/lib/python3.7/site-packages/ipykernel_launcher.py:3: RuntimeWarning: divide by zero encountered in log2\n",
      "  This is separate from the ipykernel package so we can avoid doing imports until\n",
      "/usr/local/lib/python3.7/site-packages/ipykernel_launcher.py:5: RuntimeWarning: invalid value encountered in multiply\n",
      "  \"\"\"\n",
      "/usr/local/lib/python3.7/site-packages/ipykernel_launcher.py:3: RuntimeWarning: divide by zero encountered in log2\n",
      "  This is separate from the ipykernel package so we can avoid doing imports until\n",
      "/usr/local/lib/python3.7/site-packages/ipykernel_launcher.py:5: RuntimeWarning: invalid value encountered in multiply\n",
      "  \"\"\"\n",
      "/usr/local/lib/python3.7/site-packages/ipykernel_launcher.py:3: RuntimeWarning: divide by zero encountered in log2\n",
      "  This is separate from the ipykernel package so we can avoid doing imports until\n",
      "/usr/local/lib/python3.7/site-packages/ipykernel_launcher.py:5: RuntimeWarning: invalid value encountered in multiply\n",
      "  \"\"\"\n"
     ]
    }
   ],
   "source": [
    "orig_A1, lim_A1 = 2000, 2000\n",
    "results = np.array([np.average([entropy_scls_learning(j, orig_A1, lim_A1) for _ in range(10)]) for j in range(2, 11)])"
   ]
  },
  {
   "cell_type": "code",
   "execution_count": 8,
   "metadata": {},
   "outputs": [
    {
     "data": {
      "text/plain": [
       "array([98.07248227, 95.21826069, 92.92167649, 91.71057297, 89.26130571,\n",
       "       87.83640245, 86.3645797 , 83.75733294, 81.68      ])"
      ]
     },
     "execution_count": 8,
     "metadata": {},
     "output_type": "execute_result"
    }
   ],
   "source": [
    "results"
   ]
  },
  {
   "cell_type": "markdown",
   "metadata": {},
   "source": [
    "## CIFAR 10"
   ]
  },
  {
   "cell_type": "code",
   "execution_count": 10,
   "metadata": {},
   "outputs": [],
   "source": [
    "from keras.datasets import cifar10\n",
    "\n",
    "(train_images, train_labels), (test_images, test_labels) = cifar10.load_data()\n",
    "\n",
    "# number of data samples\n",
    "train_N, test_N = train_images.shape[0], test_images.shape[0]\n",
    "# data normalisation and vecotrise\n",
    "train_imgs, test_imgs = train_images.reshape(train_N, -1)/255, test_images.reshape(test_N, -1)/255\n",
    "# labels ravel\n",
    "train_labels, test_labels = train_labels.ravel(), test_labels.ravel()\n",
    "\n",
    "img_SIZE = train_images.shape[1]*train_images.shape[2]*train_images.shape[3]"
   ]
  },
  {
   "cell_type": "code",
   "execution_count": 11,
   "metadata": {},
   "outputs": [],
   "source": [
    "orig_A2, lim_A2 = 2000, 2000\n",
    "results2 = np.array([np.average([entropy_scls_learning(j, orig_A2, lim_A2) for _ in range(3)]) for j in range(2, 11)])"
   ]
  },
  {
   "cell_type": "markdown",
   "metadata": {},
   "source": [
    "## CIFAR100"
   ]
  },
  {
   "cell_type": "code",
   "execution_count": 17,
   "metadata": {},
   "outputs": [],
   "source": [
    "from keras.datasets import cifar100\n",
    "\n",
    "(train_images, train_labels), (test_images, test_labels) = cifar100.load_data(label_mode = \"fine\")\n",
    "\n",
    "# number of data samples\n",
    "train_N, test_N = train_images.shape[0], test_images.shape[0]\n",
    "# data normalisation and vecotrise\n",
    "train_imgs, test_imgs = train_images.reshape(train_N, -1)/255, test_images.reshape(test_N, -1)/255\n",
    "# labels ravel\n",
    "train_labels, test_labels = train_labels.ravel(), test_labels.ravel()\n",
    "\n",
    "img_SIZE = train_images.shape[1]*train_images.shape[2]*train_images.shape[3]"
   ]
  },
  {
   "cell_type": "code",
   "execution_count": 18,
   "metadata": {},
   "outputs": [],
   "source": [
    "orig_A3, lim_A3 = 200, 200\n",
    "results3 = np.array([np.average([entropy_scls_learning(j, orig_A3, lim_A3) for _ in range(10)]) for j in range(2, 11)])"
   ]
  },
  {
   "cell_type": "code",
   "execution_count": 19,
   "metadata": {},
   "outputs": [
    {
     "data": {
      "image/png": "[encoded data removed]",
      "text/plain": [
       "<Figure size 600x400 with 1 Axes>"
      ]
     },
     "metadata": {
      "needs_background": "light"
     },
     "output_type": "display_data"
    }
   ],
   "source": [
    "plt.figure(dpi = 100)\n",
    "plt.title(\"Entropy labelling\")\n",
    "plt.plot([i for i in range(2, 11)], results, marker = \"o\", label = \"MNIST\")\n",
    "plt.plot([i for i in range(2, 11)], results2, marker = \"x\", label = \"CIFAR10\")\n",
    "plt.plot([i for i in range(2, 11)], results3, marker = \"*\", label = \"CIFAR100\")\n",
    "plt.xlabel(\"num of sub-classes\")\n",
    "plt.ylabel(\"Average acc of multi-labelled data learning\")\t\n",
    "plt.legend(loc = \"upper right\")\n",
    "plt.grid(True)"
   ]
  },
  {
   "cell_type": "code",
   "execution_count": 20,
   "metadata": {},
   "outputs": [
    {
     "name": "stdout",
     "output_type": "stream",
     "text": [
      "MNIST (10回の平均)\n",
      "[98.07248227 95.21826069 92.92167649 91.71057297 89.26130571 87.83640245\n",
      " 86.3645797  83.75733294 81.68      ]\n",
      "CIFAR10 (遅いので3回の平均)\n",
      "[84.55       63.41111111 53.06666667 46.00666667 40.19444444 37.3\n",
      " 33.7375     30.01481481 27.28      ]\n",
      "CIFAR100 (10回の平均)\n",
      "[77.2        58.8        50.8        49.32       41.98333333 38.04285714\n",
      " 34.8875     30.88888889 28.6       ]\n"
     ]
    }
   ],
   "source": [
    "print(f\"MNIST (10回の平均)\\n{results}\")\n",
    "print(f\"CIFAR10 (遅いので3回の平均)\\n{results2}\")\n",
    "print(f\"CIFAR100 (10回の平均)\\n{results3}\")"
   ]
  },
  {
   "cell_type": "code",
   "execution_count": null,
   "metadata": {},
   "outputs": [],
   "source": []
  }
 ],
 "metadata": {
  "kernelspec": {
   "display_name": "Python 3",
   "language": "python",
   "name": "python3"
  },
  "language_info": {
   "codemirror_mode": {
    "name": "ipython",
    "version": 3
   },
   "file_extension": ".py",
   "mimetype": "text/x-python",
   "name": "python",
   "nbconvert_exporter": "python",
   "pygments_lexer": "ipython3",
   "version": "3.7.4"
  }
 },
 "nbformat": 4,
 "nbformat_minor": 4
}
