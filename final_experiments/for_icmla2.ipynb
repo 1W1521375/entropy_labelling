{
 "cells": [
  {
   "cell_type": "markdown",
   "metadata": {},
   "source": [
    "# 10 classes, Hellinger distance, MNIST, final graphs?"
   ]
  },
  {
   "cell_type": "code",
   "execution_count": 100,
   "metadata": {},
   "outputs": [],
   "source": [
    "import matplotlib as mpl\n",
    "import matplotlib.pyplot as plt\n",
    "import numpy as np\n",
    "from sklearn.metrics import accuracy_score\n",
    "from sklearn.linear_model import LogisticRegression as LR\n",
    "from keras.datasets import mnist\n",
    "import itertools\n",
    "import codecs\n",
    "# import warnings filter\n",
    "from warnings import simplefilter\n",
    "# ignore all future warnings\n",
    "simplefilter(action = 'ignore', category = FutureWarning)"
   ]
  },
  {
   "cell_type": "code",
   "execution_count": 72,
   "metadata": {},
   "outputs": [],
   "source": [
    "def factorial(n):\n",
    "    if n == 0:\n",
    "        return 1\n",
    "    elif n > 0:\n",
    "        return n*factorial(n - 1)"
   ]
  },
  {
   "cell_type": "code",
   "execution_count": 73,
   "metadata": {},
   "outputs": [],
   "source": [
    "# entropy labelling\n",
    "def tsallis_label(q, probas, s_cls):\n",
    "    elements = np.power(probas, q - 1)\n",
    "    # thrshld in tsallis entropy model\n",
    "    ts_thrshld = np.sum(np.power(probas, q))\n",
    "    if q < 1:\n",
    "        labels = [s_cls[i] for i, e in enumerate(elements) if e < ts_thrshld]\n",
    "    else:\n",
    "        labels = [s_cls[i] for i, e in enumerate(elements) if e > ts_thrshld]\n",
    "    return labels"
   ]
  },
  {
   "cell_type": "code",
   "execution_count": 74,
   "metadata": {},
   "outputs": [],
   "source": [
    "# 1/M labelling\n",
    "def oneMth_label(probas, s_cls):\n",
    "    # 1/M\n",
    "    thrshld = 1/len(s_cls)\n",
    "    labels = [s_cls[i] for i, pk in enumerate(probas) if pk > thrshld]\n",
    "    return labels"
   ]
  },
  {
   "cell_type": "code",
   "execution_count": 75,
   "metadata": {},
   "outputs": [],
   "source": [
    "def shannon_label(probas, s_cls):\n",
    "    info_con = (-1)*np.log2(probas)\n",
    "    # entropy\n",
    "    Hp = np.sum(np.multiply(probas, info_con))\n",
    "    if isnan(Hp):\n",
    "        labels = [s_cls[np.argmax(probas)]]\n",
    "    else:\n",
    "        labels = [s_cls[i] for i, Ipk in enumerate(info_con) if Ipk <= Hp]\n",
    "    return labels"
   ]
  },
  {
   "cell_type": "code",
   "execution_count": 76,
   "metadata": {},
   "outputs": [],
   "source": [
    "# labelling and evaluating them\n",
    "def info_trans_scoring(q, classes, orig_A, lim_A, dataset):\n",
    "    s_cls = classes\n",
    "\n",
    "    # extract dataset of chosen classes\n",
    "    trn_imgs = [img for i, img in enumerate(train_imgs) if train_labels[i] in s_cls]\n",
    "    trn_labels = [label for label in train_labels if label in s_cls]\n",
    "\n",
    "    # generate an annotator\n",
    "    if (dataset == \"mnist\"):\n",
    "        a1_model = LR().fit(trn_imgs[:orig_A], trn_labels[:orig_A])\n",
    "    else:\n",
    "        a1_model = LR(max_iter = 300).fit(trn_imgs[:orig_A], trn_labels[:orig_A])\n",
    "        \n",
    "    a1_probas = a1_model.predict_proba(trn_imgs[orig_A:orig_A + lim_A])\n",
    "\n",
    "    # labelling\n",
    "    if (q == 0): # 1/M\n",
    "        mul_labels = [oneMth_label(probas, s_cls) for probas in a1_probas]\n",
    "    elif (q == 1): # shannon\n",
    "        mul_labels = [shannon_label(probas, s_cls) for probas in a1_probas]\n",
    "    else: # regular tsallis\n",
    "        mul_labels = [tsallis_label(q, probas, s_cls) for probas in a1_probas]\n",
    "    \n",
    "    # scoring info transmission\n",
    "    score = 0\n",
    "    for labels, probas in zip(mul_labels, a1_probas):\n",
    "        u_dist = 1/len(labels)\n",
    "        for label in labels:\n",
    "            score += np.power((np.sqrt(probas[s_cls.index(label)]) - np.sqrt(u_dist)), 2)\n",
    "    \n",
    "    lnum = 0\n",
    "    for labels in mul_labels:\n",
    "         lnum += len(labels)\n",
    "    \n",
    "    return (lnum/lim_A, np.sqrt(score)/np.sqrt(2))"
   ]
  },
  {
   "cell_type": "code",
   "execution_count": 77,
   "metadata": {},
   "outputs": [],
   "source": [
    "# fop top-r (1.2, 1.4, 1.6, 1.8)\n",
    "from sklearn.model_selection import train_test_split\n",
    "\n",
    "# labelling and evaluating them\n",
    "def info_trans_scoring_3(part, classes, orig_A, lim_A, dataset):\n",
    "    s_cls = classes\n",
    "\n",
    "    # extract dataset of chosen classes\n",
    "    trn_imgs = [img for i, img in enumerate(train_imgs) if train_labels[i] in s_cls]\n",
    "    trn_labels = [label for label in train_labels if label in s_cls]\n",
    "\n",
    "    # generate an annotator\n",
    "    # generate an annotator\n",
    "    if (dataset == \"mnist\"):\n",
    "        ann_model = LR().fit(trn_imgs[:orig_A], trn_labels[:orig_A])\n",
    "    else:\n",
    "        ann_model = LR(max_iter = 300).fit(trn_imgs[:orig_A], trn_labels[:orig_A])\n",
    "\n",
    "    # labelling\n",
    "    f_imgs, s_imgs, f_labels, s_labels = train_test_split(trn_imgs[orig_A:orig_A + lim_A], trn_labels[orig_A:orig_A + lim_A], test_size = part/100)\n",
    "    # top-1\n",
    "    f_ann_proba = ann_model.predict_proba(f_imgs)\n",
    "    ord_labels = [topk_label(probas, s_cls, 1) for probas in f_ann_proba]\n",
    "    # top-2\n",
    "    s_ann_proba = ann_model.predict_proba(s_imgs)\n",
    "    top2_labels = [topk_label(probas, s_cls, 2) for probas in s_ann_proba]\n",
    "    # concat top-1 results and top-2 results\n",
    "    ann_probas = ann_model.predict_proba(f_imgs + s_imgs)\n",
    "    mul_labels = ord_labels + top2_labels\n",
    "    \n",
    "    # scoring info transmission\n",
    "    score = 0\n",
    "    for labels, probas in zip(mul_labels, ann_probas):\n",
    "        u_dist = 1/len(labels)\n",
    "        for label in labels:\n",
    "            score += np.power((np.sqrt(probas[s_cls.index(label)]) - np.sqrt(u_dist)), 2)\n",
    "            \n",
    "    lnum = 0\n",
    "    for labels in mul_labels:\n",
    "         lnum += len(labels)\n",
    "    \n",
    "    return (lnum/lim_A, np.sqrt(score)/np.sqrt(2))"
   ]
  },
  {
   "cell_type": "code",
   "execution_count": 78,
   "metadata": {},
   "outputs": [],
   "source": [
    "# loading MNIST\n",
    "(train_images, train_labels), (test_images, test_labels) = mnist.load_data()\n",
    "train_imgs = np.array([x.ravel() for x in train_images])\n",
    "test_imgs = np.array([y.ravel() for y in test_images])"
   ]
  },
  {
   "cell_type": "markdown",
   "metadata": {},
   "source": [
    "### q = -10, -1.0, -0.5, -0.1, 0, 0.1, 1.0 "
   ]
  },
  {
   "cell_type": "code",
   "execution_count": 31,
   "metadata": {},
   "outputs": [
    {
     "name": "stderr",
     "output_type": "stream",
     "text": [
      "/home/k.goto/.pyenv/versions/3.6.4/lib/python3.6/site-packages/ipykernel_launcher.py:3: RuntimeWarning: overflow encountered in power\n",
      "  This is separate from the ipykernel package so we can avoid doing imports until\n",
      "/home/k.goto/.pyenv/versions/3.6.4/lib/python3.6/site-packages/ipykernel_launcher.py:5: RuntimeWarning: overflow encountered in power\n",
      "  \"\"\"\n"
     ]
    },
    {
     "name": "stdout",
     "output_type": "stream",
     "text": [
      "[7.871, 5.3105, 3.375, 1.464, 1.2235, 1.1525, 1.0505]\n",
      "[34.55525916103137, 31.515281268279736, 26.504816333360264, 9.885849848745657, 2.567830217165451, 1.4024960668440367, 2.9529449627044273]\n"
     ]
    }
   ],
   "source": [
    "# main measurement\n",
    "from math import isnan # for shannon\n",
    "\n",
    "classes = [i for i in range(10)]\n",
    "orig_A1, lim_A1 = 2000, 2000\n",
    "fact_10 = factorial(10)\n",
    "dataset = \"mnist\"\n",
    "\n",
    "q_list = [-10, -1.0, -0.5, -0.1, 0, 0.1, 1]\n",
    "results = [info_trans_scoring(q, classes, orig_A1, lim_A1, dataset) for q in q_list]\n",
    "\n",
    "lnums = [e[0] for e in results]\n",
    "hell_values = [e[1] for e in results]\n",
    "print(lnums)\n",
    "print(hell_values)"
   ]
  },
  {
   "cell_type": "markdown",
   "metadata": {},
   "source": [
    "### q = +inf (Top-1)"
   ]
  },
  {
   "cell_type": "code",
   "execution_count": 39,
   "metadata": {},
   "outputs": [],
   "source": [
    "# top-k labelling\n",
    "def topk_label(probas, s_cls, k):\n",
    "    l_indexes = probas.argsort()[::-1][:k]\n",
    "    labels = [s_cls[i] for i in l_indexes]\n",
    "    return labels\n",
    "\n",
    "# labelling and evaluating them\n",
    "def info_trans_scoring_2(k, classes, orig_A, lim_A, dataset):\n",
    "    s_cls = classes\n",
    "\n",
    "    # extract dataset of chosen classes\n",
    "    trn_imgs = [img for i, img in enumerate(train_imgs) if train_labels[i] in s_cls]\n",
    "    trn_labels = [label for label in train_labels if label in s_cls]\n",
    "\n",
    "    # generate an annotator\n",
    "    # generate an annotator\n",
    "    if (dataset == \"mnist\"):\n",
    "        a1_model = LR().fit(trn_imgs[:orig_A], trn_labels[:orig_A])\n",
    "    else:\n",
    "        a1_model = LR(max_iter = 300).fit(trn_imgs[:orig_A], trn_labels[:orig_A])\n",
    "        \n",
    "    a1_probas = a1_model.predict_proba(trn_imgs[orig_A:orig_A + lim_A])\n",
    "\n",
    "    # entropy labelling\n",
    "    mul_labels = [topk_label(probas, s_cls, k) for probas in a1_probas]\n",
    "    \n",
    "    # scoring info transmission\n",
    "    score = 0\n",
    "    for labels, probas in zip(mul_labels, a1_probas):\n",
    "        u_dist = 1/len(labels)\n",
    "        for label in labels:\n",
    "            score += np.power((np.sqrt(probas[s_cls.index(label)]) - np.sqrt(u_dist)), 2)\n",
    "    \n",
    "    lnum = 0\n",
    "    for labels in mul_labels:\n",
    "         lnum += len(labels)\n",
    "    \n",
    "    return (lnum/lim_A, np.sqrt(score)/np.sqrt(2))"
   ]
  },
  {
   "cell_type": "code",
   "execution_count": 11,
   "metadata": {},
   "outputs": [
    {
     "name": "stdout",
     "output_type": "stream",
     "text": [
      "3.7107261746317772\n"
     ]
    }
   ],
   "source": [
    "# main measurement\n",
    "classes = [i for i in range(10)]\n",
    "orig_A1, lim_A1 = 2000, 2000\n",
    "fact_10 = factorial(10)\n",
    "dataset = \"mnist\"\n",
    "\n",
    "print(info_trans_scoring_2(1, classes, orig_A1, lim_A1, dataset))"
   ]
  },
  {
   "cell_type": "markdown",
   "metadata": {},
   "source": [
    "### q = -inf (Top-9)"
   ]
  },
  {
   "cell_type": "code",
   "execution_count": 12,
   "metadata": {},
   "outputs": [
    {
     "name": "stdout",
     "output_type": "stream",
     "text": [
      "35.43164316829221\n"
     ]
    }
   ],
   "source": [
    "print(info_trans_scoring_2(9, classes, orig_A1, lim_A1, dataset))"
   ]
  },
  {
   "cell_type": "markdown",
   "metadata": {},
   "source": [
    "## Tsallis"
   ]
  },
  {
   "cell_type": "code",
   "execution_count": 79,
   "metadata": {},
   "outputs": [],
   "source": [
    "# from some other file (perhaps for_graphs.ipynb?)\n",
    "print([9.0, 7.871, 5.3105, 3.375, 1.464, 1.2235, 1.1525, 1.0505, 1.0], sep = \"\\n\", file = codecs.open(\"for_icmla2.txt\", 'a', 'utf-8'))\n",
    "print([35.43164316829221, 34.55525916103137, 31.515281268279736, 26.504816333360264, 9.885849848745657, 2.567830217165451, 1.4024960668440367, 2.9529449627044273, 3.7107261746317772], sep = \"\\n\", file = codecs.open(\"for_icmla2.txt\", 'a', 'utf-8'))"
   ]
  },
  {
   "cell_type": "markdown",
   "metadata": {},
   "source": [
    "## Top-k"
   ]
  },
  {
   "cell_type": "code",
   "execution_count": 80,
   "metadata": {},
   "outputs": [],
   "source": [
    "# main measurement\n",
    "classes = [i for i in range(10)]\n",
    "orig_A1, lim_A1 = 2000, 2000\n",
    "fact_10 = factorial(10)\n",
    "\n",
    "topk_results = [info_trans_scoring_2(k, classes, orig_A1, lim_A1, dataset) for k in range(9, 0, -1)]\n",
    "print([e[0] for e in topk_results], sep = \"\\n\", file = codecs.open(\"for_icmla2.txt\", 'a', 'utf-8'))\n",
    "print([e[1] for e in topk_results], sep = \"\\n\", file = codecs.open(\"for_icmla2.txt\", 'a', 'utf-8'))"
   ]
  },
  {
   "cell_type": "markdown",
   "metadata": {},
   "source": [
    "## tsallis vs top-k (MNIST)"
   ]
  },
  {
   "cell_type": "code",
   "execution_count": 65,
   "metadata": {},
   "outputs": [
    {
     "name": "stderr",
     "output_type": "stream",
     "text": [
      "WARNING: Logging before flag parsing goes to stderr.\n",
      "W0708 16:47:49.017043 139760905914176 legend.py:1282] No handles with labels found to put in legend.\n"
     ]
    },
    {
     "data": {
      "image/png": "[encoded data removed]",
      "text/plain": [
       "<Figure size 432x288 with 1 Axes>"
      ]
     },
     "metadata": {
      "needs_background": "light"
     },
     "output_type": "display_data"
    }
   ],
   "source": [
    "fig = plt.figure()\n",
    "ax = fig.add_subplot(111)\n",
    "pos = [i + 1 for i in range(10)] \n",
    "ticks = [str(e) for e in pos]\n",
    "ax.set_xscale('log')\n",
    "ax.set_xticks(pos)\n",
    "ax.set_xticklabels(ticks)\n",
    "plt.xlabel(\"Average Number of Labels\")\n",
    "plt.ylabel(\"Hellinger Distance\")\n",
    "plt.legend(loc = 'best')\n",
    "plt.grid(which = 'both')\n",
    "\n",
    "plt.plot(lnums, hell_d, color = 'b', label = \"tsallis\")\n",
    "plt.plot([k + 1 for k in range(9)], topk_hell_values[::-1], color = 'r', label = \"top-k\")\n",
    "fig.savefig(\"tsallis-vs-top-k_mnist.pdf\")"
   ]
  },
  {
   "cell_type": "markdown",
   "metadata": {},
   "source": [
    "# 10 classes, Hellinger distance, Fashion-MNIST"
   ]
  },
  {
   "cell_type": "code",
   "execution_count": 82,
   "metadata": {},
   "outputs": [],
   "source": [
    "from keras.datasets import fashion_mnist\n",
    "# loading fashion MNIST\n",
    "(train_images, train_labels), (test_images, test_labels) = fashion_mnist.load_data()\n",
    "train_imgs = np.array([x.ravel() for x in train_images])\n",
    "test_imgs = np.array([y.ravel() for y in test_images])"
   ]
  },
  {
   "cell_type": "markdown",
   "metadata": {},
   "source": [
    "### q = -10, -1.0, -0.5, -0.1, 0, 0.1, 1.0 "
   ]
  },
  {
   "cell_type": "code",
   "execution_count": 55,
   "metadata": {},
   "outputs": [
    {
     "name": "stderr",
     "output_type": "stream",
     "text": [
      "/home/k.goto/.pyenv/versions/3.6.4/lib/python3.6/site-packages/ipykernel_launcher.py:3: RuntimeWarning: overflow encountered in power\n",
      "  This is separate from the ipykernel package so we can avoid doing imports until\n",
      "/home/k.goto/.pyenv/versions/3.6.4/lib/python3.6/site-packages/ipykernel_launcher.py:5: RuntimeWarning: overflow encountered in power\n",
      "  \"\"\"\n"
     ]
    },
    {
     "name": "stdout",
     "output_type": "stream",
     "text": [
      "[7.39, 5.648, 3.759, 1.646, 1.2905, 1.1935, 1.07]\n",
      "[33.81488149888806, 31.831040140800596, 27.610787797775682, 12.068380301185307, 3.06998522427623, 1.5501536602583712, 3.2000566804065045]\n"
     ]
    }
   ],
   "source": [
    "# main measurement\n",
    "from math import isnan # for shannon\n",
    "\n",
    "classes = [i for i in range(10)]\n",
    "orig_A1, lim_A1 = 2000, 2000\n",
    "fact_10 = factorial(10)\n",
    "\n",
    "q_list = [-10, -1.0, -0.5, -0.1, 0, 0.1, 1]\n",
    "results = [info_trans_scoring(q, classes, orig_A1, lim_A1, dataset) for q in q_list]\n",
    "\n",
    "lnums = [e[0] for e in results]\n",
    "hell_values = [e[1] for e in results]\n",
    "print(lnums)\n",
    "print(hell_values)"
   ]
  },
  {
   "cell_type": "markdown",
   "metadata": {},
   "source": [
    "### q = +inf (Top-1)"
   ]
  },
  {
   "cell_type": "code",
   "execution_count": 56,
   "metadata": {},
   "outputs": [
    {
     "name": "stdout",
     "output_type": "stream",
     "text": [
      "(1.0, 4.162116489974839)\n"
     ]
    }
   ],
   "source": [
    "# main measurement\n",
    "classes = [i for i in range(10)]\n",
    "orig_A1, lim_A1 = 2000, 2000\n",
    "fact_10 = factorial(10)\n",
    "dataset = \"fmnist\"\n",
    "\n",
    "print(info_trans_scoring_2(1, classes, orig_A1, lim_A1, dataset))"
   ]
  },
  {
   "cell_type": "markdown",
   "metadata": {},
   "source": [
    "### q = -inf (Top-9)"
   ]
  },
  {
   "cell_type": "code",
   "execution_count": 57,
   "metadata": {},
   "outputs": [
    {
     "name": "stdout",
     "output_type": "stream",
     "text": [
      "(9.0, 35.141002116644025)\n"
     ]
    }
   ],
   "source": [
    "print(info_trans_scoring_2(9, classes, orig_A1, lim_A1, dataset))"
   ]
  },
  {
   "cell_type": "markdown",
   "metadata": {},
   "source": [
    "## Tsallis"
   ]
  },
  {
   "cell_type": "code",
   "execution_count": 81,
   "metadata": {},
   "outputs": [],
   "source": [
    "print([35.141002116644025, 33.81488149888806, 31.831040140800596, 27.610787797775682, 12.068380301185307, 3.06998522427623, 1.5501536602583712, 3.2000566804065045, 4.162116489974839], sep = \"\\n\", file = codecs.open(\"for_icmla2.txt\", 'a', 'utf-8'))\n",
    "print([9.0, 7.39, 5.648, 3.759, 1.646, 1.2905, 1.1935, 1.07, 1.0], sep = \"\\n\", file = codecs.open(\"for_icmla2.txt\", 'a', 'utf-8'))"
   ]
  },
  {
   "cell_type": "markdown",
   "metadata": {},
   "source": [
    "## Top-k"
   ]
  },
  {
   "cell_type": "code",
   "execution_count": 83,
   "metadata": {},
   "outputs": [],
   "source": [
    "# main measurement\n",
    "classes = [i for i in range(10)]\n",
    "orig_A1, lim_A1 = 2000, 2000\n",
    "fact_10 = factorial(10)\n",
    "dataset = \"fmnist\"\n",
    "\n",
    "topk_results = [info_trans_scoring_2(k, classes, orig_A1, lim_A1, dataset) for k in range(9, 0, -1)]\n",
    "print([e[0] for e in topk_results], sep = \"\\n\", file = codecs.open(\"for_icmla2.txt\", 'a', 'utf-8'))\n",
    "print([e[1] for e in topk_results], sep = \"\\n\", file = codecs.open(\"for_icmla2.txt\", 'a', 'utf-8'))"
   ]
  },
  {
   "cell_type": "markdown",
   "metadata": {},
   "source": [
    "## tsallis vs top-k (f_MNIST)"
   ]
  },
  {
   "cell_type": "code",
   "execution_count": 70,
   "metadata": {},
   "outputs": [
    {
     "name": "stderr",
     "output_type": "stream",
     "text": [
      "W0708 16:49:18.819157 139760905914176 legend.py:1282] No handles with labels found to put in legend.\n"
     ]
    },
    {
     "data": {
      "image/png": "[encoded data removed]",
      "text/plain": [
       "<Figure size 432x288 with 1 Axes>"
      ]
     },
     "metadata": {
      "needs_background": "light"
     },
     "output_type": "display_data"
    }
   ],
   "source": [
    "fig = plt.figure()\n",
    "ax = fig.add_subplot(111)\n",
    "pos = [i + 1 for i in range(10)] \n",
    "ticks = [str(e) for e in pos]\n",
    "ax.set_xscale('log')\n",
    "ax.set_xticks(pos)\n",
    "ax.set_xticklabels(ticks)\n",
    "plt.xlabel(\"Average Number of Labels\")\n",
    "plt.ylabel(\"Hellinger Distance\")\n",
    "plt.legend(loc = 'best')\n",
    "plt.grid(which = 'both')\n",
    "\n",
    "plt.plot(lnums, hell_d, color = 'b', label = \"tsallis\")\n",
    "plt.plot([k + 1 for k in range(9)], topk_hell_values[::-1], color = 'r', label = \"top-k\")\n",
    "fig.savefig(\"tsallis-vs-top-k_fmnist.pdf\")"
   ]
  },
  {
   "cell_type": "markdown",
   "metadata": {},
   "source": [
    "# merging graphs (groups by labelling method)"
   ]
  },
  {
   "cell_type": "code",
   "execution_count": 102,
   "metadata": {},
   "outputs": [],
   "source": [
    "with open(\"for_icmla2.txt\") as f:\n",
    "    l = f.readlines()\n",
    "    \n",
    "# MNIST\n",
    "lnums_mnist = eval(l[1])\n",
    "hell_d_mnist = [e/2000 for e in eval(l[2])]\n",
    "topk_lnums_mnist = eval(l[4])\n",
    "topk_hell_d_mnist = [e/2000 for e in eval(l[5])]\n",
    "# f_MNIST\n",
    "lnums_fmnist = eval(l[7])\n",
    "hell_d_fmnist = [e/2000 for e in eval(l[8])]\n",
    "topk_lnums_fmnist = eval(l[10])\n",
    "topk_hell_d_fmnist = eval(l[11])"
   ]
  },
  {
   "cell_type": "code",
   "execution_count": 118,
   "metadata": {},
   "outputs": [
    {
     "name": "stderr",
     "output_type": "stream",
     "text": [
      "/home/k.goto/.pyenv/versions/3.6.4/lib/python3.6/site-packages/ipykernel_launcher.py:45: UserWarning: You have mixed positional and keyword arguments, some input may be discarded.\n"
     ]
    },
    {
     "data": {
      "image/png": "[encoded data removed]",
      "text/plain": [
       "<Figure size 648x360 with 2 Axes>"
      ]
     },
     "metadata": {
      "needs_background": "light"
     },
     "output_type": "display_data"
    }
   ],
   "source": [
    "fig = plt.figure(figsize = (9, 5))\n",
    "ax1 = fig.add_subplot(1, 2, 1)\n",
    "ax2 = fig.add_subplot(1, 2, 2)\n",
    "\n",
    "FONTSIZE = 14\n",
    "\n",
    "pos = [i + 1 for i in range(10)] \n",
    "ticks = [str(e) for e in pos]\n",
    "\n",
    "# for MNIST\n",
    "ax1.set_xscale('log')\n",
    "ax1.set_xticks(pos)\n",
    "ax1.set_xticklabels(ticks)\n",
    "\n",
    "ax1.set_xlabel(\"Average Number of Labels\", fontsize = FONTSIZE)\n",
    "ax1.set_ylabel(\"Hellinger Distance\", fontsize = FONTSIZE)\n",
    "ax1.grid(which = 'both')\n",
    "\n",
    "l1 = ax1.plot(lnums_mnist, hell_d_mnist, marker = 'o', color = 'tab:blue')\n",
    "l2 = ax1.plot(topk_lnums_mnist, topk_hell_d_mnist, marker = 'x', color = 'tab:red')\n",
    "\n",
    "ax1.set_title(\"(a). MNIST\", fontsize = FONTSIZE)\n",
    "\n",
    "# for f_MNIST\n",
    "ax2.set_xscale('log')\n",
    "ax2.set_xticks(pos)\n",
    "ax2.set_xticklabels(ticks)\n",
    "\n",
    "ax2.set_xlabel(\"Average Number of Labels\", fontsize = FONTSIZE)\n",
    "ax2.set_ylabel(\"Hellinger Distance\", fontsize = FONTSIZE)\n",
    "ax2.grid(which = 'both')\n",
    "\n",
    "l3 = ax2.plot(lnums_mnist, hell_d_mnist, marker = 'o', color = 'tab:blue')\n",
    "l4 = ax2.plot(topk_lnums_mnist, topk_hell_d_mnist, marker = 'x', color = 'tab:red')\n",
    "\n",
    "ax2.set_title(\"(b). Fashion MNIST\", fontsize = FONTSIZE)\n",
    "\n",
    "labels = [\"tsallis\", \"top-k\", \"tsallis\", \"top-k\"]\n",
    "\n",
    "fig.legend([l1, l2, l3, l4],     # The line objects\n",
    "           labels = labels,   # The labels for each line\n",
    "           fontsize = 12,\n",
    "           loc = \"lower center\",   # Position of legend\n",
    "           borderaxespad = 0.1,    # Small spacing around legend box\n",
    "           ncol = 2)\n",
    "\n",
    "fig.tight_layout()\n",
    "plt.subplots_adjust(bottom = 0.22)\n",
    "\n",
    "fig.savefig(\"tsallis-vs-top-k_hellinger.pdf\")"
   ]
  },
  {
   "cell_type": "code",
   "execution_count": null,
   "metadata": {},
   "outputs": [],
   "source": []
  },
  {
   "cell_type": "code",
   "execution_count": null,
   "metadata": {},
   "outputs": [],
   "source": []
  },
  {
   "cell_type": "code",
   "execution_count": null,
   "metadata": {},
   "outputs": [],
   "source": []
  },
  {
   "cell_type": "code",
   "execution_count": null,
   "metadata": {},
   "outputs": [],
   "source": []
  },
  {
   "cell_type": "code",
   "execution_count": null,
   "metadata": {},
   "outputs": [],
   "source": []
  },
  {
   "cell_type": "code",
   "execution_count": null,
   "metadata": {},
   "outputs": [],
   "source": []
  },
  {
   "cell_type": "code",
   "execution_count": null,
   "metadata": {},
   "outputs": [],
   "source": []
  },
  {
   "cell_type": "code",
   "execution_count": null,
   "metadata": {},
   "outputs": [],
   "source": []
  }
 ],
 "metadata": {
  "kernelspec": {
   "display_name": "Python 3",
   "language": "python",
   "name": "python3"
  },
  "language_info": {
   "codemirror_mode": {
    "name": "ipython",
    "version": 3
   },
   "file_extension": ".py",
   "mimetype": "text/x-python",
   "name": "python",
   "nbconvert_exporter": "python",
   "pygments_lexer": "ipython3",
   "version": "3.6.4"
  }
 },
 "nbformat": 4,
 "nbformat_minor": 2
}
