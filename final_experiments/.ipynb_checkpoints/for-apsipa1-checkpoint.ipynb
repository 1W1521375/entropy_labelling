{
 "cells": [
  {
   "cell_type": "code",
   "execution_count": 1,
   "metadata": {},
   "outputs": [
    {
     "name": "stderr",
     "output_type": "stream",
     "text": [
      "Using TensorFlow backend.\n"
     ]
    }
   ],
   "source": [
    "import matplotlib as mpl\n",
    "import matplotlib.pyplot as plt\n",
    "import matplotlib.cm as cm\n",
    "import numpy as np\n",
    "from sklearn.metrics import accuracy_score\n",
    "from sklearn.linear_model import LogisticRegression as LR\n",
    "from keras.datasets import mnist\n",
    "import itertools\n",
    "import codecs"
   ]
  },
  {
   "cell_type": "code",
   "execution_count": 22,
   "metadata": {},
   "outputs": [
    {
     "name": "stdout",
     "output_type": "stream",
     "text": [
      "[0, 0, 0, 0, 0, 0, 0, 0, 2000]\n",
      "[8, 55, 204, 370, 455, 440, 282, 152, 34]\n",
      "[138, 441, 557, 457, 262, 109, 25, 7, 4]\n",
      "[638, 780, 406, 139, 30, 4, 2, 1, 0]\n",
      "[1233, 623, 128, 15, 1, 0, 0, 0, 0]\n",
      "[1589, 377, 32, 2, 0, 0, 0, 0, 0]\n",
      "[1714, 268, 17, 1, 0, 0, 0, 0, 0]\n",
      "[1803, 188, 9, 0, 0, 0, 0, 0, 0]\n",
      "[1862, 133, 5, 0, 0, 0, 0, 0, 0]\n",
      "[1903, 93, 4, 0, 0, 0, 0, 0, 0]\n",
      "[2000, 0, 0, 0, 0, 0, 0, 0, 0]\n"
     ]
    }
   ],
   "source": [
    "with open(\"tsallis_log.txt\") as f:\n",
    "    l = f.readlines()\n",
    "\n",
    "for x in [e for e in range(1, 23, 2)]:\n",
    "    all_labels = eval(l[x])\n",
    "\n",
    "    count = [0 for _ in range(9)]\n",
    "    for labels in all_labels:\n",
    "        n = len(labels)\n",
    "        count[n - 1] += 1\n",
    "\n",
    "    print(count)"
   ]
  },
  {
   "cell_type": "code",
   "execution_count": null,
   "metadata": {},
   "outputs": [],
   "source": []
  }
 ],
 "metadata": {
  "kernelspec": {
   "display_name": "Python 3",
   "language": "python",
   "name": "python3"
  },
  "language_info": {
   "codemirror_mode": {
    "name": "ipython",
    "version": 3
   },
   "file_extension": ".py",
   "mimetype": "text/x-python",
   "name": "python",
   "nbconvert_exporter": "python",
   "pygments_lexer": "ipython3",
   "version": "3.6.4"
  }
 },
 "nbformat": 4,
 "nbformat_minor": 2
}
