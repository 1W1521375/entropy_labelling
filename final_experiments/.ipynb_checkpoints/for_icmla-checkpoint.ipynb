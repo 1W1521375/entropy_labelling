{
 "cells": [
  {
   "cell_type": "markdown",
   "metadata": {},
   "source": [
    "# 10 classes, Hellinger distance, MNIST"
   ]
  },
  {
   "cell_type": "code",
   "execution_count": 1,
   "metadata": {},
   "outputs": [
    {
     "name": "stderr",
     "output_type": "stream",
     "text": [
      "Using TensorFlow backend.\n"
     ]
    }
   ],
   "source": [
    "import matplotlib as mpl\n",
    "import matplotlib.pyplot as plt\n",
    "import numpy as np\n",
    "from sklearn.metrics import accuracy_score\n",
    "from sklearn.linear_model import LogisticRegression as LR\n",
    "from keras.datasets import mnist\n",
    "import itertools\n",
    "import codecs\n",
    "# import warnings filter\n",
    "from warnings import simplefilter\n",
    "# ignore all future warnings\n",
    "simplefilter(action = 'ignore', category = FutureWarning)"
   ]
  },
  {
   "cell_type": "code",
   "execution_count": 2,
   "metadata": {},
   "outputs": [],
   "source": [
    "def factorial(n):\n",
    "    if n == 0:\n",
    "        return 1\n",
    "    elif n > 0:\n",
    "        return n*factorial(n - 1)"
   ]
  },
  {
   "cell_type": "code",
   "execution_count": 3,
   "metadata": {},
   "outputs": [],
   "source": [
    "# entropy labelling\n",
    "def tsallis_label(q, probas, s_cls):\n",
    "    elements = np.power(probas, q - 1)\n",
    "    # thrshld in tsallis entropy model\n",
    "    ts_thrshld = np.sum(np.power(probas, q))\n",
    "    if q < 1:\n",
    "        labels = [s_cls[i] for i, e in enumerate(elements) if e < ts_thrshld]\n",
    "    else:\n",
    "        labels = [s_cls[i] for i, e in enumerate(elements) if e > ts_thrshld]\n",
    "    return labels"
   ]
  },
  {
   "cell_type": "code",
   "execution_count": 12,
   "metadata": {},
   "outputs": [],
   "source": [
    "# 1/M labelling\n",
    "def oneMth_label(probas, s_cls):\n",
    "    # 1/M\n",
    "    thrshld = 1/len(s_cls)\n",
    "    labels = [s_cls[i] for i, pk in enumerate(probas) if pk > thrshld]\n",
    "    return labels"
   ]
  },
  {
   "cell_type": "code",
   "execution_count": 16,
   "metadata": {},
   "outputs": [],
   "source": [
    "def shannon_label(probas, s_cls):\n",
    "    info_con = (-1)*np.log2(probas)\n",
    "    # entropy\n",
    "    Hp = np.sum(np.multiply(probas, info_con))\n",
    "    if isnan(Hp):\n",
    "        labels = [s_cls[np.argmax(probas)]]\n",
    "    else:\n",
    "        labels = [s_cls[i] for i, Ipk in enumerate(info_con) if Ipk <= Hp]\n",
    "    return labels"
   ]
  },
  {
   "cell_type": "code",
   "execution_count": 9,
   "metadata": {},
   "outputs": [],
   "source": [
    "# labelling and evaluating them\n",
    "def info_trans_scoring(q, classes, orig_A, lim_A):\n",
    "    s_cls = classes\n",
    "\n",
    "    # extract dataset of chosen classes\n",
    "    trn_imgs = [img for i, img in enumerate(train_imgs) if train_labels[i] in s_cls]\n",
    "    trn_labels = [label for label in train_labels if label in s_cls]\n",
    "\n",
    "    # generate an annotator\n",
    "    a1_model = LR().fit(trn_imgs[:orig_A], trn_labels[:orig_A])\n",
    "    a1_probas = a1_model.predict_proba(trn_imgs[orig_A:orig_A + lim_A])\n",
    "\n",
    "    # labelling\n",
    "    if (q == 0): # 1/M\n",
    "        mul_labels = [oneMth_label(probas, s_cls) for probas in a1_probas]\n",
    "    elif (q == 1): # shannon\n",
    "        mul_labels = [shannon_label(probas, s_cls) for probas in a1_probas]\n",
    "    else: # regular tsallis\n",
    "        mul_labels = [tsallis_label(q, probas, s_cls) for probas in a1_probas]\n",
    "    \n",
    "    # scoring info transmission\n",
    "    score = 0\n",
    "    for labels, probas in zip(mul_labels, a1_probas):\n",
    "        u_dist = 1/len(labels)\n",
    "        for label in labels:\n",
    "            score += np.power((np.sqrt(probas[s_cls.index(label)]) - np.sqrt(u_dist)), 2)\n",
    "    \n",
    "    return np.sqrt(score)/np.sqrt(2)"
   ]
  },
  {
   "cell_type": "code",
   "execution_count": 10,
   "metadata": {},
   "outputs": [],
   "source": [
    "# loading MNIST\n",
    "(train_images, train_labels), (test_images, test_labels) = mnist.load_data()\n",
    "train_imgs = np.array([x.ravel() for x in train_images])\n",
    "test_imgs = np.array([y.ravel() for y in test_images])"
   ]
  },
  {
   "cell_type": "markdown",
   "metadata": {},
   "source": [
    "### q = -1.0, -0.1, 0, 0.1, 1.0 "
   ]
  },
  {
   "cell_type": "code",
   "execution_count": 18,
   "metadata": {},
   "outputs": [
    {
     "name": "stdout",
     "output_type": "stream",
     "text": [
      "[31.515281268279736, 9.885849848745657, 2.567830217165451, 1.4024960668440367, 2.9529449627044273]\n"
     ]
    }
   ],
   "source": [
    "# main measurement\n",
    "from math import isnan # for shannon\n",
    "\n",
    "classes = [i for i in range(10)]\n",
    "orig_A1, lim_A1 = 2000, 2000\n",
    "fact_10 = factorial(10)\n",
    "\n",
    "q_list = [-1.0, -0.1, 0, 0.1, 1]\n",
    "results = [info_trans_scoring(q, classes, orig_A1, lim_A1) for q in q_list]\n",
    "print(results)"
   ]
  },
  {
   "cell_type": "markdown",
   "metadata": {},
   "source": [
    "### q = +inf (Top-1)"
   ]
  },
  {
   "cell_type": "code",
   "execution_count": 19,
   "metadata": {},
   "outputs": [],
   "source": [
    "# top-k labelling\n",
    "def topk_label(probas, s_cls, k):\n",
    "    l_indexes = probas.argsort()[::-1][:k]\n",
    "    labels = [s_cls[i] for i in l_indexes]\n",
    "    return labels\n",
    "\n",
    "# labelling and evaluating them\n",
    "def info_trans_scoring_2(k, classes, orig_A, lim_A):\n",
    "    s_cls = classes\n",
    "\n",
    "    # extract dataset of chosen classes\n",
    "    trn_imgs = [img for i, img in enumerate(train_imgs) if train_labels[i] in s_cls]\n",
    "    trn_labels = [label for label in train_labels if label in s_cls]\n",
    "\n",
    "    # generate an annotator\n",
    "    a1_model = LR().fit(trn_imgs[:orig_A], trn_labels[:orig_A])\n",
    "    a1_probas = a1_model.predict_proba(trn_imgs[orig_A:orig_A + lim_A])\n",
    "\n",
    "    # entropy labelling\n",
    "    mul_labels = [topk_label(probas, s_cls, k) for probas in a1_probas]\n",
    "    \n",
    "    # scoring info transmission\n",
    "    score = 0\n",
    "    for labels, probas in zip(mul_labels, a1_probas):\n",
    "        u_dist = 1/len(labels)\n",
    "        for label in labels:\n",
    "            score += np.power((np.sqrt(probas[s_cls.index(label)]) - np.sqrt(u_dist)), 2)\n",
    "    \n",
    "    return np.sqrt(score)/np.sqrt(2)"
   ]
  },
  {
   "cell_type": "code",
   "execution_count": 20,
   "metadata": {},
   "outputs": [
    {
     "name": "stdout",
     "output_type": "stream",
     "text": [
      "3.7107261746317772\n"
     ]
    }
   ],
   "source": [
    "# main measurement\n",
    "classes = [i for i in range(10)]\n",
    "orig_A1, lim_A1 = 2000, 2000\n",
    "fact_10 = factorial(10)\n",
    "\n",
    "print(info_trans_scoring_2(1, classes, orig_A1, lim_A1))"
   ]
  },
  {
   "cell_type": "markdown",
   "metadata": {},
   "source": [
    "### q = -inf (Top-9)"
   ]
  },
  {
   "cell_type": "code",
   "execution_count": 21,
   "metadata": {},
   "outputs": [
    {
     "name": "stdout",
     "output_type": "stream",
     "text": [
      "35.43164316829221\n"
     ]
    }
   ],
   "source": [
    "print(info_trans_scoring_2(9, classes, orig_A1, lim_A1))"
   ]
  },
  {
   "cell_type": "markdown",
   "metadata": {},
   "source": [
    "## Tsallis graph"
   ]
  },
  {
   "cell_type": "code",
   "execution_count": 22,
   "metadata": {},
   "outputs": [
    {
     "data": {
      "text/plain": [
       "<BarContainer object of 7 artists>"
      ]
     },
     "execution_count": 22,
     "metadata": {},
     "output_type": "execute_result"
    },
    {
     "data": {
      "image/png": "[encoded data removed]",
      "text/plain": [
       "<Figure size 432x288 with 1 Axes>"
      ]
     },
     "metadata": {
      "needs_background": "light"
     },
     "output_type": "display_data"
    }
   ],
   "source": [
    "hell_d = [35.43164316829221, 31.515281268279736, 9.885849848745657, 2.567830217165451, 1.4024960668440367, 2.9529449627044273, 3.7107261746317772]\n",
    "q_list = [\"-inf\", \"-1.0\", \"-0.1\", \"0\", \"0.1\", \"1.0\", \"+inf\"]\n",
    "plt.bar(q_list, hell_d)"
   ]
  },
  {
   "cell_type": "markdown",
   "metadata": {},
   "source": [
    "## Top-k graph"
   ]
  },
  {
   "cell_type": "code",
   "execution_count": 25,
   "metadata": {},
   "outputs": [
    {
     "data": {
      "text/plain": [
       "<BarContainer object of 9 artists>"
      ]
     },
     "execution_count": 25,
     "metadata": {},
     "output_type": "execute_result"
    },
    {
     "data": {
      "image/png": "[encoded data removed]",
      "text/plain": [
       "<Figure size 432x288 with 1 Axes>"
      ]
     },
     "metadata": {
      "needs_background": "light"
     },
     "output_type": "display_data"
    }
   ],
   "source": [
    "# main measurement\n",
    "classes = [i for i in range(10)]\n",
    "orig_A1, lim_A1 = 2000, 2000\n",
    "fact_10 = factorial(10)\n",
    "\n",
    "topk_hell_d = [info_trans_scoring_2(k, classes, orig_A1, lim_A1) for k in range(9, 0, -1)]\n",
    "\n",
    "plt.bar([str(k) for k in range(9, 0, -1)], topk_hell_d)"
   ]
  },
  {
   "cell_type": "markdown",
   "metadata": {},
   "source": [
    "# 10 classes, Hellinger distance, Fashion-MNIST"
   ]
  },
  {
   "cell_type": "code",
   "execution_count": 27,
   "metadata": {},
   "outputs": [],
   "source": [
    "from keras.datasets import fashion_mnist\n",
    "# loading fashion MNIST\n",
    "(train_images, train_labels), (test_images, test_labels) = fashion_mnist.load_data()\n",
    "train_imgs = np.array([x.ravel() for x in train_images])\n",
    "test_imgs = np.array([y.ravel() for y in test_images])"
   ]
  },
  {
   "cell_type": "markdown",
   "metadata": {},
   "source": [
    "### q = -1.0, -0.1, 0, 0.1, 1.0 "
   ]
  },
  {
   "cell_type": "code",
   "execution_count": null,
   "metadata": {},
   "outputs": [],
   "source": [
    "# main measurement\n",
    "from math import isnan # for shannon\n",
    "\n",
    "classes = [i for i in range(10)]\n",
    "orig_A1, lim_A1 = 2000, 2000\n",
    "fact_10 = factorial(10)\n",
    "\n",
    "q_list = [-1.0, -0.1, 0, 0.1, 1]\n",
    "results = [info_trans_scoring(q, classes, orig_A1, lim_A1) for q in q_list]\n",
    "print(results)"
   ]
  },
  {
   "cell_type": "markdown",
   "metadata": {},
   "source": [
    "max iterを300にしないととか，fashion mnistはちょっとだけ変える必要あり　別ファイルでやるか"
   ]
  },
  {
   "cell_type": "code",
   "execution_count": null,
   "metadata": {},
   "outputs": [],
   "source": []
  },
  {
   "cell_type": "code",
   "execution_count": null,
   "metadata": {},
   "outputs": [],
   "source": []
  },
  {
   "cell_type": "code",
   "execution_count": null,
   "metadata": {},
   "outputs": [],
   "source": []
  }
 ],
 "metadata": {
  "kernelspec": {
   "display_name": "Python 3",
   "language": "python",
   "name": "python3"
  },
  "language_info": {
   "codemirror_mode": {
    "name": "ipython",
    "version": 3
   },
   "file_extension": ".py",
   "mimetype": "text/x-python",
   "name": "python",
   "nbconvert_exporter": "python",
   "pygments_lexer": "ipython3",
   "version": "3.6.4"
  }
 },
 "nbformat": 4,
 "nbformat_minor": 2
}
