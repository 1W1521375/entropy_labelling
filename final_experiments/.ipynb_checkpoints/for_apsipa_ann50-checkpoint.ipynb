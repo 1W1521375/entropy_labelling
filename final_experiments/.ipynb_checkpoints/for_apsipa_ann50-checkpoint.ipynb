{
 "cells": [
  {
   "cell_type": "markdown",
   "metadata": {},
   "source": [
    "# ann's ability: around 50%"
   ]
  },
  {
   "cell_type": "code",
   "execution_count": 1,
   "metadata": {},
   "outputs": [
    {
     "name": "stderr",
     "output_type": "stream",
     "text": [
      "Using TensorFlow backend.\n"
     ]
    }
   ],
   "source": [
    "import matplotlib as mpl\n",
    "import matplotlib.pyplot as plt\n",
    "import matplotlib.cm as cm\n",
    "import numpy as np\n",
    "from sklearn.metrics import accuracy_score\n",
    "from sklearn.linear_model import LogisticRegression as LR\n",
    "from keras.datasets import mnist\n",
    "import itertools\n",
    "import codecs\n",
    "# import warnings filter\n",
    "from warnings import simplefilter\n",
    "# ignore all future warnings\n",
    "simplefilter(action = 'ignore', category = FutureWarning)"
   ]
  },
  {
   "cell_type": "code",
   "execution_count": 2,
   "metadata": {},
   "outputs": [],
   "source": [
    "def factorial(n):\n",
    "    if n == 0:\n",
    "        return 1\n",
    "    elif n > 0:\n",
    "        return n*factorial(n - 1)"
   ]
  },
  {
   "cell_type": "code",
   "execution_count": 3,
   "metadata": {},
   "outputs": [],
   "source": [
    "# entropy labelling\n",
    "def tsallis_label(q, probas, s_cls):\n",
    "    elements = np.power(probas, q - 1)\n",
    "    # thrshld in tsallis entropy model\n",
    "    ts_thrshld = np.sum(np.power(probas, q))\n",
    "    if q < 1:\n",
    "        labels = [s_cls[i] for i, e in enumerate(elements) if e < ts_thrshld]\n",
    "    else:\n",
    "        labels = [s_cls[i] for i, e in enumerate(elements) if e > ts_thrshld]\n",
    "    return labels"
   ]
  },
  {
   "cell_type": "code",
   "execution_count": 4,
   "metadata": {},
   "outputs": [],
   "source": [
    "# labelling and evaluating them\n",
    "def info_trans_scoring_1(q, classes, orig_A, lim_A):\n",
    "    s_cls = classes\n",
    "\n",
    "    # extract dataset of chosen classes\n",
    "    trn_imgs = [img for i, img in enumerate(train_imgs) if train_labels[i] in s_cls]\n",
    "    trn_labels = [label for label in train_labels if label in s_cls]\n",
    "\n",
    "    # generate an annotator\n",
    "    a1_model = LR().fit(trn_imgs[:orig_A], trn_labels[:orig_A])\n",
    "    a1_probas = a1_model.predict_proba(trn_imgs[orig_A:orig_A + lim_A])\n",
    "\n",
    "    # entropy labelling\n",
    "    mul_labels = [tsallis_label(q, probas, s_cls) for probas in a1_probas]\n",
    "    \n",
    "    # scoring info transmission\n",
    "    score = 0\n",
    "    for labels, probas in zip(mul_labels, a1_probas):\n",
    "        u_dist = 1/len(labels)\n",
    "        for label in labels:\n",
    "            score += np.power(probas[label] - u_dist, 2)\n",
    "    \n",
    "    return score"
   ]
  },
  {
   "cell_type": "code",
   "execution_count": 5,
   "metadata": {},
   "outputs": [],
   "source": [
    "# loading MNIST\n",
    "(train_images, train_labels), (test_images, test_labels) = mnist.load_data()\n",
    "train_imgs = np.array([x.ravel() for x in train_images])\n",
    "test_imgs = np.array([y.ravel() for y in test_images])\n",
    "img_SIZE = train_images.shape[1]*train_images.shape[2]"
   ]
  },
  {
   "cell_type": "markdown",
   "metadata": {},
   "source": [
    "### q = -1.0, -0.1, 1.0 "
   ]
  },
  {
   "cell_type": "code",
   "execution_count": 6,
   "metadata": {},
   "outputs": [
    {
     "name": "stdout",
     "output_type": "stream",
     "text": [
      "[734.8100436233303, 105.0516037621649, 39.65038061550317]\n"
     ]
    }
   ],
   "source": [
    "# main measurement\n",
    "classes = [i for i in range(10)]\n",
    "orig_A1, lim_A1 = 15, 2000\n",
    "\n",
    "fact_10 = factorial(10)\n",
    "\n",
    "q_list = [-1.0, -0.1, 0.1]\n",
    "\n",
    "results = [info_trans_scoring_1(q, classes, orig_A1, lim_A1) for q in q_list]\n",
    "print(results)"
   ]
  },
  {
   "cell_type": "markdown",
   "metadata": {},
   "source": [
    "### q = 0 (1/M)"
   ]
  },
  {
   "cell_type": "code",
   "execution_count": 7,
   "metadata": {},
   "outputs": [],
   "source": [
    "# 1/M labelling\n",
    "def oneMth_label(probas, s_cls):\n",
    "    # 1/M\n",
    "    thrshld = 1/len(s_cls)\n",
    "    labels = [s_cls[i] for i, pk in enumerate(probas) if pk > thrshld]\n",
    "    return labels\n",
    "\n",
    "# labelling and evaluating them\n",
    "def info_trans_scoring_2(classes, orig_A, lim_A):\n",
    "    s_cls = classes\n",
    "\n",
    "    # extract dataset of chosen classes\n",
    "    trn_imgs = [img for i, img in enumerate(train_imgs) if train_labels[i] in s_cls]\n",
    "    trn_labels = [label for label in train_labels if label in s_cls]\n",
    "\n",
    "    # generate an annotator\n",
    "    a1_model = LR().fit(trn_imgs[:orig_A], trn_labels[:orig_A])\n",
    "    a1_probas = a1_model.predict_proba(trn_imgs[orig_A:orig_A + lim_A])\n",
    "\n",
    "    # entropy labelling\n",
    "    mul_labels = [oneMth_label(probas, s_cls) for probas in a1_probas]\n",
    "    \n",
    "    # scoring info transmission\n",
    "    score = 0\n",
    "    for labels, probas in zip(mul_labels, a1_probas):\n",
    "        u_dist = 1/len(labels)\n",
    "        for label in labels:\n",
    "            score += np.power(probas[label] - u_dist, 2)\n",
    "    \n",
    "    return score"
   ]
  },
  {
   "cell_type": "code",
   "execution_count": 8,
   "metadata": {},
   "outputs": [
    {
     "name": "stdout",
     "output_type": "stream",
     "text": [
      "79.6596884188995\n"
     ]
    }
   ],
   "source": [
    "# main measurement\n",
    "classes = [i for i in range(10)]\n",
    "orig_A1, lim_A1 = 15, 2000\n",
    "\n",
    "fact_10 = factorial(10)\n",
    "\n",
    "print(info_trans_scoring_2(classes, orig_A1, lim_A1))"
   ]
  },
  {
   "cell_type": "markdown",
   "metadata": {},
   "source": [
    "### q = 1 (Shannon)"
   ]
  },
  {
   "cell_type": "code",
   "execution_count": 9,
   "metadata": {},
   "outputs": [],
   "source": [
    "def shannon_label(probas, s_cls):\n",
    "    info_con = (-1)*np.log2(probas)\n",
    "    # entropy\n",
    "    Hp = np.sum(np.multiply(probas, info_con))\n",
    "    if isnan(Hp):\n",
    "        labels = [s_cls[np.argmax(probas)]]\n",
    "    else:\n",
    "        labels = [s_cls[i] for i, Ipk in enumerate(info_con) if Ipk <= Hp]\n",
    "    return labels\n",
    "\n",
    "# labelling and evaluating them\n",
    "def info_trans_scoring_3(classes, orig_A, lim_A):\n",
    "    s_cls = classes\n",
    "\n",
    "    # extract dataset of chosen classes\n",
    "    trn_imgs = [img for i, img in enumerate(train_imgs) if train_labels[i] in s_cls]\n",
    "    trn_labels = [label for label in train_labels if label in s_cls]\n",
    "\n",
    "    # generate an annotator\n",
    "    a1_model = LR().fit(trn_imgs[:orig_A], trn_labels[:orig_A])\n",
    "    a1_probas = a1_model.predict_proba(trn_imgs[orig_A:orig_A + lim_A])\n",
    "\n",
    "    # entropy labelling\n",
    "    mul_labels = [shannon_label(probas, s_cls) for probas in a1_probas]\n",
    "    \n",
    "    # scoring info transmission\n",
    "    score = 0\n",
    "    for labels, probas in zip(mul_labels, a1_probas):\n",
    "        u_dist = 1/len(labels)\n",
    "        for label in labels:\n",
    "            score += np.power(probas[label] - u_dist, 2)\n",
    "    \n",
    "    return score"
   ]
  },
  {
   "cell_type": "code",
   "execution_count": 10,
   "metadata": {},
   "outputs": [
    {
     "name": "stdout",
     "output_type": "stream",
     "text": [
      "70.08784519019541\n"
     ]
    }
   ],
   "source": [
    "from math import isnan # necessary\n",
    "\n",
    "# main measurement\n",
    "classes = [i for i in range(10)]\n",
    "orig_A1, lim_A1 = 15, 2000\n",
    "\n",
    "fact_10 = factorial(10)\n",
    "\n",
    "print(info_trans_scoring_3(classes, orig_A1, lim_A1))"
   ]
  },
  {
   "cell_type": "markdown",
   "metadata": {},
   "source": [
    "### q = +inf (Top-1)"
   ]
  },
  {
   "cell_type": "code",
   "execution_count": 11,
   "metadata": {},
   "outputs": [],
   "source": [
    "# top-k labelling\n",
    "def topk_label(probas, s_cls, k):\n",
    "    l_indexes = probas.argsort()[::-1][:k]\n",
    "    labels = [s_cls[i] for i in l_indexes]\n",
    "    return labels\n",
    "\n",
    "# labelling and evaluating them\n",
    "def info_trans_scoring_4(k, classes, orig_A, lim_A):\n",
    "    s_cls = classes\n",
    "\n",
    "    # extract dataset of chosen classes\n",
    "    trn_imgs = [img for i, img in enumerate(train_imgs) if train_labels[i] in s_cls]\n",
    "    trn_labels = [label for label in train_labels if label in s_cls]\n",
    "\n",
    "    # generate an annotator\n",
    "    a1_model = LR().fit(trn_imgs[:orig_A], trn_labels[:orig_A])\n",
    "    a1_probas = a1_model.predict_proba(trn_imgs[orig_A:orig_A + lim_A])\n",
    "\n",
    "    # entropy labelling\n",
    "    mul_labels = [topk_label(probas, s_cls, k) for probas in a1_probas]\n",
    "    \n",
    "    # scoring info transmission\n",
    "    score = 0\n",
    "    for labels, probas in zip(mul_labels, a1_probas):\n",
    "        u_dist = 1/len(labels)\n",
    "        for label in labels:\n",
    "            score += np.power(probas[label] - u_dist, 2)\n",
    "    \n",
    "    return score"
   ]
  },
  {
   "cell_type": "code",
   "execution_count": 12,
   "metadata": {},
   "outputs": [
    {
     "name": "stdout",
     "output_type": "stream",
     "text": [
      "106.78990648910022\n"
     ]
    }
   ],
   "source": [
    "# main measurement\n",
    "classes = [i for i in range(10)]\n",
    "orig_A1, lim_A1 = 15, 2000\n",
    "\n",
    "fact_10 = factorial(10)\n",
    "\n",
    "print(info_trans_scoring_4(1, classes, orig_A1, lim_A1))"
   ]
  },
  {
   "cell_type": "markdown",
   "metadata": {},
   "source": [
    "### q = -inf (Top-9)"
   ]
  },
  {
   "cell_type": "code",
   "execution_count": 13,
   "metadata": {},
   "outputs": [
    {
     "name": "stdout",
     "output_type": "stream",
     "text": [
      "1356.6914111378092\n"
     ]
    }
   ],
   "source": [
    "print(info_trans_scoring_4(9, classes, orig_A1, lim_A1))"
   ]
  },
  {
   "cell_type": "markdown",
   "metadata": {},
   "source": [
    "### 上の結果ベタうちでまとめた"
   ]
  },
  {
   "cell_type": "code",
   "execution_count": 14,
   "metadata": {},
   "outputs": [],
   "source": [
    "scores = [1356.6914111378092, 734.8100436233303, 105.0516037621649, 79.6596884188995, 39.65038061550317, 70.08784519019541, 106.78990648910022]"
   ]
  },
  {
   "cell_type": "code",
   "execution_count": 15,
   "metadata": {},
   "outputs": [],
   "source": [
    "q_list = [\"-inf\", \"-1.0\", \"-0.1\", \"0\", \"0.1\", \"1.0\", \"+inf\"]"
   ]
  },
  {
   "cell_type": "code",
   "execution_count": 16,
   "metadata": {},
   "outputs": [
    {
     "data": {
      "text/plain": [
       "<BarContainer object of 7 artists>"
      ]
     },
     "execution_count": 16,
     "metadata": {},
     "output_type": "execute_result"
    },
    {
     "data": {
      "image/png": "[encoded data removed]",
      "text/plain": [
       "<Figure size 432x288 with 1 Axes>"
      ]
     },
     "metadata": {
      "needs_background": "light"
     },
     "output_type": "display_data"
    }
   ],
   "source": [
    "plt.bar(q_list, [s/20000 for s in scores])"
   ]
  },
  {
   "cell_type": "markdown",
   "metadata": {},
   "source": [
    "### Top-1 - Top-9"
   ]
  },
  {
   "cell_type": "code",
   "execution_count": 17,
   "metadata": {},
   "outputs": [],
   "source": [
    "# main measurement\n",
    "classes = [i for i in range(10)]\n",
    "orig_A1, lim_A1 = 15, 2000\n",
    "\n",
    "fact_10 = factorial(10)\n",
    "\n",
    "topk_scores = [info_trans_scoring_4(k, classes, orig_A1, lim_A1) for k in range(9, 0, -1)]"
   ]
  },
  {
   "cell_type": "code",
   "execution_count": 18,
   "metadata": {},
   "outputs": [
    {
     "data": {
      "text/plain": [
       "<BarContainer object of 9 artists>"
      ]
     },
     "execution_count": 18,
     "metadata": {},
     "output_type": "execute_result"
    },
    {
     "data": {
      "image/png": "[encoded data removed]",
      "text/plain": [
       "<Figure size 432x288 with 1 Axes>"
      ]
     },
     "metadata": {
      "needs_background": "light"
     },
     "output_type": "display_data"
    }
   ],
   "source": [
    "plt.bar([str(k) for k in range(9, 0, -1)], [s/20000 for s in topk_scores])"
   ]
  },
  {
   "cell_type": "code",
   "execution_count": null,
   "metadata": {},
   "outputs": [],
   "source": []
  }
 ],
 "metadata": {
  "kernelspec": {
   "display_name": "Python 3",
   "language": "python",
   "name": "python3"
  },
  "language_info": {
   "codemirror_mode": {
    "name": "ipython",
    "version": 3
   },
   "file_extension": ".py",
   "mimetype": "text/x-python",
   "name": "python",
   "nbconvert_exporter": "python",
   "pygments_lexer": "ipython3",
   "version": "3.6.4"
  }
 },
 "nbformat": 4,
 "nbformat_minor": 2
}
