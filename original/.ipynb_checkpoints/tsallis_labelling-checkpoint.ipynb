{
 "cells": [
  {
   "cell_type": "markdown",
   "metadata": {},
   "source": [
    "# Tsallis Entropy labelling"
   ]
  },
  {
   "cell_type": "code",
   "execution_count": 1,
   "metadata": {},
   "outputs": [
    {
     "name": "stderr",
     "output_type": "stream",
     "text": [
      "/home/killerqueen/.pyenv/versions/3.6.7/lib/python3.6/site-packages/pandas/compat/__init__.py:85: UserWarning: Could not import the lzma module. Your installed Python is incomplete. Attempting to use lzma compression will result in a RuntimeError.\n",
      "  warnings.warn(msg)\n"
     ]
    }
   ],
   "source": [
    "%matplotlib inline\n",
    "import matplotlib as mpl\n",
    "import matplotlib.pyplot as plt\n",
    "import numpy as np\n",
    "import pandas as pd\n",
    "from sklearn.metrics import accuracy_score\n",
    "from sklearn.linear_model import LogisticRegression as LR\n",
    "\n",
    "# import warnings filter\n",
    "from warnings import simplefilter\n",
    "# ignore all future warnings\n",
    "simplefilter(action = 'ignore', category = FutureWarning)"
   ]
  },
  {
   "cell_type": "code",
   "execution_count": 1,
   "metadata": {},
   "outputs": [],
   "source": [
    "def tsallis_label(q, probas, s_cls):\n",
    "    elements = np.power(probas, q - 1)\n",
    "    # thrshld in tsallis entropy model\n",
    "    ts_thrshld = np.sum(np.power(probas, q))\n",
    "    if q < 1:\n",
    "        labels = np.array([s_cls[i] for i, e in enumerate(elements) if e <= ts_thrshld])\n",
    "    else:\n",
    "        labels = np.array([s_cls[i] for i, e in enumerate(elements) if e >= ts_thrshld])\n",
    "    return labels"
   ]
  },
  {
   "cell_type": "markdown",
   "metadata": {},
   "source": [
    "#### ラベルづけからその正解率の評価まで行う関数"
   ]
  },
  {
   "cell_type": "code",
   "execution_count": 3,
   "metadata": {},
   "outputs": [],
   "source": [
    "# labelling and evaluating them\n",
    "def tsallis_ent_eval(q, orig_A, lim_A, dataset):\n",
    "\n",
    "    # generate an annotator\n",
    "    a1_model = LR().fit(train_imgs[:orig_A], train_labels[:orig_A])\n",
    "    acc = accuracy_score(test_labels, a1_model.predict(test_imgs))\n",
    "    print(f\"annotator's ability: {acc*100}[%]\")\n",
    "    \n",
    "    a1_proba = a1_model.predict_proba(train_imgs[orig_A:orig_A + lim_A])\n",
    "    # entropy labelling\n",
    "    mul_labels = [tsallis_ent_label(q, probas) for probas in a1_proba]\n",
    "    \n",
    "    # labels score evaluation\n",
    "    score = 0\n",
    "    for labels, t_label in zip(mul_labels, train_labels[orig_A:orig_A + lim_A]):\n",
    "        for l in labels:\n",
    "            if (l == t_label):\n",
    "                score += 1\n",
    "\n",
    "    m_labels = []\n",
    "    for labels in mul_labels:\n",
    "         [m_labels.append(l) for l in labels]                \n",
    "                    \n",
    "    return (len(m_labels)/lim_A, score*100/len(m_labels), score*100/lim_A)"
   ]
  },
  {
   "cell_type": "markdown",
   "metadata": {},
   "source": [
    "## MNIST"
   ]
  },
  {
   "cell_type": "code",
   "execution_count": 4,
   "metadata": {},
   "outputs": [
    {
     "name": "stderr",
     "output_type": "stream",
     "text": [
      "Using TensorFlow backend.\n"
     ]
    }
   ],
   "source": [
    "from keras.datasets import mnist\n",
    "\n",
    "(train_images, train_labels), (test_images, test_labels) = mnist.load_data()\n",
    "train_imgs = np.array([x.ravel() for x in train_images])\n",
    "test_imgs = np.array([y.ravel() for y in test_images])\n",
    "\n",
    "img_SIZE = train_images.shape[1]*train_images.shape[2]"
   ]
  },
  {
   "cell_type": "markdown",
   "metadata": {},
   "source": [
    "### labels evaluation"
   ]
  },
  {
   "cell_type": "code",
   "execution_count": 27,
   "metadata": {},
   "outputs": [
    {
     "name": "stdout",
     "output_type": "stream",
     "text": [
      "annotator's ability: 83.04[%]\n",
      "quality of labels generated: 82.30511716881875[%], 86.05[%](as groups)\n",
      "average number of labels per image: 1.0455\n"
     ]
    }
   ],
   "source": [
    "orig_A1, lim_A1 = 2000, 2000\n",
    "dataset = \"mnist\"\n",
    "q = 1.5\n",
    "(ave_l_num, labels_qual, labels_qual2) = tsallis_ent_eval(q, orig_A1, lim_A1, dataset)\n",
    "print(f\"quality of labels generated: {labels_qual}[%], {labels_qual2}[%](as groups)\")\n",
    "print(f\"average number of labels per image: {ave_l_num}\")"
   ]
  },
  {
   "cell_type": "markdown",
   "metadata": {},
   "source": [
    "## CIFAR 10"
   ]
  },
  {
   "cell_type": "code",
   "execution_count": 28,
   "metadata": {},
   "outputs": [
    {
     "name": "stdout",
     "output_type": "stream",
     "text": [
      "images shape transformation; (50000, 32, 32, 3) -> (50000, 3072)\n",
      "\n"
     ]
    }
   ],
   "source": [
    "from keras.datasets import cifar10\n",
    "\n",
    "(train_images, train_labels), (test_images, test_labels) = cifar10.load_data()\n",
    "\n",
    "# number of data samples\n",
    "train_N, test_N = train_images.shape[0], test_images.shape[0]\n",
    "# data normalisation and vecotrise\n",
    "train_imgs, test_imgs = train_images.reshape(train_N, -1)/255, test_images.reshape(test_N, -1)/255\n",
    "# labels ravel\n",
    "train_labels, test_labels = train_labels.ravel(), test_labels.ravel()\n",
    "\n",
    "img_SIZE = train_images.shape[1]*train_images.shape[2]*train_images.shape[3]\n",
    "\n",
    "# rgb画像なので，3つ組1つが各pixelの色(rgb値)を決める この3の一つ一つをチャンネルとよぶらしい\n",
    "# データの一つ一つは32x32x3の画像 -> ravelすることで32*32*3がフラットに\n",
    "# https://keras.io/datasets/\n",
    "print(f\"images shape transformation; {train_images.shape} -> {train_imgs.shape}\\n\")"
   ]
  },
  {
   "cell_type": "markdown",
   "metadata": {},
   "source": [
    "### labels evaluation"
   ]
  },
  {
   "cell_type": "code",
   "execution_count": 29,
   "metadata": {},
   "outputs": [
    {
     "name": "stdout",
     "output_type": "stream",
     "text": [
      "annotator's ability: 28.92[%]\n",
      "quality of labels generated: 26.071555083244775[%], 36.8[%](as groups)\n",
      "average number of labels per image: 1.4115\n"
     ]
    }
   ],
   "source": [
    "orig_A2, lim_A2 = 2000, 2000\n",
    "dataset = \"cifar10\"\n",
    "q = 3/2\n",
    "(ave_l_num, labels_qual, labels_qual2) = tsallis_ent_eval(q, orig_A2, lim_A2, dataset)\n",
    "print(f\"quality of labels generated: {labels_qual}[%], {labels_qual2}[%](as groups)\")\n",
    "print(f\"average number of labels per image: {ave_l_num}\")"
   ]
  },
  {
   "cell_type": "markdown",
   "metadata": {},
   "source": [
    "## CIFAR100"
   ]
  },
  {
   "cell_type": "code",
   "execution_count": 30,
   "metadata": {},
   "outputs": [],
   "source": [
    "from keras.datasets import cifar100\n",
    "\n",
    "(train_images, train_labels), (test_images, test_labels) = cifar100.load_data(label_mode = \"fine\")\n",
    "\n",
    "# number of data samples\n",
    "train_N, test_N = train_images.shape[0], test_images.shape[0]\n",
    "# data normalisation and vecotrise\n",
    "train_imgs, test_imgs = train_images.reshape(train_N, -1)/255, test_images.reshape(test_N, -1)/255\n",
    "# labels ravel\n",
    "train_labels, test_labels = train_labels.ravel(), test_labels.ravel()\n",
    "\n",
    "img_SIZE = train_images.shape[1]*train_images.shape[2]*train_images.shape[3]"
   ]
  },
  {
   "cell_type": "markdown",
   "metadata": {},
   "source": [
    "### labels evaluation"
   ]
  },
  {
   "cell_type": "code",
   "execution_count": 14,
   "metadata": {},
   "outputs": [
    {
     "name": "stdout",
     "output_type": "stream",
     "text": [
      "annotator's ability: 7.04[%]\n",
      "quality of labels generated: 3.8848631239935587[%], 19.3[%](as groups)\n",
      "average number of labels per image: 4.968\n"
     ]
    }
   ],
   "source": [
    "orig_A3, lim_A3 = 1000, 1000\n",
    "dataset = \"cifar100\"\n",
    "(ave_l_num, labels_qual, labels_qual2) = entropy_eval(orig_A3, lim_A3, dataset)\n",
    "print(f\"quality of labels generated: {labels_qual}[%], {labels_qual2}[%](as groups)\")\n",
    "print(f\"average number of labels per image: {ave_l_num}\")"
   ]
  }
 ],
 "metadata": {
  "kernelspec": {
   "display_name": "Python 3",
   "language": "python",
   "name": "python3"
  },
  "language_info": {
   "codemirror_mode": {
    "name": "ipython",
    "version": 3
   },
   "file_extension": ".py",
   "mimetype": "text/x-python",
   "name": "python",
   "nbconvert_exporter": "python",
   "pygments_lexer": "ipython3",
   "version": "3.6.7"
  }
 },
 "nbformat": 4,
 "nbformat_minor": 4
}
